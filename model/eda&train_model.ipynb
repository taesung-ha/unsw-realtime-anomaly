{
 "cells": [
  {
   "cell_type": "markdown",
   "id": "24da32f2",
   "metadata": {},
   "source": [
    "## Real-Time Cyber Attacks Detection using Streaming Isolation Forest\n",
    "- Traditional network traffic security systems have primarily relied on rule-based or signature-based Intrusion Detection Systems (IDS). However, in industrial environments such as the Industrial Internet of Things (IIoT), the increasing volume of high-speed, encrypted, and high-dimensional traffic has made it difficult for such methods to provide effective protection.\n",
    "\n",
    "- As a result, [machine learning techniques—particularly supervised learning models—have been increasingly applied in the cybersecurity domain](https://www.mdpi.com/1999-4893/18/4/209?utm_source=chatgpt.com), enabling the development of intelligent intrusion detection systems (IDS) capable of real-time anomaly detection and alert generation. While unsupervised methods such as Isolation Forest are widely used, this study instead leverages a supervised Random Forest approach, which is more appropriate given that most potential attack types are already labeled in the dataset, as discussed in the following EDA section.\n",
    "\n",
    "- Accordingly, this study places emphasis on not only training an effective Random Forest classifier, but also integrating it into an end-to-end real-time alert system suitable for production-level deployment."
   ]
  },
  {
   "cell_type": "markdown",
   "id": "beda8dd9",
   "metadata": {},
   "source": [
    "## Cyber attack data\n",
    "[The dataset utilized in this study](https://research.unsw.edu.au/projects/unsw-nb15-dataset) was curated by the University of New South Wales (UNSW), Australia, and originates from network traffic captured at the Cyber Range Lab of UNSW Canberra. It consists of two separate subsets for training and testing purposes, each containing labeled records that simulate a wide array of real-world cyber attacks.\n",
    "\n",
    "Specifically, the dataset encompasses nine distinct categories of malicious activity:\n",
    "\n",
    "- **Fuzzers**, which test system stability by injecting random or malformed inputs;\n",
    "\n",
    "- **Analysis**, where attackers probe and monitor systems to uncover exploitable weaknesses;\n",
    "\n",
    "- **Backdoors**, designed to establish hidden channels for future unauthorized access;\n",
    "\n",
    "- **Denial of Service (DoS)** attacks that aim to overload and disrupt system availability;\n",
    "\n",
    "- **Exploits**, which take advantage of known software or configuration vulnerabilities;\n",
    "\n",
    "- **Generic attacks**, a broad category for miscellaneous intrusion patterns;\n",
    "\n",
    "- **Reconnaissance**, involving systematic information gathering to map out potential targets;\n",
    "\n",
    "- **Shellcode**, where malicious code is executed directly on the host system;\n",
    "\n",
    "- And **Worms**, self-replicating programs that propagate across networks, often causing widespread disruption.\n",
    "\n",
    "Together, these attack types represent a diverse set of intrusion methods, making the dataset particularly valuable for training and evaluating anomaly detection systems in realistic threat environments.\n",
    "\n"
   ]
  },
  {
   "cell_type": "markdown",
   "id": "d090f638",
   "metadata": {},
   "source": [
    "## Import and Set up"
   ]
  },
  {
   "cell_type": "code",
   "execution_count": 130,
   "id": "26752eee",
   "metadata": {},
   "outputs": [
    {
     "data": {
      "text/html": [
       "<style>div.output_scroll { height: 35em; }</style>"
      ],
      "text/plain": [
       "<IPython.core.display.HTML object>"
      ]
     },
     "metadata": {},
     "output_type": "display_data"
    }
   ],
   "source": [
    "import numpy as np\n",
    "import pandas as pd\n",
    "\n",
    "from IPython.display import display, HTML\n",
    "import plotly.graph_objects as go\n",
    "import plotly.express as px\n",
    "from plotly.subplots import make_subplots\n",
    "import plotly.io as pio\n",
    "\n",
    "import seaborn as sns\n",
    "from importlib import reload\n",
    "import matplotlib.pyplot as plt\n",
    "import matplotlib\n",
    "import warnings\n",
    "\n",
    "# Configure Jupyter Notebook\n",
    "pd.set_option('display.max_columns', None) \n",
    "pd.set_option('display.max_rows', 500) \n",
    "pd.set_option('display.expand_frame_repr', False)\n",
    "# pd.set_option('max_colwidth', -1)\n",
    "display(HTML(\"<style>div.output_scroll { height: 35em; }</style>\"))\n",
    "\n",
    "reload(plt)\n",
    "%matplotlib inline\n",
    "%config InlineBackend.figure_format ='retina'\n",
    "\n",
    "warnings.filterwarnings('ignore')\n",
    "\n",
    "# configure plotly graph objects\n",
    "pio.renderers.default = 'browser'\n",
    "# pio.renderers.default = 'vscode'\n",
    "\n",
    "pio.templates[\"ck_template\"] = go.layout.Template(\n",
    "    layout_colorway = px.colors.sequential.Viridis, \n",
    "#     layout_hovermode = 'closest',\n",
    "#     layout_hoverdistance = -1,\n",
    "    layout_autosize=False,\n",
    "    layout_width=800,\n",
    "    layout_height=600,\n",
    "    layout_font = dict(family=\"Calibri Light\"),\n",
    "    layout_title_font = dict(family=\"Calibri\"),\n",
    "    layout_hoverlabel_font = dict(family=\"Calibri Light\"),\n",
    "#     plot_bgcolor=\"white\",\n",
    ")\n",
    " \n",
    "# pio.templates.default = 'seaborn+ck_template+gridon'\n",
    "pio.templates.default = 'ck_template+gridon'\n",
    "# pio.templates.default = 'seaborn+gridon'\n",
    "# pio.templates"
   ]
  },
  {
   "cell_type": "code",
   "execution_count": 131,
   "id": "6e29f1bd",
   "metadata": {},
   "outputs": [],
   "source": [
    "def reduce_column(s, to_keep):\n",
    "    '''\n",
    "    Reduces the string values found in a column\n",
    "    to the values provided in the list 'to_keep'.\n",
    "    ---\n",
    "    Input:\n",
    "        s: string\n",
    "        to_keep: list of strings\n",
    "    Returns:\n",
    "        string, s if s should be kept, else 'other'\n",
    "    '''\n",
    "    s = s.lower().strip()\n",
    "    if s not in to_keep:\n",
    "        return 'other'\n",
    "    else:\n",
    "        return s"
   ]
  },
  {
   "cell_type": "code",
   "execution_count": 132,
   "id": "46b88b7d",
   "metadata": {},
   "outputs": [],
   "source": [
    "df = pd.read_csv('../data/UNSW_NB15_training-set.csv')"
   ]
  },
  {
   "cell_type": "code",
   "execution_count": 133,
   "id": "63e609f6",
   "metadata": {},
   "outputs": [
    {
     "name": "stdout",
     "output_type": "stream",
     "text": [
      "<class 'pandas.core.frame.DataFrame'>\n",
      "RangeIndex: 175341 entries, 0 to 175340\n",
      "Data columns (total 45 columns):\n",
      " #   Column             Non-Null Count   Dtype  \n",
      "---  ------             --------------   -----  \n",
      " 0   id                 175341 non-null  int64  \n",
      " 1   dur                175341 non-null  float64\n",
      " 2   proto              175341 non-null  object \n",
      " 3   service            175341 non-null  object \n",
      " 4   state              175341 non-null  object \n",
      " 5   spkts              175341 non-null  int64  \n",
      " 6   dpkts              175341 non-null  int64  \n",
      " 7   sbytes             175341 non-null  int64  \n",
      " 8   dbytes             175341 non-null  int64  \n",
      " 9   rate               175341 non-null  float64\n",
      " 10  sttl               175341 non-null  int64  \n",
      " 11  dttl               175341 non-null  int64  \n",
      " 12  sload              175341 non-null  float64\n",
      " 13  dload              175341 non-null  float64\n",
      " 14  sloss              175341 non-null  int64  \n",
      " 15  dloss              175341 non-null  int64  \n",
      " 16  sinpkt             175341 non-null  float64\n",
      " 17  dinpkt             175341 non-null  float64\n",
      " 18  sjit               175341 non-null  float64\n",
      " 19  djit               175341 non-null  float64\n",
      " 20  swin               175341 non-null  int64  \n",
      " 21  stcpb              175341 non-null  int64  \n",
      " 22  dtcpb              175341 non-null  int64  \n",
      " 23  dwin               175341 non-null  int64  \n",
      " 24  tcprtt             175341 non-null  float64\n",
      " 25  synack             175341 non-null  float64\n",
      " 26  ackdat             175341 non-null  float64\n",
      " 27  smean              175341 non-null  int64  \n",
      " 28  dmean              175341 non-null  int64  \n",
      " 29  trans_depth        175341 non-null  int64  \n",
      " 30  response_body_len  175341 non-null  int64  \n",
      " 31  ct_srv_src         175341 non-null  int64  \n",
      " 32  ct_state_ttl       175341 non-null  int64  \n",
      " 33  ct_dst_ltm         175341 non-null  int64  \n",
      " 34  ct_src_dport_ltm   175341 non-null  int64  \n",
      " 35  ct_dst_sport_ltm   175341 non-null  int64  \n",
      " 36  ct_dst_src_ltm     175341 non-null  int64  \n",
      " 37  is_ftp_login       175341 non-null  int64  \n",
      " 38  ct_ftp_cmd         175341 non-null  int64  \n",
      " 39  ct_flw_http_mthd   175341 non-null  int64  \n",
      " 40  ct_src_ltm         175341 non-null  int64  \n",
      " 41  ct_srv_dst         175341 non-null  int64  \n",
      " 42  is_sm_ips_ports    175341 non-null  int64  \n",
      " 43  attack_cat         175341 non-null  object \n",
      " 44  label              175341 non-null  int64  \n",
      "dtypes: float64(11), int64(30), object(4)\n",
      "memory usage: 60.2+ MB\n"
     ]
    }
   ],
   "source": [
    "df.info()\n"
   ]
  },
  {
   "cell_type": "code",
   "execution_count": 143,
   "id": "03778390",
   "metadata": {},
   "outputs": [
    {
     "data": {
      "application/vnd.microsoft.datawrangler.viewer.v0+json": {
       "columns": [
        {
         "name": "proto",
         "rawType": "object",
         "type": "string"
        },
        {
         "name": "count",
         "rawType": "int64",
         "type": "integer"
        }
       ],
       "ref": "21f69903-20e0-4aff-af15-fcf8be458189",
       "rows": [
        [
         "tcp",
         "79946"
        ],
        [
         "udp",
         "63283"
        ],
        [
         "unas",
         "12084"
        ],
        [
         "arp",
         "2859"
        ],
        [
         "ospf",
         "2595"
        ],
        [
         "sctp",
         "1150"
        ],
        [
         "any",
         "300"
        ],
        [
         "gre",
         "225"
        ],
        [
         "sun-nd",
         "201"
        ],
        [
         "ipv6",
         "201"
        ],
        [
         "mobile",
         "201"
        ],
        [
         "swipe",
         "201"
        ],
        [
         "pim",
         "201"
        ],
        [
         "rsvp",
         "200"
        ],
        [
         "sep",
         "193"
        ],
        [
         "ib",
         "101"
        ],
        [
         "mtp",
         "100"
        ],
        [
         "skip",
         "100"
        ],
        [
         "merit-inp",
         "100"
        ],
        [
         "sps",
         "100"
        ],
        [
         "ptp",
         "100"
        ],
        [
         "fire",
         "100"
        ],
        [
         "smp",
         "100"
        ],
        [
         "isis",
         "100"
        ],
        [
         "pri-enc",
         "100"
        ],
        [
         "srp",
         "100"
        ],
        [
         "l2tp",
         "100"
        ],
        [
         "stp",
         "100"
        ],
        [
         "iatp",
         "100"
        ],
        [
         "vrrp",
         "100"
        ],
        [
         "compaq-peer",
         "100"
        ],
        [
         "ddp",
         "100"
        ],
        [
         "aris",
         "100"
        ],
        [
         "etherip",
         "100"
        ],
        [
         "scps",
         "100"
        ],
        [
         "qnx",
         "100"
        ],
        [
         "idpr",
         "100"
        ],
        [
         "larp",
         "100"
        ],
        [
         "sccopmce",
         "100"
        ],
        [
         "mhrp",
         "100"
        ],
        [
         "iplt",
         "100"
        ],
        [
         "crudp",
         "100"
        ],
        [
         "vines",
         "100"
        ],
        [
         "uti",
         "100"
        ],
        [
         "secure-vmtp",
         "100"
        ],
        [
         "visa",
         "100"
        ],
        [
         "ippc",
         "100"
        ],
        [
         "ddx",
         "100"
        ],
        [
         "tlsp",
         "100"
        ],
        [
         "ipip",
         "100"
        ]
       ],
       "shape": {
        "columns": 1,
        "rows": 133
       }
      },
      "text/plain": [
       "proto\n",
       "tcp            79946\n",
       "udp            63283\n",
       "unas           12084\n",
       "arp             2859\n",
       "ospf            2595\n",
       "sctp            1150\n",
       "any              300\n",
       "gre              225\n",
       "sun-nd           201\n",
       "ipv6             201\n",
       "mobile           201\n",
       "swipe            201\n",
       "pim              201\n",
       "rsvp             200\n",
       "sep              193\n",
       "ib               101\n",
       "mtp              100\n",
       "skip             100\n",
       "merit-inp        100\n",
       "sps              100\n",
       "ptp              100\n",
       "fire             100\n",
       "smp              100\n",
       "isis             100\n",
       "pri-enc          100\n",
       "srp              100\n",
       "l2tp             100\n",
       "stp              100\n",
       "iatp             100\n",
       "vrrp             100\n",
       "compaq-peer      100\n",
       "ddp              100\n",
       "aris             100\n",
       "etherip          100\n",
       "scps             100\n",
       "qnx              100\n",
       "idpr             100\n",
       "larp             100\n",
       "sccopmce         100\n",
       "mhrp             100\n",
       "iplt             100\n",
       "crudp            100\n",
       "vines            100\n",
       "uti              100\n",
       "secure-vmtp      100\n",
       "visa             100\n",
       "ippc             100\n",
       "ddx              100\n",
       "tlsp             100\n",
       "ipip             100\n",
       "sdrp             100\n",
       "ipx-n-ip         100\n",
       "i-nlsp           100\n",
       "a/n              100\n",
       "tp++             100\n",
       "ifmp             100\n",
       "encap            100\n",
       "micp             100\n",
       "ipv6-frag        100\n",
       "sm               100\n",
       "aes-sp3-d        100\n",
       "gmtp             100\n",
       "eigrp            100\n",
       "dgp              100\n",
       "wb-mon           100\n",
       "cpnx             100\n",
       "kryptolan        100\n",
       "wsn              100\n",
       "bna              100\n",
       "idrp             100\n",
       "ipv6-route       100\n",
       "sprite-rpc       100\n",
       "3pc              100\n",
       "mfe-nsp          100\n",
       "pvp              100\n",
       "il               100\n",
       "xtp              100\n",
       "iso-ip           100\n",
       "wb-expak         100\n",
       "cphb             100\n",
       "sat-mon          100\n",
       "ax.25            100\n",
       "vmtp             100\n",
       "ipv6-opts        100\n",
       "ipcomp           100\n",
       "nsfnet-igp       100\n",
       "tcf              100\n",
       "ttp              100\n",
       "br-sat-mon       100\n",
       "ipcv             100\n",
       "snp              100\n",
       "pnni             100\n",
       "sat-expak        100\n",
       "ipv6-no          100\n",
       "pipe             100\n",
       "fc               100\n",
       "narp             100\n",
       "cftp             100\n",
       "rvd              100\n",
       "zero             100\n",
       "idpr-cmtp        100\n",
       "pgm              100\n",
       "xns-idp           99\n",
       "dcn               99\n",
       "mux               99\n",
       "chaos             99\n",
       "prm               99\n",
       "trunk-1           99\n",
       "iso-tp4           99\n",
       "leaf-1            99\n",
       "leaf-2            99\n",
       "irtp              99\n",
       "trunk-2           99\n",
       "pup               99\n",
       "xnet              99\n",
       "cbt               99\n",
       "nvp               99\n",
       "st2               99\n",
       "crtp              99\n",
       "ggp               99\n",
       "ip                99\n",
       "igp               99\n",
       "ipnip             99\n",
       "emcon             99\n",
       "argus             98\n",
       "hmp               98\n",
       "bbn-rcc           98\n",
       "egp               98\n",
       "rdp               98\n",
       "netblt            98\n",
       "igmp              18\n",
       "icmp              15\n",
       "rtp                1\n",
       "Name: count, dtype: int64"
      ]
     },
     "execution_count": 143,
     "metadata": {},
     "output_type": "execute_result"
    }
   ],
   "source": [
    "df['proto'].value_counts()"
   ]
  },
  {
   "cell_type": "code",
   "execution_count": 142,
   "id": "669a8ede",
   "metadata": {},
   "outputs": [
    {
     "data": {
      "application/vnd.microsoft.datawrangler.viewer.v0+json": {
       "columns": [
        {
         "name": "dpkts",
         "rawType": "int64",
         "type": "integer"
        },
        {
         "name": "count",
         "rawType": "int64",
         "type": "integer"
        }
       ],
       "ref": "fdbadbc1-6125-4cb2-a4a2-c7aee23ce00d",
       "rows": [
        [
         "0",
         "84282"
        ],
        [
         "8",
         "17287"
        ],
        [
         "6",
         "12262"
        ],
        [
         "2",
         "9238"
        ],
        [
         "10",
         "6825"
        ],
        [
         "18",
         "6533"
        ],
        [
         "12",
         "4098"
        ],
        [
         "4",
         "3655"
        ],
        [
         "24",
         "2991"
        ],
        [
         "14",
         "2642"
        ],
        [
         "42",
         "2317"
        ],
        [
         "22",
         "2234"
        ],
        [
         "50",
         "1904"
        ],
        [
         "62",
         "1645"
        ],
        [
         "20",
         "1617"
        ],
        [
         "54",
         "1324"
        ],
        [
         "40",
         "1106"
        ],
        [
         "126",
         "1033"
        ],
        [
         "30",
         "919"
        ],
        [
         "74",
         "836"
        ],
        [
         "16",
         "828"
        ],
        [
         "26",
         "797"
        ],
        [
         "438",
         "537"
        ],
        [
         "66",
         "535"
        ],
        [
         "28",
         "502"
        ],
        [
         "70",
         "499"
        ],
        [
         "68",
         "495"
        ],
        [
         "36",
         "438"
        ],
        [
         "746",
         "423"
        ],
        [
         "92",
         "416"
        ],
        [
         "858",
         "308"
        ],
        [
         "86",
         "286"
        ],
        [
         "114",
         "249"
        ],
        [
         "38",
         "235"
        ],
        [
         "80",
         "228"
        ],
        [
         "44",
         "221"
        ],
        [
         "32",
         "220"
        ],
        [
         "34",
         "209"
        ],
        [
         "58",
         "199"
        ],
        [
         "52",
         "177"
        ],
        [
         "60",
         "161"
        ],
        [
         "48",
         "151"
        ],
        [
         "46",
         "144"
        ],
        [
         "64",
         "94"
        ],
        [
         "72",
         "94"
        ],
        [
         "116",
         "77"
        ],
        [
         "90",
         "77"
        ],
        [
         "56",
         "58"
        ],
        [
         "78",
         "49"
        ],
        [
         "388",
         "47"
        ]
       ],
       "shape": {
        "columns": 1,
        "rows": 443
       }
      },
      "text/plain": [
       "dpkts\n",
       "0        84282\n",
       "8        17287\n",
       "6        12262\n",
       "2         9238\n",
       "10        6825\n",
       "18        6533\n",
       "12        4098\n",
       "4         3655\n",
       "24        2991\n",
       "14        2642\n",
       "42        2317\n",
       "22        2234\n",
       "50        1904\n",
       "62        1645\n",
       "20        1617\n",
       "54        1324\n",
       "40        1106\n",
       "126       1033\n",
       "30         919\n",
       "74         836\n",
       "16         828\n",
       "26         797\n",
       "438        537\n",
       "66         535\n",
       "28         502\n",
       "70         499\n",
       "68         495\n",
       "36         438\n",
       "746        423\n",
       "92         416\n",
       "858        308\n",
       "86         286\n",
       "114        249\n",
       "38         235\n",
       "80         228\n",
       "44         221\n",
       "32         220\n",
       "34         209\n",
       "58         199\n",
       "52         177\n",
       "60         161\n",
       "48         151\n",
       "46         144\n",
       "64          94\n",
       "72          94\n",
       "116         77\n",
       "90          77\n",
       "56          58\n",
       "78          49\n",
       "388         47\n",
       "106         44\n",
       "124         41\n",
       "112         40\n",
       "84          39\n",
       "88          31\n",
       "512         31\n",
       "82          31\n",
       "122         31\n",
       "118         30\n",
       "76          29\n",
       "110         29\n",
       "94          29\n",
       "560         26\n",
       "164         24\n",
       "594         23\n",
       "162         22\n",
       "368         22\n",
       "682         22\n",
       "146         21\n",
       "148         20\n",
       "108         19\n",
       "510         19\n",
       "102         19\n",
       "100         18\n",
       "130         17\n",
       "104         17\n",
       "138         17\n",
       "400         17\n",
       "208         16\n",
       "120         15\n",
       "170         15\n",
       "234         14\n",
       "232         14\n",
       "128         14\n",
       "226         13\n",
       "300         13\n",
       "192         13\n",
       "238         13\n",
       "160         13\n",
       "806         12\n",
       "366         12\n",
       "156         12\n",
       "154         12\n",
       "98          11\n",
       "132         11\n",
       "96          11\n",
       "3           11\n",
       "158         11\n",
       "144         11\n",
       "248         10\n",
       "220         10\n",
       "236         10\n",
       "196         10\n",
       "340         10\n",
       "318          9\n",
       "362          9\n",
       "230          9\n",
       "152          9\n",
       "332          8\n",
       "286          8\n",
       "1            8\n",
       "754          8\n",
       "336          8\n",
       "204          8\n",
       "684          7\n",
       "172          7\n",
       "338          7\n",
       "210          7\n",
       "246          7\n",
       "142          7\n",
       "194          7\n",
       "334          7\n",
       "280          6\n",
       "200          6\n",
       "276          6\n",
       "136          6\n",
       "254          6\n",
       "364          6\n",
       "274          6\n",
       "800          6\n",
       "412          6\n",
       "188          6\n",
       "252          6\n",
       "374          6\n",
       "182          6\n",
       "278          5\n",
       "224          5\n",
       "370          5\n",
       "290          5\n",
       "304          5\n",
       "376          5\n",
       "272          5\n",
       "250          5\n",
       "140          5\n",
       "536          5\n",
       "242          5\n",
       "176          5\n",
       "292          5\n",
       "228          5\n",
       "398          5\n",
       "282          4\n",
       "358          4\n",
       "306          4\n",
       "206          4\n",
       "380          4\n",
       "174          4\n",
       "326          4\n",
       "178          4\n",
       "656          4\n",
       "372          4\n",
       "2748         4\n",
       "354          4\n",
       "386          4\n",
       "198          4\n",
       "184          4\n",
       "5254         4\n",
       "392          4\n",
       "310          4\n",
       "240          4\n",
       "324          4\n",
       "190          4\n",
       "268          4\n",
       "350          4\n",
       "444          3\n",
       "828          3\n",
       "394          3\n",
       "426          3\n",
       "352          3\n",
       "258          3\n",
       "270          3\n",
       "694          3\n",
       "446          3\n",
       "822          3\n",
       "166          3\n",
       "216          3\n",
       "422          3\n",
       "202          3\n",
       "816          3\n",
       "356          3\n",
       "320          3\n",
       "670          3\n",
       "618          3\n",
       "1216         3\n",
       "214          3\n",
       "312          3\n",
       "360          3\n",
       "264          3\n",
       "610          3\n",
       "298          3\n",
       "550          3\n",
       "432          3\n",
       "396          3\n",
       "134          3\n",
       "288          3\n",
       "472          3\n",
       "690          3\n",
       "328          3\n",
       "346          3\n",
       "222          3\n",
       "308          3\n",
       "802          3\n",
       "342          3\n",
       "556          2\n",
       "1502         2\n",
       "572          2\n",
       "698          2\n",
       "824          2\n",
       "1622         2\n",
       "668          2\n",
       "448          2\n",
       "570          2\n",
       "602          2\n",
       "652          2\n",
       "832          2\n",
       "1244         2\n",
       "818          2\n",
       "1418         2\n",
       "382          2\n",
       "686          2\n",
       "646          2\n",
       "1452         2\n",
       "568          2\n",
       "1048         2\n",
       "256          2\n",
       "1088         2\n",
       "474          2\n",
       "296          2\n",
       "492          2\n",
       "180          2\n",
       "566          2\n",
       "186          2\n",
       "878          2\n",
       "150          2\n",
       "696          2\n",
       "644          2\n",
       "1046         2\n",
       "592          2\n",
       "6494         2\n",
       "168          2\n",
       "514          2\n",
       "420          2\n",
       "1842         2\n",
       "564          2\n",
       "626          2\n",
       "244          2\n",
       "3350         2\n",
       "260          2\n",
       "1278         2\n",
       "2636         2\n",
       "212          2\n",
       "826          2\n",
       "808          2\n",
       "674          2\n",
       "558          2\n",
       "1382         2\n",
       "1078         2\n",
       "1434         2\n",
       "348          2\n",
       "612          2\n",
       "314          2\n",
       "1226         2\n",
       "608          2\n",
       "266          2\n",
       "1256         1\n",
       "3206         1\n",
       "322          1\n",
       "450          1\n",
       "330          1\n",
       "710          1\n",
       "964          1\n",
       "804          1\n",
       "576          1\n",
       "3696         1\n",
       "344          1\n",
       "1538         1\n",
       "2620         1\n",
       "552          1\n",
       "302          1\n",
       "3698         1\n",
       "1018         1\n",
       "404          1\n",
       "834          1\n",
       "1032         1\n",
       "986          1\n",
       "1632         1\n",
       "2002         1\n",
       "946          1\n",
       "724          1\n",
       "1796         1\n",
       "3036         1\n",
       "4476         1\n",
       "1114         1\n",
       "648          1\n",
       "4910         1\n",
       "792          1\n",
       "2306         1\n",
       "476          1\n",
       "434          1\n",
       "5276         1\n",
       "864          1\n",
       "1500         1\n",
       "692          1\n",
       "1310         1\n",
       "430          1\n",
       "1260         1\n",
       "294          1\n",
       "2014         1\n",
       "680          1\n",
       "466          1\n",
       "3314         1\n",
       "1160         1\n",
       "2642         1\n",
       "1644         1\n",
       "3604         1\n",
       "1364         1\n",
       "1388         1\n",
       "1222         1\n",
       "714          1\n",
       "1262         1\n",
       "642          1\n",
       "436          1\n",
       "2076         1\n",
       "1656         1\n",
       "520          1\n",
       "928          1\n",
       "762          1\n",
       "378          1\n",
       "1742         1\n",
       "688          1\n",
       "424          1\n",
       "1264         1\n",
       "384          1\n",
       "2004         1\n",
       "596          1\n",
       "1110         1\n",
       "1200         1\n",
       "462          1\n",
       "9660         1\n",
       "3664         1\n",
       "416          1\n",
       "9346         1\n",
       "4526         1\n",
       "1368         1\n",
       "1414         1\n",
       "702          1\n",
       "636          1\n",
       "650          1\n",
       "486          1\n",
       "1978         1\n",
       "4560         1\n",
       "860          1\n",
       "1250         1\n",
       "660          1\n",
       "2272         1\n",
       "1594         1\n",
       "5164         1\n",
       "528          1\n",
       "548          1\n",
       "1542         1\n",
       "732          1\n",
       "10974        1\n",
       "408          1\n",
       "1106         1\n",
       "814          1\n",
       "554          1\n",
       "588          1\n",
       "606          1\n",
       "1716         1\n",
       "2940         1\n",
       "402          1\n",
       "704          1\n",
       "810          1\n",
       "1084         1\n",
       "638          1\n",
       "748          1\n",
       "2150         1\n",
       "2588         1\n",
       "1036         1\n",
       "1530         1\n",
       "3402         1\n",
       "1234         1\n",
       "316          1\n",
       "562          1\n",
       "918          1\n",
       "616          1\n",
       "2786         1\n",
       "1154         1\n",
       "856          1\n",
       "1458         1\n",
       "6088         1\n",
       "1052         1\n",
       "700          1\n",
       "662          1\n",
       "798          1\n",
       "482          1\n",
       "586          1\n",
       "796          1\n",
       "1206         1\n",
       "544          1\n",
       "2144         1\n",
       "1174         1\n",
       "1272         1\n",
       "600          1\n",
       "664          1\n",
       "418          1\n",
       "1030         1\n",
       "4548         1\n",
       "1350         1\n",
       "468          1\n",
       "2646         1\n",
       "812          1\n",
       "1560         1\n",
       "428          1\n",
       "996          1\n",
       "516          1\n",
       "780          1\n",
       "1104         1\n",
       "6676         1\n",
       "624          1\n",
       "10850        1\n",
       "390          1\n",
       "4396         1\n",
       "1394         1\n",
       "490          1\n",
       "1998         1\n",
       "976          1\n",
       "862          1\n",
       "2630         1\n",
       "2612         1\n",
       "738          1\n",
       "4550         1\n",
       "716          1\n",
       "6994         1\n",
       "Name: count, dtype: int64"
      ]
     },
     "execution_count": 142,
     "metadata": {},
     "output_type": "execute_result"
    }
   ],
   "source": [
    "df['dpkts'].value_counts()"
   ]
  },
  {
   "cell_type": "markdown",
   "id": "64d53675",
   "metadata": {},
   "source": [
    "## Unusual Distribution for Anomaly Detection\n",
    "As you can see below, this dataset is intentionally imbalanced, with approximately 68% of the data labeled as anomalous. While this does not reflect real-world distributions (where anomalies are typically rare), such a configuration is useful for evaluating and comparing detection models under controlled conditions.\n",
    "\n"
   ]
  },
  {
   "cell_type": "code",
   "execution_count": null,
   "id": "fba78736",
   "metadata": {},
   "outputs": [],
   "source": [
    "sns.histplot(\n",
    "    data=df,             \n",
    "    x='label',         \n",
    "    bins=2,              \n",
    "    discrete=True,       \n",
    "    color='skyblue'     \n",
    ")\n",
    "\n",
    "plt.title('Histogram of Label (0: Normal, 1: Anomaly)') \n",
    "plt.xlabel('Label')                                    \n",
    "plt.ylabel('Count')                                    \n",
    "plt.xticks([0, 1])                                      \n",
    "\n",
    "plt.show()"
   ]
  },
  {
   "cell_type": "code",
   "execution_count": null,
   "id": "fb003067",
   "metadata": {},
   "outputs": [],
   "source": [
    "df.head(30)"
   ]
  },
  {
   "cell_type": "code",
   "execution_count": null,
   "id": "8b196e3a",
   "metadata": {},
   "outputs": [],
   "source": [
    "df.describe(include='all')"
   ]
  },
  {
   "cell_type": "code",
   "execution_count": 73,
   "id": "5fc42ff8",
   "metadata": {},
   "outputs": [
    {
     "name": "stdout",
     "output_type": "stream",
     "text": [
      "attack_cat\n",
      "Normal            56000\n",
      "Generic           40000\n",
      "Exploits          33393\n",
      "Fuzzers           18184\n",
      "DoS               12264\n",
      "Reconnaissance    10491\n",
      "Analysis           2000\n",
      "Backdoor           1746\n",
      "Shellcode          1133\n",
      "Worms               130\n",
      "Name: count, dtype: int64\n"
     ]
    },
    {
     "data": {
      "image/png": "[encoded data removed]",
      "text/plain": [
       "<Figure size 1500x800 with 1 Axes>"
      ]
     },
     "metadata": {
      "image/png": {
       "height": 636,
       "width": 938
      }
     },
     "output_type": "display_data"
    }
   ],
   "source": [
    "validAttacks = df['attack_cat'].value_counts()\n",
    "print(validAttacks)\n",
    "\n",
    "plt.figure(figsize = (15,8))\n",
    "plt.pie(validAttacks,labels = validAttacks.index, autopct = '%1.1f%%',explode = [0,0,0,0,0,0.2,0.2,0.2,0.2,1.2])\n",
    "plt.show()"
   ]
  },
  {
   "cell_type": "markdown",
   "id": "212ea795",
   "metadata": {},
   "source": [
    "## Pre-processing and Feature Selection\n",
    "As part of the pre-processing pipeline, several features were evaluated for potential removal to improve model performance and ensure generalizability.\n",
    "\n",
    "- The `id` column, which merely serves as a row index without offering any predictive value, was removed.\n",
    "\n",
    "- The `attack_cat` feature, while informative, is a categorical description derived directly from the target label. Including it would artificially inflate model accuracy without contributing to true generalization; thus, it was excluded.\n",
    "\n",
    "- Other features were analyzed for multicollinearity and excessive correlation. However, in the current version of the model, no additional features were dropped. Instead, the full set was retained to allow initial evaluation of the model’s performance before applying further dimensionality reduction or correlation-based filtering.\n",
    "\n"
   ]
  },
  {
   "cell_type": "code",
   "execution_count": 74,
   "id": "055844e9",
   "metadata": {},
   "outputs": [],
   "source": [
    "list_drop = ['id', 'attack_cat']"
   ]
  },
  {
   "cell_type": "code",
   "execution_count": 75,
   "id": "3a743f2d",
   "metadata": {},
   "outputs": [],
   "source": [
    "df.drop(list_drop, axis=1, inplace=True)"
   ]
  },
  {
   "cell_type": "markdown",
   "id": "58dca0c4",
   "metadata": {},
   "source": [
    "## Clamping Extreme Values\n",
    "To mitigate skewness in feature distributions, clamping was applied selectively to prune extreme values. Specifically, features whose maximum values exceeded ten times their median were identified as candidates for clamping. In such cases, values above the 95th percentile were capped at that threshold.\n",
    "\n",
    "However, care was taken to preserve meaningful variation in the data. If the 95th percentile was found to be too close to the maximum, clamping was avoided to retain potentially informative long-tail behavior. Additionally, features with smaller dynamic ranges or bimodal distributions were excluded from this transformation to prevent distortion of their underlying structure.\n",
    "\n",
    "This targeted approach helps reduce the impact of extreme outliers without compromising the integrity of features that carry important distributional signals.\n"
   ]
  },
  {
   "cell_type": "code",
   "execution_count": 76,
   "id": "b46d1f11",
   "metadata": {},
   "outputs": [
    {
     "data": {
      "application/vnd.microsoft.datawrangler.viewer.v0+json": {
       "columns": [
        {
         "name": "index",
         "rawType": "object",
         "type": "string"
        },
        {
         "name": "dur",
         "rawType": "float64",
         "type": "float"
        },
        {
         "name": "spkts",
         "rawType": "float64",
         "type": "float"
        },
        {
         "name": "dpkts",
         "rawType": "float64",
         "type": "float"
        },
        {
         "name": "sbytes",
         "rawType": "float64",
         "type": "float"
        },
        {
         "name": "dbytes",
         "rawType": "float64",
         "type": "float"
        },
        {
         "name": "rate",
         "rawType": "float64",
         "type": "float"
        },
        {
         "name": "sttl",
         "rawType": "float64",
         "type": "float"
        },
        {
         "name": "dttl",
         "rawType": "float64",
         "type": "float"
        },
        {
         "name": "sload",
         "rawType": "float64",
         "type": "float"
        },
        {
         "name": "dload",
         "rawType": "float64",
         "type": "float"
        },
        {
         "name": "sloss",
         "rawType": "float64",
         "type": "float"
        },
        {
         "name": "dloss",
         "rawType": "float64",
         "type": "float"
        },
        {
         "name": "sinpkt",
         "rawType": "float64",
         "type": "float"
        },
        {
         "name": "dinpkt",
         "rawType": "float64",
         "type": "float"
        },
        {
         "name": "sjit",
         "rawType": "float64",
         "type": "float"
        },
        {
         "name": "djit",
         "rawType": "float64",
         "type": "float"
        },
        {
         "name": "swin",
         "rawType": "float64",
         "type": "float"
        },
        {
         "name": "stcpb",
         "rawType": "float64",
         "type": "float"
        },
        {
         "name": "dtcpb",
         "rawType": "float64",
         "type": "float"
        },
        {
         "name": "dwin",
         "rawType": "float64",
         "type": "float"
        },
        {
         "name": "tcprtt",
         "rawType": "float64",
         "type": "float"
        },
        {
         "name": "synack",
         "rawType": "float64",
         "type": "float"
        },
        {
         "name": "ackdat",
         "rawType": "float64",
         "type": "float"
        },
        {
         "name": "smean",
         "rawType": "float64",
         "type": "float"
        },
        {
         "name": "dmean",
         "rawType": "float64",
         "type": "float"
        },
        {
         "name": "trans_depth",
         "rawType": "float64",
         "type": "float"
        },
        {
         "name": "response_body_len",
         "rawType": "float64",
         "type": "float"
        },
        {
         "name": "ct_srv_src",
         "rawType": "float64",
         "type": "float"
        },
        {
         "name": "ct_state_ttl",
         "rawType": "float64",
         "type": "float"
        },
        {
         "name": "ct_dst_ltm",
         "rawType": "float64",
         "type": "float"
        },
        {
         "name": "ct_src_dport_ltm",
         "rawType": "float64",
         "type": "float"
        },
        {
         "name": "ct_dst_sport_ltm",
         "rawType": "float64",
         "type": "float"
        },
        {
         "name": "ct_dst_src_ltm",
         "rawType": "float64",
         "type": "float"
        },
        {
         "name": "is_ftp_login",
         "rawType": "float64",
         "type": "float"
        },
        {
         "name": "ct_ftp_cmd",
         "rawType": "float64",
         "type": "float"
        },
        {
         "name": "ct_flw_http_mthd",
         "rawType": "float64",
         "type": "float"
        },
        {
         "name": "ct_src_ltm",
         "rawType": "float64",
         "type": "float"
        },
        {
         "name": "ct_srv_dst",
         "rawType": "float64",
         "type": "float"
        },
        {
         "name": "is_sm_ips_ports",
         "rawType": "float64",
         "type": "float"
        },
        {
         "name": "label",
         "rawType": "float64",
         "type": "float"
        }
       ],
       "ref": "30dbcf69-ce9b-4108-adda-d0b5673ac396",
       "rows": [
        [
         "count",
         "175341.0",
         "175341.0",
         "175341.0",
         "175341.0",
         "175341.0",
         "175341.0",
         "175341.0",
         "175341.0",
         "175341.0",
         "175341.0",
         "175341.0",
         "175341.0",
         "175341.0",
         "175341.0",
         "175341.0",
         "175341.0",
         "175341.0",
         "175341.0",
         "175341.0",
         "175341.0",
         "175341.0",
         "175341.0",
         "175341.0",
         "175341.0",
         "175341.0",
         "175341.0",
         "175341.0",
         "175341.0",
         "175341.0",
         "175341.0",
         "175341.0",
         "175341.0",
         "175341.0",
         "175341.0",
         "175341.0",
         "175341.0",
         "175341.0",
         "175341.0",
         "175341.0",
         "175341.0"
        ],
        [
         "mean",
         "1.3593886921256295",
         "20.29866374664226",
         "18.969590683297117",
         "8844.843835725815",
         "14928.918564397374",
         "95406.18710518941",
         "179.546996994428",
         "79.60956650184498",
         "73454033.19406255",
         "671205.5741883258",
         "4.953000153985662",
         "6.948009877895073",
         "985.9768636758545",
         "88.21629640844411",
         "4976.25422621193",
         "604.3538264155103",
         "116.25733855743951",
         "969250421.9105115",
         "968877027.0711528",
         "115.01362487952048",
         "0.04139564435585516",
         "0.021020450476500075",
         "0.020375193879355085",
         "136.7517694093224",
         "124.17338215249143",
         "0.10598205781876457",
         "2144.2916545474245",
         "9.306437170998226",
         "1.3041787146189425",
         "6.193936386811983",
         "5.383538362390998",
         "4.206255239789895",
         "8.729880632595913",
         "0.014948015581067748",
         "0.014948015581067748",
         "0.13306642485214526",
         "6.955789005423717",
         "9.100757951648502",
         "0.015752162928236977",
         "0.6806223302022916"
        ],
        [
         "std",
         "6.480248856652842",
         "136.88759690768774",
         "110.25827058162155",
         "174765.64430947448",
         "143654.2177178705",
         "165400.97845725933",
         "102.94001105701696",
         "110.50686317659952",
         "188357447.00020307",
         "2421312.388757486",
         "66.00505853508564",
         "52.73299929294158",
         "7242.245840957421",
         "987.0931947448008",
         "44965.84651918757",
         "4061.0432811266783",
         "127.00102415612092",
         "1355264249.263036",
         "1353999546.225652",
         "126.88652954242663",
         "0.0793539718267979",
         "0.04339978350809994",
         "0.040506355913428764",
         "204.67735958881985",
         "258.31705598827045",
         "0.7769107861776775",
         "54207.96729413286",
         "10.70433122059233",
         "0.9544060989961584",
         "8.052476384089168",
         "8.047104197483023",
         "5.783585061266456",
         "10.95618557595772",
         "0.1260480473850499",
         "0.1260480473850499",
         "0.701207606749996",
         "8.321492728163477",
         "10.75695199096367",
         "0.12451554406577864",
         "0.4662368642329751"
        ],
        [
         "min",
         "0.0",
         "1.0",
         "0.0",
         "28.0",
         "0.0",
         "0.0",
         "0.0",
         "0.0",
         "0.0",
         "0.0",
         "0.0",
         "0.0",
         "0.0",
         "0.0",
         "0.0",
         "0.0",
         "0.0",
         "0.0",
         "0.0",
         "0.0",
         "0.0",
         "0.0",
         "0.0",
         "28.0",
         "0.0",
         "0.0",
         "0.0",
         "1.0",
         "0.0",
         "1.0",
         "1.0",
         "1.0",
         "1.0",
         "0.0",
         "0.0",
         "0.0",
         "1.0",
         "1.0",
         "0.0",
         "0.0"
        ],
        [
         "25%",
         "8e-06",
         "2.0",
         "0.0",
         "114.0",
         "0.0",
         "32.78614",
         "62.0",
         "0.0",
         "13053.33887",
         "0.0",
         "0.0",
         "0.0",
         "0.008",
         "0.0",
         "0.0",
         "0.0",
         "0.0",
         "0.0",
         "0.0",
         "0.0",
         "0.0",
         "0.0",
         "0.0",
         "57.0",
         "0.0",
         "0.0",
         "0.0",
         "2.0",
         "1.0",
         "1.0",
         "1.0",
         "1.0",
         "1.0",
         "0.0",
         "0.0",
         "0.0",
         "2.0",
         "2.0",
         "0.0",
         "0.0"
        ],
        [
         "50%",
         "0.001582",
         "2.0",
         "2.0",
         "430.0",
         "164.0",
         "3225.80652",
         "254.0",
         "29.0",
         "879674.75",
         "1447.022705",
         "0.0",
         "0.0",
         "0.279733",
         "0.006",
         "0.0",
         "0.0",
         "0.0",
         "0.0",
         "0.0",
         "0.0",
         "0.0",
         "0.0",
         "0.0",
         "73.0",
         "44.0",
         "0.0",
         "0.0",
         "5.0",
         "1.0",
         "2.0",
         "1.0",
         "1.0",
         "3.0",
         "0.0",
         "0.0",
         "0.0",
         "3.0",
         "4.0",
         "0.0",
         "1.0"
        ],
        [
         "75%",
         "0.668069",
         "12.0",
         "10.0",
         "1418.0",
         "1102.0",
         "125000.0003",
         "254.0",
         "252.0",
         "88888888.0",
         "27844.87109",
         "3.0",
         "2.0",
         "55.156896",
         "51.053",
         "2513.295019",
         "114.990625",
         "255.0",
         "1916651334.0",
         "1913674673.0",
         "255.0",
         "0.065481",
         "0.023268",
         "0.038906",
         "100.0",
         "89.0",
         "0.0",
         "0.0",
         "12.0",
         "2.0",
         "7.0",
         "5.0",
         "3.0",
         "12.0",
         "0.0",
         "0.0",
         "0.0",
         "9.0",
         "12.0",
         "0.0",
         "1.0"
        ],
        [
         "max",
         "59.999989",
         "9616.0",
         "10974.0",
         "12965233.0",
         "14655550.0",
         "1000000.003",
         "255.0",
         "254.0",
         "5988000256.0",
         "22422730.0",
         "4803.0",
         "5484.0",
         "84371.496",
         "56716.824",
         "1460480.016",
         "289388.2697",
         "255.0",
         "4294958913.0",
         "4294881924.0",
         "255.0",
         "2.518893",
         "2.100352",
         "1.520884",
         "1504.0",
         "1458.0",
         "172.0",
         "6558056.0",
         "63.0",
         "6.0",
         "51.0",
         "51.0",
         "46.0",
         "65.0",
         "4.0",
         "4.0",
         "30.0",
         "60.0",
         "62.0",
         "1.0",
         "1.0"
        ]
       ],
       "shape": {
        "columns": 40,
        "rows": 8
       }
      },
      "text/html": [
       "<div>\n",
       "<style scoped>\n",
       "    .dataframe tbody tr th:only-of-type {\n",
       "        vertical-align: middle;\n",
       "    }\n",
       "\n",
       "    .dataframe tbody tr th {\n",
       "        vertical-align: top;\n",
       "    }\n",
       "\n",
       "    .dataframe thead th {\n",
       "        text-align: right;\n",
       "    }\n",
       "</style>\n",
       "<table border=\"1\" class=\"dataframe\">\n",
       "  <thead>\n",
       "    <tr style=\"text-align: right;\">\n",
       "      <th></th>\n",
       "      <th>dur</th>\n",
       "      <th>spkts</th>\n",
       "      <th>dpkts</th>\n",
       "      <th>sbytes</th>\n",
       "      <th>dbytes</th>\n",
       "      <th>rate</th>\n",
       "      <th>sttl</th>\n",
       "      <th>dttl</th>\n",
       "      <th>sload</th>\n",
       "      <th>dload</th>\n",
       "      <th>sloss</th>\n",
       "      <th>dloss</th>\n",
       "      <th>sinpkt</th>\n",
       "      <th>dinpkt</th>\n",
       "      <th>sjit</th>\n",
       "      <th>djit</th>\n",
       "      <th>swin</th>\n",
       "      <th>stcpb</th>\n",
       "      <th>dtcpb</th>\n",
       "      <th>dwin</th>\n",
       "      <th>tcprtt</th>\n",
       "      <th>synack</th>\n",
       "      <th>ackdat</th>\n",
       "      <th>smean</th>\n",
       "      <th>dmean</th>\n",
       "      <th>trans_depth</th>\n",
       "      <th>response_body_len</th>\n",
       "      <th>ct_srv_src</th>\n",
       "      <th>ct_state_ttl</th>\n",
       "      <th>ct_dst_ltm</th>\n",
       "      <th>ct_src_dport_ltm</th>\n",
       "      <th>ct_dst_sport_ltm</th>\n",
       "      <th>ct_dst_src_ltm</th>\n",
       "      <th>is_ftp_login</th>\n",
       "      <th>ct_ftp_cmd</th>\n",
       "      <th>ct_flw_http_mthd</th>\n",
       "      <th>ct_src_ltm</th>\n",
       "      <th>ct_srv_dst</th>\n",
       "      <th>is_sm_ips_ports</th>\n",
       "      <th>label</th>\n",
       "    </tr>\n",
       "  </thead>\n",
       "  <tbody>\n",
       "    <tr>\n",
       "      <th>count</th>\n",
       "      <td>175341.000000</td>\n",
       "      <td>175341.000000</td>\n",
       "      <td>175341.000000</td>\n",
       "      <td>1.753410e+05</td>\n",
       "      <td>1.753410e+05</td>\n",
       "      <td>1.753410e+05</td>\n",
       "      <td>175341.000000</td>\n",
       "      <td>175341.000000</td>\n",
       "      <td>1.753410e+05</td>\n",
       "      <td>1.753410e+05</td>\n",
       "      <td>175341.000000</td>\n",
       "      <td>175341.000000</td>\n",
       "      <td>175341.000000</td>\n",
       "      <td>175341.000000</td>\n",
       "      <td>1.753410e+05</td>\n",
       "      <td>175341.000000</td>\n",
       "      <td>175341.000000</td>\n",
       "      <td>1.753410e+05</td>\n",
       "      <td>1.753410e+05</td>\n",
       "      <td>175341.000000</td>\n",
       "      <td>175341.000000</td>\n",
       "      <td>175341.000000</td>\n",
       "      <td>175341.000000</td>\n",
       "      <td>175341.000000</td>\n",
       "      <td>175341.000000</td>\n",
       "      <td>175341.000000</td>\n",
       "      <td>1.753410e+05</td>\n",
       "      <td>175341.000000</td>\n",
       "      <td>175341.000000</td>\n",
       "      <td>175341.000000</td>\n",
       "      <td>175341.000000</td>\n",
       "      <td>175341.000000</td>\n",
       "      <td>175341.000000</td>\n",
       "      <td>175341.000000</td>\n",
       "      <td>175341.000000</td>\n",
       "      <td>175341.000000</td>\n",
       "      <td>175341.000000</td>\n",
       "      <td>175341.000000</td>\n",
       "      <td>175341.000000</td>\n",
       "      <td>175341.000000</td>\n",
       "    </tr>\n",
       "    <tr>\n",
       "      <th>mean</th>\n",
       "      <td>1.359389</td>\n",
       "      <td>20.298664</td>\n",
       "      <td>18.969591</td>\n",
       "      <td>8.844844e+03</td>\n",
       "      <td>1.492892e+04</td>\n",
       "      <td>9.540619e+04</td>\n",
       "      <td>179.546997</td>\n",
       "      <td>79.609567</td>\n",
       "      <td>7.345403e+07</td>\n",
       "      <td>6.712056e+05</td>\n",
       "      <td>4.953000</td>\n",
       "      <td>6.948010</td>\n",
       "      <td>985.976864</td>\n",
       "      <td>88.216296</td>\n",
       "      <td>4.976254e+03</td>\n",
       "      <td>604.353826</td>\n",
       "      <td>116.257339</td>\n",
       "      <td>9.692504e+08</td>\n",
       "      <td>9.688770e+08</td>\n",
       "      <td>115.013625</td>\n",
       "      <td>0.041396</td>\n",
       "      <td>0.021020</td>\n",
       "      <td>0.020375</td>\n",
       "      <td>136.751769</td>\n",
       "      <td>124.173382</td>\n",
       "      <td>0.105982</td>\n",
       "      <td>2.144292e+03</td>\n",
       "      <td>9.306437</td>\n",
       "      <td>1.304179</td>\n",
       "      <td>6.193936</td>\n",
       "      <td>5.383538</td>\n",
       "      <td>4.206255</td>\n",
       "      <td>8.729881</td>\n",
       "      <td>0.014948</td>\n",
       "      <td>0.014948</td>\n",
       "      <td>0.133066</td>\n",
       "      <td>6.955789</td>\n",
       "      <td>9.100758</td>\n",
       "      <td>0.015752</td>\n",
       "      <td>0.680622</td>\n",
       "    </tr>\n",
       "    <tr>\n",
       "      <th>std</th>\n",
       "      <td>6.480249</td>\n",
       "      <td>136.887597</td>\n",
       "      <td>110.258271</td>\n",
       "      <td>1.747656e+05</td>\n",
       "      <td>1.436542e+05</td>\n",
       "      <td>1.654010e+05</td>\n",
       "      <td>102.940011</td>\n",
       "      <td>110.506863</td>\n",
       "      <td>1.883574e+08</td>\n",
       "      <td>2.421312e+06</td>\n",
       "      <td>66.005059</td>\n",
       "      <td>52.732999</td>\n",
       "      <td>7242.245841</td>\n",
       "      <td>987.093195</td>\n",
       "      <td>4.496585e+04</td>\n",
       "      <td>4061.043281</td>\n",
       "      <td>127.001024</td>\n",
       "      <td>1.355264e+09</td>\n",
       "      <td>1.354000e+09</td>\n",
       "      <td>126.886530</td>\n",
       "      <td>0.079354</td>\n",
       "      <td>0.043400</td>\n",
       "      <td>0.040506</td>\n",
       "      <td>204.677360</td>\n",
       "      <td>258.317056</td>\n",
       "      <td>0.776911</td>\n",
       "      <td>5.420797e+04</td>\n",
       "      <td>10.704331</td>\n",
       "      <td>0.954406</td>\n",
       "      <td>8.052476</td>\n",
       "      <td>8.047104</td>\n",
       "      <td>5.783585</td>\n",
       "      <td>10.956186</td>\n",
       "      <td>0.126048</td>\n",
       "      <td>0.126048</td>\n",
       "      <td>0.701208</td>\n",
       "      <td>8.321493</td>\n",
       "      <td>10.756952</td>\n",
       "      <td>0.124516</td>\n",
       "      <td>0.466237</td>\n",
       "    </tr>\n",
       "    <tr>\n",
       "      <th>min</th>\n",
       "      <td>0.000000</td>\n",
       "      <td>1.000000</td>\n",
       "      <td>0.000000</td>\n",
       "      <td>2.800000e+01</td>\n",
       "      <td>0.000000e+00</td>\n",
       "      <td>0.000000e+00</td>\n",
       "      <td>0.000000</td>\n",
       "      <td>0.000000</td>\n",
       "      <td>0.000000e+00</td>\n",
       "      <td>0.000000e+00</td>\n",
       "      <td>0.000000</td>\n",
       "      <td>0.000000</td>\n",
       "      <td>0.000000</td>\n",
       "      <td>0.000000</td>\n",
       "      <td>0.000000e+00</td>\n",
       "      <td>0.000000</td>\n",
       "      <td>0.000000</td>\n",
       "      <td>0.000000e+00</td>\n",
       "      <td>0.000000e+00</td>\n",
       "      <td>0.000000</td>\n",
       "      <td>0.000000</td>\n",
       "      <td>0.000000</td>\n",
       "      <td>0.000000</td>\n",
       "      <td>28.000000</td>\n",
       "      <td>0.000000</td>\n",
       "      <td>0.000000</td>\n",
       "      <td>0.000000e+00</td>\n",
       "      <td>1.000000</td>\n",
       "      <td>0.000000</td>\n",
       "      <td>1.000000</td>\n",
       "      <td>1.000000</td>\n",
       "      <td>1.000000</td>\n",
       "      <td>1.000000</td>\n",
       "      <td>0.000000</td>\n",
       "      <td>0.000000</td>\n",
       "      <td>0.000000</td>\n",
       "      <td>1.000000</td>\n",
       "      <td>1.000000</td>\n",
       "      <td>0.000000</td>\n",
       "      <td>0.000000</td>\n",
       "    </tr>\n",
       "    <tr>\n",
       "      <th>25%</th>\n",
       "      <td>0.000008</td>\n",
       "      <td>2.000000</td>\n",
       "      <td>0.000000</td>\n",
       "      <td>1.140000e+02</td>\n",
       "      <td>0.000000e+00</td>\n",
       "      <td>3.278614e+01</td>\n",
       "      <td>62.000000</td>\n",
       "      <td>0.000000</td>\n",
       "      <td>1.305334e+04</td>\n",
       "      <td>0.000000e+00</td>\n",
       "      <td>0.000000</td>\n",
       "      <td>0.000000</td>\n",
       "      <td>0.008000</td>\n",
       "      <td>0.000000</td>\n",
       "      <td>0.000000e+00</td>\n",
       "      <td>0.000000</td>\n",
       "      <td>0.000000</td>\n",
       "      <td>0.000000e+00</td>\n",
       "      <td>0.000000e+00</td>\n",
       "      <td>0.000000</td>\n",
       "      <td>0.000000</td>\n",
       "      <td>0.000000</td>\n",
       "      <td>0.000000</td>\n",
       "      <td>57.000000</td>\n",
       "      <td>0.000000</td>\n",
       "      <td>0.000000</td>\n",
       "      <td>0.000000e+00</td>\n",
       "      <td>2.000000</td>\n",
       "      <td>1.000000</td>\n",
       "      <td>1.000000</td>\n",
       "      <td>1.000000</td>\n",
       "      <td>1.000000</td>\n",
       "      <td>1.000000</td>\n",
       "      <td>0.000000</td>\n",
       "      <td>0.000000</td>\n",
       "      <td>0.000000</td>\n",
       "      <td>2.000000</td>\n",
       "      <td>2.000000</td>\n",
       "      <td>0.000000</td>\n",
       "      <td>0.000000</td>\n",
       "    </tr>\n",
       "    <tr>\n",
       "      <th>50%</th>\n",
       "      <td>0.001582</td>\n",
       "      <td>2.000000</td>\n",
       "      <td>2.000000</td>\n",
       "      <td>4.300000e+02</td>\n",
       "      <td>1.640000e+02</td>\n",
       "      <td>3.225807e+03</td>\n",
       "      <td>254.000000</td>\n",
       "      <td>29.000000</td>\n",
       "      <td>8.796748e+05</td>\n",
       "      <td>1.447023e+03</td>\n",
       "      <td>0.000000</td>\n",
       "      <td>0.000000</td>\n",
       "      <td>0.279733</td>\n",
       "      <td>0.006000</td>\n",
       "      <td>0.000000e+00</td>\n",
       "      <td>0.000000</td>\n",
       "      <td>0.000000</td>\n",
       "      <td>0.000000e+00</td>\n",
       "      <td>0.000000e+00</td>\n",
       "      <td>0.000000</td>\n",
       "      <td>0.000000</td>\n",
       "      <td>0.000000</td>\n",
       "      <td>0.000000</td>\n",
       "      <td>73.000000</td>\n",
       "      <td>44.000000</td>\n",
       "      <td>0.000000</td>\n",
       "      <td>0.000000e+00</td>\n",
       "      <td>5.000000</td>\n",
       "      <td>1.000000</td>\n",
       "      <td>2.000000</td>\n",
       "      <td>1.000000</td>\n",
       "      <td>1.000000</td>\n",
       "      <td>3.000000</td>\n",
       "      <td>0.000000</td>\n",
       "      <td>0.000000</td>\n",
       "      <td>0.000000</td>\n",
       "      <td>3.000000</td>\n",
       "      <td>4.000000</td>\n",
       "      <td>0.000000</td>\n",
       "      <td>1.000000</td>\n",
       "    </tr>\n",
       "    <tr>\n",
       "      <th>75%</th>\n",
       "      <td>0.668069</td>\n",
       "      <td>12.000000</td>\n",
       "      <td>10.000000</td>\n",
       "      <td>1.418000e+03</td>\n",
       "      <td>1.102000e+03</td>\n",
       "      <td>1.250000e+05</td>\n",
       "      <td>254.000000</td>\n",
       "      <td>252.000000</td>\n",
       "      <td>8.888889e+07</td>\n",
       "      <td>2.784487e+04</td>\n",
       "      <td>3.000000</td>\n",
       "      <td>2.000000</td>\n",
       "      <td>55.156896</td>\n",
       "      <td>51.053000</td>\n",
       "      <td>2.513295e+03</td>\n",
       "      <td>114.990625</td>\n",
       "      <td>255.000000</td>\n",
       "      <td>1.916651e+09</td>\n",
       "      <td>1.913675e+09</td>\n",
       "      <td>255.000000</td>\n",
       "      <td>0.065481</td>\n",
       "      <td>0.023268</td>\n",
       "      <td>0.038906</td>\n",
       "      <td>100.000000</td>\n",
       "      <td>89.000000</td>\n",
       "      <td>0.000000</td>\n",
       "      <td>0.000000e+00</td>\n",
       "      <td>12.000000</td>\n",
       "      <td>2.000000</td>\n",
       "      <td>7.000000</td>\n",
       "      <td>5.000000</td>\n",
       "      <td>3.000000</td>\n",
       "      <td>12.000000</td>\n",
       "      <td>0.000000</td>\n",
       "      <td>0.000000</td>\n",
       "      <td>0.000000</td>\n",
       "      <td>9.000000</td>\n",
       "      <td>12.000000</td>\n",
       "      <td>0.000000</td>\n",
       "      <td>1.000000</td>\n",
       "    </tr>\n",
       "    <tr>\n",
       "      <th>max</th>\n",
       "      <td>59.999989</td>\n",
       "      <td>9616.000000</td>\n",
       "      <td>10974.000000</td>\n",
       "      <td>1.296523e+07</td>\n",
       "      <td>1.465555e+07</td>\n",
       "      <td>1.000000e+06</td>\n",
       "      <td>255.000000</td>\n",
       "      <td>254.000000</td>\n",
       "      <td>5.988000e+09</td>\n",
       "      <td>2.242273e+07</td>\n",
       "      <td>4803.000000</td>\n",
       "      <td>5484.000000</td>\n",
       "      <td>84371.496000</td>\n",
       "      <td>56716.824000</td>\n",
       "      <td>1.460480e+06</td>\n",
       "      <td>289388.269700</td>\n",
       "      <td>255.000000</td>\n",
       "      <td>4.294959e+09</td>\n",
       "      <td>4.294882e+09</td>\n",
       "      <td>255.000000</td>\n",
       "      <td>2.518893</td>\n",
       "      <td>2.100352</td>\n",
       "      <td>1.520884</td>\n",
       "      <td>1504.000000</td>\n",
       "      <td>1458.000000</td>\n",
       "      <td>172.000000</td>\n",
       "      <td>6.558056e+06</td>\n",
       "      <td>63.000000</td>\n",
       "      <td>6.000000</td>\n",
       "      <td>51.000000</td>\n",
       "      <td>51.000000</td>\n",
       "      <td>46.000000</td>\n",
       "      <td>65.000000</td>\n",
       "      <td>4.000000</td>\n",
       "      <td>4.000000</td>\n",
       "      <td>30.000000</td>\n",
       "      <td>60.000000</td>\n",
       "      <td>62.000000</td>\n",
       "      <td>1.000000</td>\n",
       "      <td>1.000000</td>\n",
       "    </tr>\n",
       "  </tbody>\n",
       "</table>\n",
       "</div>"
      ],
      "text/plain": [
       "                 dur          spkts          dpkts        sbytes        dbytes          rate           sttl           dttl         sload         dload          sloss          dloss         sinpkt         dinpkt          sjit           djit           swin         stcpb         dtcpb           dwin         tcprtt         synack         ackdat          smean          dmean    trans_depth  response_body_len     ct_srv_src   ct_state_ttl     ct_dst_ltm  ct_src_dport_ltm  ct_dst_sport_ltm  ct_dst_src_ltm   is_ftp_login     ct_ftp_cmd  ct_flw_http_mthd     ct_src_ltm     ct_srv_dst  is_sm_ips_ports          label\n",
       "count  175341.000000  175341.000000  175341.000000  1.753410e+05  1.753410e+05  1.753410e+05  175341.000000  175341.000000  1.753410e+05  1.753410e+05  175341.000000  175341.000000  175341.000000  175341.000000  1.753410e+05  175341.000000  175341.000000  1.753410e+05  1.753410e+05  175341.000000  175341.000000  175341.000000  175341.000000  175341.000000  175341.000000  175341.000000       1.753410e+05  175341.000000  175341.000000  175341.000000     175341.000000     175341.000000   175341.000000  175341.000000  175341.000000     175341.000000  175341.000000  175341.000000    175341.000000  175341.000000\n",
       "mean        1.359389      20.298664      18.969591  8.844844e+03  1.492892e+04  9.540619e+04     179.546997      79.609567  7.345403e+07  6.712056e+05       4.953000       6.948010     985.976864      88.216296  4.976254e+03     604.353826     116.257339  9.692504e+08  9.688770e+08     115.013625       0.041396       0.021020       0.020375     136.751769     124.173382       0.105982       2.144292e+03       9.306437       1.304179       6.193936          5.383538          4.206255        8.729881       0.014948       0.014948          0.133066       6.955789       9.100758         0.015752       0.680622\n",
       "std         6.480249     136.887597     110.258271  1.747656e+05  1.436542e+05  1.654010e+05     102.940011     110.506863  1.883574e+08  2.421312e+06      66.005059      52.732999    7242.245841     987.093195  4.496585e+04    4061.043281     127.001024  1.355264e+09  1.354000e+09     126.886530       0.079354       0.043400       0.040506     204.677360     258.317056       0.776911       5.420797e+04      10.704331       0.954406       8.052476          8.047104          5.783585       10.956186       0.126048       0.126048          0.701208       8.321493      10.756952         0.124516       0.466237\n",
       "min         0.000000       1.000000       0.000000  2.800000e+01  0.000000e+00  0.000000e+00       0.000000       0.000000  0.000000e+00  0.000000e+00       0.000000       0.000000       0.000000       0.000000  0.000000e+00       0.000000       0.000000  0.000000e+00  0.000000e+00       0.000000       0.000000       0.000000       0.000000      28.000000       0.000000       0.000000       0.000000e+00       1.000000       0.000000       1.000000          1.000000          1.000000        1.000000       0.000000       0.000000          0.000000       1.000000       1.000000         0.000000       0.000000\n",
       "25%         0.000008       2.000000       0.000000  1.140000e+02  0.000000e+00  3.278614e+01      62.000000       0.000000  1.305334e+04  0.000000e+00       0.000000       0.000000       0.008000       0.000000  0.000000e+00       0.000000       0.000000  0.000000e+00  0.000000e+00       0.000000       0.000000       0.000000       0.000000      57.000000       0.000000       0.000000       0.000000e+00       2.000000       1.000000       1.000000          1.000000          1.000000        1.000000       0.000000       0.000000          0.000000       2.000000       2.000000         0.000000       0.000000\n",
       "50%         0.001582       2.000000       2.000000  4.300000e+02  1.640000e+02  3.225807e+03     254.000000      29.000000  8.796748e+05  1.447023e+03       0.000000       0.000000       0.279733       0.006000  0.000000e+00       0.000000       0.000000  0.000000e+00  0.000000e+00       0.000000       0.000000       0.000000       0.000000      73.000000      44.000000       0.000000       0.000000e+00       5.000000       1.000000       2.000000          1.000000          1.000000        3.000000       0.000000       0.000000          0.000000       3.000000       4.000000         0.000000       1.000000\n",
       "75%         0.668069      12.000000      10.000000  1.418000e+03  1.102000e+03  1.250000e+05     254.000000     252.000000  8.888889e+07  2.784487e+04       3.000000       2.000000      55.156896      51.053000  2.513295e+03     114.990625     255.000000  1.916651e+09  1.913675e+09     255.000000       0.065481       0.023268       0.038906     100.000000      89.000000       0.000000       0.000000e+00      12.000000       2.000000       7.000000          5.000000          3.000000       12.000000       0.000000       0.000000          0.000000       9.000000      12.000000         0.000000       1.000000\n",
       "max        59.999989    9616.000000   10974.000000  1.296523e+07  1.465555e+07  1.000000e+06     255.000000     254.000000  5.988000e+09  2.242273e+07    4803.000000    5484.000000   84371.496000   56716.824000  1.460480e+06  289388.269700     255.000000  4.294959e+09  4.294882e+09     255.000000       2.518893       2.100352       1.520884    1504.000000    1458.000000     172.000000       6.558056e+06      63.000000       6.000000      51.000000         51.000000         46.000000       65.000000       4.000000       4.000000         30.000000      60.000000      62.000000         1.000000       1.000000"
      ]
     },
     "execution_count": 76,
     "metadata": {},
     "output_type": "execute_result"
    }
   ],
   "source": [
    "# Clamp extreme Values\n",
    "df_numeric = df.select_dtypes(include=[np.number])\n",
    "df_numeric.describe(include='all')"
   ]
  },
  {
   "cell_type": "code",
   "execution_count": 77,
   "id": "8ffde7fc",
   "metadata": {},
   "outputs": [],
   "source": [
    "DEBUG =0\n",
    "\n",
    "clamp_thresholds = {}\n",
    "for feature in df_numeric.columns:\n",
    "    if DEBUG == 1:\n",
    "        print(feature)\n",
    "        print('max = '+str(df_numeric[feature].max()))\n",
    "        print('75th = '+str(df_numeric[feature].quantile(0.95)))\n",
    "        print('median = '+str(df_numeric[feature].median()))\n",
    "        print(df_numeric[feature].max()>10*df_numeric[feature].median())\n",
    "        print('----------------------------------------------------')\n",
    "\n",
    "    clamp_thresholds[feature] = {\n",
    "        'max': df_numeric[feature].max(),\n",
    "        '95th': df_numeric[feature].quantile(0.95),\n",
    "        'median': df_numeric[feature].median()\n",
    "    }\n",
    "\n",
    "    if clamp_thresholds[feature]['max'] > 10 * clamp_thresholds[feature]['median'] and clamp_thresholds[feature]['max'] > 10:\n",
    "        df[feature] = np.where(df[feature] < clamp_thresholds[feature]['95th'], df[feature], clamp_thresholds[feature]['95th'])\n",
    "\n",
    "    '''\n",
    "    if df_numeric[feature].max()>10*df_numeric[feature].median() and df_numeric[feature].max()>10 : \n",
    "        df[feature] = np.where(df[feature]<df[feature].quantile(0.95), df[feature], df[feature].quantile(0.95))\n",
    "    '''"
   ]
  },
  {
   "cell_type": "code",
   "execution_count": 78,
   "id": "df327d50",
   "metadata": {},
   "outputs": [
    {
     "data": {
      "text/plain": [
       "{'dur': {'max': np.float64(59.999989),\n",
       "  '95th': np.float64(3.079511),\n",
       "  'median': np.float64(0.001582)},\n",
       " 'spkts': {'max': np.int64(9616),\n",
       "  '95th': np.float64(64.0),\n",
       "  'median': np.float64(2.0)},\n",
       " 'dpkts': {'max': np.int64(10974),\n",
       "  '95th': np.float64(62.0),\n",
       "  'median': np.float64(2.0)},\n",
       " 'sbytes': {'max': np.int64(12965233),\n",
       "  '95th': np.float64(13662.0),\n",
       "  'median': np.float64(430.0)},\n",
       " 'dbytes': {'max': np.int64(14655550),\n",
       "  '95th': np.float64(39076.0),\n",
       "  'median': np.float64(164.0)},\n",
       " 'rate': {'max': np.float64(1000000.003),\n",
       "  '95th': np.float64(333333.3215),\n",
       "  'median': np.float64(3225.80652)},\n",
       " 'sttl': {'max': np.int64(255),\n",
       "  '95th': np.float64(254.0),\n",
       "  'median': np.float64(254.0)},\n",
       " 'dttl': {'max': np.int64(254),\n",
       "  '95th': np.float64(252.0),\n",
       "  'median': np.float64(29.0)},\n",
       " 'sload': {'max': np.float64(5988000256.0),\n",
       "  '95th': np.float64(266666656.0),\n",
       "  'median': np.float64(879674.75)},\n",
       " 'dload': {'max': np.float64(22422730.0),\n",
       "  '95th': np.float64(4071050.0),\n",
       "  'median': np.float64(1447.022705)},\n",
       " 'sloss': {'max': np.int64(4803),\n",
       "  '95th': np.float64(12.0),\n",
       "  'median': np.float64(0.0)},\n",
       " 'dloss': {'max': np.int64(5484),\n",
       "  '95th': np.float64(24.0),\n",
       "  'median': np.float64(0.0)},\n",
       " 'sinpkt': {'max': np.float64(84371.496),\n",
       "  '95th': np.float64(245.212857),\n",
       "  'median': np.float64(0.279733)},\n",
       " 'dinpkt': {'max': np.float64(56716.824),\n",
       "  '95th': np.float64(160.491672),\n",
       "  'median': np.float64(0.006)},\n",
       " 'sjit': {'max': np.float64(1460480.016),\n",
       "  '95th': np.float64(9505.475298),\n",
       "  'median': np.float64(0.0)},\n",
       " 'djit': {'max': np.float64(289388.2697),\n",
       "  '95th': np.float64(3054.771518),\n",
       "  'median': np.float64(0.0)},\n",
       " 'swin': {'max': np.int64(255),\n",
       "  '95th': np.float64(255.0),\n",
       "  'median': np.float64(0.0)},\n",
       " 'stcpb': {'max': np.int64(4294958913),\n",
       "  '95th': np.float64(3814196183.0),\n",
       "  'median': np.float64(0.0)},\n",
       " 'dtcpb': {'max': np.int64(4294881924),\n",
       "  '95th': np.float64(3813016696.0),\n",
       "  'median': np.float64(0.0)},\n",
       " 'dwin': {'max': np.int64(255),\n",
       "  '95th': np.float64(255.0),\n",
       "  'median': np.float64(0.0)},\n",
       " 'tcprtt': {'max': np.float64(2.518893),\n",
       "  '95th': np.float64(0.196678),\n",
       "  'median': np.float64(0.0)},\n",
       " 'synack': {'max': np.float64(2.100352),\n",
       "  '95th': np.float64(0.103576),\n",
       "  'median': np.float64(0.0)},\n",
       " 'ackdat': {'max': np.float64(1.520884),\n",
       "  '95th': np.float64(0.095469),\n",
       "  'median': np.float64(0.0)},\n",
       " 'smean': {'max': np.int64(1504),\n",
       "  '95th': np.float64(638.0),\n",
       "  'median': np.float64(73.0)},\n",
       " 'dmean': {'max': np.int64(1458),\n",
       "  '95th': np.float64(786.0),\n",
       "  'median': np.float64(44.0)},\n",
       " 'trans_depth': {'max': np.int64(172),\n",
       "  '95th': np.float64(1.0),\n",
       "  'median': np.float64(0.0)},\n",
       " 'response_body_len': {'max': np.int64(6558056),\n",
       "  '95th': np.float64(166.0),\n",
       "  'median': np.float64(0.0)},\n",
       " 'ct_srv_src': {'max': np.int64(63),\n",
       "  '95th': np.float64(33.0),\n",
       "  'median': np.float64(5.0)},\n",
       " 'ct_state_ttl': {'max': np.int64(6),\n",
       "  '95th': np.float64(2.0),\n",
       "  'median': np.float64(1.0)},\n",
       " 'ct_dst_ltm': {'max': np.int64(51),\n",
       "  '95th': np.float64(24.0),\n",
       "  'median': np.float64(2.0)},\n",
       " 'ct_src_dport_ltm': {'max': np.int64(51),\n",
       "  '95th': np.float64(22.0),\n",
       "  'median': np.float64(1.0)},\n",
       " 'ct_dst_sport_ltm': {'max': np.int64(46),\n",
       "  '95th': np.float64(17.0),\n",
       "  'median': np.float64(1.0)},\n",
       " 'ct_dst_src_ltm': {'max': np.int64(65),\n",
       "  '95th': np.float64(33.0),\n",
       "  'median': np.float64(3.0)},\n",
       " 'is_ftp_login': {'max': np.int64(4),\n",
       "  '95th': np.float64(0.0),\n",
       "  'median': np.float64(0.0)},\n",
       " 'ct_ftp_cmd': {'max': np.int64(4),\n",
       "  '95th': np.float64(0.0),\n",
       "  'median': np.float64(0.0)},\n",
       " 'ct_flw_http_mthd': {'max': np.int64(30),\n",
       "  '95th': np.float64(1.0),\n",
       "  'median': np.float64(0.0)},\n",
       " 'ct_src_ltm': {'max': np.int64(60),\n",
       "  '95th': np.float64(26.0),\n",
       "  'median': np.float64(3.0)},\n",
       " 'ct_srv_dst': {'max': np.int64(62),\n",
       "  '95th': np.float64(33.0),\n",
       "  'median': np.float64(4.0)},\n",
       " 'is_sm_ips_ports': {'max': np.int64(1),\n",
       "  '95th': np.float64(0.0),\n",
       "  'median': np.float64(0.0)},\n",
       " 'label': {'max': np.int64(1),\n",
       "  '95th': np.float64(1.0),\n",
       "  'median': np.float64(1.0)}}"
      ]
     },
     "execution_count": 78,
     "metadata": {},
     "output_type": "execute_result"
    }
   ],
   "source": [
    "clamp_thresholds"
   ]
  },
  {
   "cell_type": "code",
   "execution_count": 79,
   "id": "d07f2b71",
   "metadata": {},
   "outputs": [
    {
     "data": {
      "text/plain": [
       "['../model/clamp_thresholds.pkl']"
      ]
     },
     "execution_count": 79,
     "metadata": {},
     "output_type": "execute_result"
    }
   ],
   "source": [
    "import joblib\n",
    "joblib.dump(clamp_thresholds, '../model/clamp_thresholds.pkl')"
   ]
  },
  {
   "cell_type": "markdown",
   "id": "2a3d37ab",
   "metadata": {},
   "source": [
    "### Apply log function to nearly all numeric, since they are all mostly skewed to the right\n",
    "\n",
    "It would have been too much of a slog to apply the log function individually, therefore a simple rule has been set up: if the number of unique values in the continuous feature is more than 50 then apply the log function. The reason more than 50 unique values are sought is to filter out the integer based features that act more categorically."
   ]
  },
  {
   "cell_type": "code",
   "execution_count": 80,
   "id": "6eb3a225",
   "metadata": {},
   "outputs": [],
   "source": [
    "df_numeric = df.select_dtypes(include=[np.number])\n",
    "df_before = df_numeric.copy()\n",
    "DEBUG = 0\n",
    "\n",
    "log_thresholds = {}\n",
    "\n",
    "for feature in df_numeric.columns:\n",
    "    if DEBUG == 1:\n",
    "        print(feature)\n",
    "        print('nunique = '+str(df_numeric[feature].nunique()))\n",
    "        print(df_numeric[feature].nunique()>50)\n",
    "        print('----------------------------------------------------')\n",
    "\n",
    "    log_thresholds[feature] = {\n",
    "        'nunique': df_numeric[feature].nunique(),\n",
    "        'min': df_numeric[feature].min()\n",
    "    }\n",
    "    \n",
    "    if log_thresholds[feature]['nunique'] > 50:\n",
    "        if log_thresholds[feature]['min'] == 0:\n",
    "            df[feature] = np.log(df[feature] + 1)\n",
    "        else:\n",
    "            df[feature] = np.log(df[feature])\n",
    "\n",
    "df_numeric = df.select_dtypes(include=[np.number])"
   ]
  },
  {
   "cell_type": "code",
   "execution_count": 81,
   "id": "7e86571b",
   "metadata": {},
   "outputs": [
    {
     "data": {
      "text/plain": [
       "{'dur': {'nunique': 68719, 'min': np.float64(0.0)},\n",
       " 'spkts': {'nunique': 36, 'min': np.float64(1.0)},\n",
       " 'dpkts': {'nunique': 34, 'min': np.float64(0.0)},\n",
       " 'sbytes': {'nunique': 3601, 'min': np.float64(28.0)},\n",
       " 'dbytes': {'nunique': 4493, 'min': np.float64(0.0)},\n",
       " 'rate': {'nunique': 76989, 'min': np.float64(0.0)},\n",
       " 'sttl': {'nunique': 11, 'min': np.int64(0)},\n",
       " 'dttl': {'nunique': 6, 'min': np.int64(0)},\n",
       " 'sload': {'nunique': 79205, 'min': np.float64(0.0)},\n",
       " 'dload': {'nunique': 68985, 'min': np.float64(0.0)},\n",
       " 'sloss': {'nunique': 13, 'min': np.float64(0.0)},\n",
       " 'dloss': {'nunique': 25, 'min': np.float64(0.0)},\n",
       " 'sinpkt': {'nunique': 73285, 'min': np.float64(0.0)},\n",
       " 'dinpkt': {'nunique': 66888, 'min': np.float64(0.0)},\n",
       " 'sjit': {'nunique': 70140, 'min': np.float64(0.0)},\n",
       " 'djit': {'nunique': 69465, 'min': np.float64(0.0)},\n",
       " 'swin': {'nunique': 13, 'min': np.float64(0.0)},\n",
       " 'stcpb': {'nunique': 66892, 'min': np.float64(0.0)},\n",
       " 'dtcpb': {'nunique': 66750, 'min': np.float64(0.0)},\n",
       " 'dwin': {'nunique': 7, 'min': np.float64(0.0)},\n",
       " 'tcprtt': {'nunique': 43319, 'min': np.float64(0.0)},\n",
       " 'synack': {'nunique': 40142, 'min': np.float64(0.0)},\n",
       " 'ackdat': {'nunique': 37708, 'min': np.float64(0.0)},\n",
       " 'smean': {'nunique': 601, 'min': np.float64(28.0)},\n",
       " 'dmean': {'nunique': 740, 'min': np.float64(0.0)},\n",
       " 'trans_depth': {'nunique': 2, 'min': np.float64(0.0)},\n",
       " 'response_body_len': {'nunique': 143, 'min': np.float64(0.0)},\n",
       " 'ct_srv_src': {'nunique': 33, 'min': np.float64(1.0)},\n",
       " 'ct_state_ttl': {'nunique': 5, 'min': np.int64(0)},\n",
       " 'ct_dst_ltm': {'nunique': 24, 'min': np.float64(1.0)},\n",
       " 'ct_src_dport_ltm': {'nunique': 22, 'min': np.float64(1.0)},\n",
       " 'ct_dst_sport_ltm': {'nunique': 17, 'min': np.float64(1.0)},\n",
       " 'ct_dst_src_ltm': {'nunique': 33, 'min': np.float64(1.0)},\n",
       " 'is_ftp_login': {'nunique': 4, 'min': np.int64(0)},\n",
       " 'ct_ftp_cmd': {'nunique': 4, 'min': np.int64(0)},\n",
       " 'ct_flw_http_mthd': {'nunique': 2, 'min': np.float64(0.0)},\n",
       " 'ct_src_ltm': {'nunique': 26, 'min': np.float64(1.0)},\n",
       " 'ct_srv_dst': {'nunique': 33, 'min': np.float64(1.0)},\n",
       " 'is_sm_ips_ports': {'nunique': 2, 'min': np.int64(0)},\n",
       " 'label': {'nunique': 2, 'min': np.int64(0)}}"
      ]
     },
     "execution_count": 81,
     "metadata": {},
     "output_type": "execute_result"
    }
   ],
   "source": [
    "log_thresholds"
   ]
  },
  {
   "cell_type": "code",
   "execution_count": 82,
   "id": "cb11be15",
   "metadata": {},
   "outputs": [
    {
     "data": {
      "text/plain": [
       "['../model/log_thresholds.pkl']"
      ]
     },
     "execution_count": 82,
     "metadata": {},
     "output_type": "execute_result"
    }
   ],
   "source": [
    "import joblib\n",
    "joblib.dump(log_thresholds, '../model/log_thresholds.pkl')"
   ]
  },
  {
   "cell_type": "markdown",
   "id": "3080d058",
   "metadata": {},
   "source": [
    "### Reduce the labels in catagorical features\n",
    "Some features have very high cardinalities, and this section reduces the cardinality to 5 or 6 per feature. The logic is to take the top 5 occuring labels in the feature as the labels and set the remainder to '-' (seldom used) labels. When the encoding is done later on, the dimensionality will not explode and cause the curse of dimensionality."
   ]
  },
  {
   "cell_type": "code",
   "execution_count": 83,
   "id": "37ed17fb",
   "metadata": {},
   "outputs": [
    {
     "data": {
      "application/vnd.microsoft.datawrangler.viewer.v0+json": {
       "columns": [
        {
         "name": "index",
         "rawType": "object",
         "type": "string"
        },
        {
         "name": "proto",
         "rawType": "object",
         "type": "unknown"
        },
        {
         "name": "service",
         "rawType": "object",
         "type": "unknown"
        },
        {
         "name": "state",
         "rawType": "object",
         "type": "unknown"
        }
       ],
       "ref": "4dd248dc-3f4c-4dfe-afce-f3c5a35c96f3",
       "rows": [
        [
         "count",
         "175341",
         "175341",
         "175341"
        ],
        [
         "unique",
         "133",
         "13",
         "9"
        ],
        [
         "top",
         "tcp",
         "-",
         "INT"
        ],
        [
         "freq",
         "79946",
         "94168",
         "82275"
        ]
       ],
       "shape": {
        "columns": 3,
        "rows": 4
       }
      },
      "text/html": [
       "<div>\n",
       "<style scoped>\n",
       "    .dataframe tbody tr th:only-of-type {\n",
       "        vertical-align: middle;\n",
       "    }\n",
       "\n",
       "    .dataframe tbody tr th {\n",
       "        vertical-align: top;\n",
       "    }\n",
       "\n",
       "    .dataframe thead th {\n",
       "        text-align: right;\n",
       "    }\n",
       "</style>\n",
       "<table border=\"1\" class=\"dataframe\">\n",
       "  <thead>\n",
       "    <tr style=\"text-align: right;\">\n",
       "      <th></th>\n",
       "      <th>proto</th>\n",
       "      <th>service</th>\n",
       "      <th>state</th>\n",
       "    </tr>\n",
       "  </thead>\n",
       "  <tbody>\n",
       "    <tr>\n",
       "      <th>count</th>\n",
       "      <td>175341</td>\n",
       "      <td>175341</td>\n",
       "      <td>175341</td>\n",
       "    </tr>\n",
       "    <tr>\n",
       "      <th>unique</th>\n",
       "      <td>133</td>\n",
       "      <td>13</td>\n",
       "      <td>9</td>\n",
       "    </tr>\n",
       "    <tr>\n",
       "      <th>top</th>\n",
       "      <td>tcp</td>\n",
       "      <td>-</td>\n",
       "      <td>INT</td>\n",
       "    </tr>\n",
       "    <tr>\n",
       "      <th>freq</th>\n",
       "      <td>79946</td>\n",
       "      <td>94168</td>\n",
       "      <td>82275</td>\n",
       "    </tr>\n",
       "  </tbody>\n",
       "</table>\n",
       "</div>"
      ],
      "text/plain": [
       "         proto service   state\n",
       "count   175341  175341  175341\n",
       "unique     133      13       9\n",
       "top        tcp       -     INT\n",
       "freq     79946   94168   82275"
      ]
     },
     "execution_count": 83,
     "metadata": {},
     "output_type": "execute_result"
    }
   ],
   "source": [
    "df_cat = df.select_dtypes(exclude=[np.number])\n",
    "df_cat.describe(include='all')"
   ]
  },
  {
   "cell_type": "code",
   "execution_count": 84,
   "id": "c062d76f",
   "metadata": {},
   "outputs": [],
   "source": [
    "DEBUG = 0\n",
    "\n",
    "cat_thresholds = {}\n",
    "for feature in df_cat.columns:\n",
    "    if DEBUG == 1:\n",
    "        print(feature)\n",
    "        print('nunique = '+str(df_cat[feature].nunique()))\n",
    "        print(df_cat[feature].nunique()>6)\n",
    "        print(sum(df[feature].isin(df[feature].value_counts().head().index)))\n",
    "        print('----------------------------------------------------')\n",
    "    \n",
    "    cat_thresholds[feature] = {\n",
    "        'nunique': df_cat[feature].nunique(),\n",
    "        'top_values': df_cat[feature].value_counts().head().index.tolist()\n",
    "    }\n",
    "    \n",
    "    if cat_thresholds[feature]['nunique'] > 6:\n",
    "        df[feature] = np.where(df[feature].isin(cat_thresholds[feature]['top_values']), df[feature], '-')"
   ]
  },
  {
   "cell_type": "code",
   "execution_count": 85,
   "id": "fa04f94d",
   "metadata": {},
   "outputs": [
    {
     "data": {
      "text/plain": [
       "{'proto': {'nunique': 133,\n",
       "  'top_values': ['tcp', 'udp', 'unas', 'arp', 'ospf']},\n",
       " 'service': {'nunique': 13,\n",
       "  'top_values': ['-', 'dns', 'http', 'smtp', 'ftp-data']},\n",
       " 'state': {'nunique': 9, 'top_values': ['INT', 'FIN', 'CON', 'REQ', 'RST']}}"
      ]
     },
     "execution_count": 85,
     "metadata": {},
     "output_type": "execute_result"
    }
   ],
   "source": [
    "cat_thresholds"
   ]
  },
  {
   "cell_type": "code",
   "execution_count": 86,
   "id": "2d6056f2",
   "metadata": {},
   "outputs": [
    {
     "data": {
      "text/plain": [
       "['../model/cat_thresholds.pkl']"
      ]
     },
     "execution_count": 86,
     "metadata": {},
     "output_type": "execute_result"
    }
   ],
   "source": [
    "import joblib\n",
    "joblib.dump(cat_thresholds, '../model/cat_thresholds.pkl')"
   ]
  },
  {
   "cell_type": "code",
   "execution_count": 87,
   "id": "feb5bda3",
   "metadata": {},
   "outputs": [],
   "source": [
    "# Feature Selection\n",
    "from sklearn.feature_selection import SelectKBest, chi2\n",
    "\n",
    "best_features = SelectKBest(score_func=chi2,k='all')\n",
    "\n",
    "X = df.iloc[:,4:-2]\n",
    "y = df.iloc[:,-1]\n",
    "fit = best_features.fit(X,y)\n",
    "\n",
    "df_scores=pd.DataFrame(fit.scores_)\n",
    "df_col=pd.DataFrame(X.columns)\n",
    "\n",
    "feature_score=pd.concat([df_col,df_scores],axis=1)\n",
    "feature_score.columns=['feature','score']\n",
    "feature_score.sort_values(by=['score'],ascending=True,inplace=True)\n",
    "\n",
    "fig = go.Figure(go.Bar(\n",
    "            x=feature_score['score'][0:21],\n",
    "            y=feature_score['feature'][0:21],\n",
    "            orientation='h'))\n",
    "\n",
    "fig.update_layout(title=\"Top 20 Features\",\n",
    "                  height=1200,\n",
    "                  showlegend=False,\n",
    "                 )\n",
    "\n",
    "fig.show()\n"
   ]
  },
  {
   "cell_type": "markdown",
   "id": "6b7f372d",
   "metadata": {},
   "source": [
    "## Encode categorical features\n",
    "The categorical variables should be encoded because the models cannot interpret 'string'. As such, One-hot encoding is utilized because none of them are ordinal. "
   ]
  },
  {
   "cell_type": "code",
   "execution_count": 88,
   "id": "bcb6fa23",
   "metadata": {},
   "outputs": [],
   "source": [
    "X = df.iloc[:,:-1]\n",
    "y = df.iloc[:,-1]"
   ]
  },
  {
   "cell_type": "code",
   "execution_count": 89,
   "id": "1b7576b1",
   "metadata": {},
   "outputs": [
    {
     "data": {
      "text/plain": [
       "(175341, 42)"
      ]
     },
     "execution_count": 89,
     "metadata": {},
     "output_type": "execute_result"
    }
   ],
   "source": [
    "X.head()\n",
    "feature_names = list(X.columns)\n",
    "np.shape(X)"
   ]
  },
  {
   "cell_type": "code",
   "execution_count": 90,
   "id": "8d17fb3d",
   "metadata": {},
   "outputs": [
    {
     "data": {
      "text/plain": [
       "['../model/one_hot_encoder.pkl']"
      ]
     },
     "execution_count": 90,
     "metadata": {},
     "output_type": "execute_result"
    }
   ],
   "source": [
    "from sklearn.compose import ColumnTransformer\n",
    "from sklearn.preprocessing import OneHotEncoder\n",
    "ct = ColumnTransformer(transformers=[('encoder', OneHotEncoder(handle_unknown='ignore'), [1,2,3])], remainder='passthrough')\n",
    "X = np.array(ct.fit_transform(X))\n",
    "\n",
    "joblib.dump(ct, '../model/one_hot_encoder.pkl')"
   ]
  },
  {
   "cell_type": "code",
   "execution_count": 91,
   "id": "ced2ba91",
   "metadata": {},
   "outputs": [
    {
     "data": {
      "text/plain": [
       "(175341, 56)"
      ]
     },
     "execution_count": 91,
     "metadata": {},
     "output_type": "execute_result"
    }
   ],
   "source": [
    "np.shape(X)"
   ]
  },
  {
   "cell_type": "markdown",
   "id": "8e9233c1",
   "metadata": {},
   "source": [
    "## Modelling and Evaluation\n",
    "\n",
    "### Prep for Modelling\n",
    "\n",
    "First, in this section, the data is split into test and training sets using stratified sampling as prep for modelling."
   ]
  },
  {
   "cell_type": "code",
   "execution_count": 92,
   "id": "99dfa37e",
   "metadata": {},
   "outputs": [],
   "source": [
    "from sklearn.model_selection import train_test_split\n",
    "X_train, X_test, y_train, y_test = train_test_split(X, y, \n",
    "                                                    test_size = 0.2, \n",
    "                                                    random_state = 0,\n",
    "                                                    stratify=y)"
   ]
  },
  {
   "cell_type": "markdown",
   "id": "21dcb37d",
   "metadata": {},
   "source": [
    "### Standardize continuous features\n",
    "\n",
    "a standard scaler is used on the continuous features to put them all in the same order of size."
   ]
  },
  {
   "cell_type": "code",
   "execution_count": 93,
   "id": "4981d7f4",
   "metadata": {},
   "outputs": [],
   "source": [
    "from sklearn.preprocessing import StandardScaler\n",
    "sc = StandardScaler()\n",
    "X_train[:, 18:] = sc.fit_transform(X_train[:, 18:])\n",
    "joblib.dump(sc, '../model/standard_scaler.pkl')\n",
    "X_test[:, 18:] = sc.transform(X_test[:, 18:])"
   ]
  },
  {
   "cell_type": "markdown",
   "id": "5de7329d",
   "metadata": {},
   "source": [
    "### Import Metrics\n",
    "\n",
    "Imports the libraries that will be used to evaluate the models later on"
   ]
  },
  {
   "cell_type": "code",
   "execution_count": 94,
   "id": "8c592427",
   "metadata": {},
   "outputs": [],
   "source": [
    "from sklearn.metrics import f1_score, precision_score, recall_score, accuracy_score\n",
    "from sklearn.metrics import ConfusionMatrixDisplay\n",
    "import time\n",
    "model_performance = pd.DataFrame(columns=['Accuracy','Recall','Precision','F1-Score','time to train','time to predict','total time'])"
   ]
  },
  {
   "cell_type": "markdown",
   "id": "50fd392f",
   "metadata": {},
   "source": [
    "## Random Forest Modelling\n",
    "Although anomaly detection is often tackled using unsupervised methods such as Isolation Forest, this study adopts a supervised Random Forest approach. This decision is based on the observation—detailed in the EDA section—that the dataset already contains labeled attack types, allowing for effective classification-based detection aligned with real-time alerting needs.\n",
    "\n",
    "Furthermore, as demonstrated by the evaluation metrics below, the Random Forest model exhibited strong performance in detecting anomalies."
   ]
  },
  {
   "cell_type": "code",
   "execution_count": 95,
   "id": "f52ac3f5",
   "metadata": {},
   "outputs": [
    {
     "name": "stdout",
     "output_type": "stream",
     "text": [
      "CPU times: user 17.4 s, sys: 597 ms, total: 18 s\n",
      "Wall time: 4.99 s\n"
     ]
    }
   ],
   "source": [
    "%%time\n",
    "from sklearn.ensemble import RandomForestClassifier\n",
    "start = time.time()\n",
    "model = RandomForestClassifier(n_estimators = 100,n_jobs=-1,random_state=0,bootstrap=True,).fit(X_train,y_train)\n",
    "end_train = time.time()\n",
    "y_predictions = model.predict(X_test) # These are the predictions from the test data.\n",
    "end_predict = time.time()\n",
    "import pickle\n",
    "with open('model.pkl', 'wb') as f:\n",
    "    pickle.dump(model, f)"
   ]
  },
  {
   "cell_type": "code",
   "execution_count": 96,
   "id": "fcb86606",
   "metadata": {},
   "outputs": [
    {
     "name": "stdout",
     "output_type": "stream",
     "text": [
      "Accuracy: 95.93%\n",
      "Recall: 95.93%\n",
      "Precision: 95.92%\n",
      "F1-Score: 95.92%\n",
      "time to train: 4.65 s\n",
      "time to predict: 0.15 s\n",
      "total: 4.80 s\n"
     ]
    }
   ],
   "source": [
    "accuracy = accuracy_score(y_test, y_predictions)\n",
    "recall = recall_score(y_test, y_predictions, average='weighted')\n",
    "precision = precision_score(y_test, y_predictions, average='weighted')\n",
    "f1s = f1_score(y_test, y_predictions, average='weighted')\n",
    "\n",
    "print(\"Accuracy: \"+ \"{:.2%}\".format(accuracy))\n",
    "print(\"Recall: \"+ \"{:.2%}\".format(recall))\n",
    "print(\"Precision: \"+ \"{:.2%}\".format(precision))\n",
    "print(\"F1-Score: \"+ \"{:.2%}\".format(f1s))\n",
    "print(\"time to train: \"+ \"{:.2f}\".format(end_train-start)+\" s\")\n",
    "print(\"time to predict: \"+\"{:.2f}\".format(end_predict-end_train)+\" s\")\n",
    "print(\"total: \"+\"{:.2f}\".format(end_predict-start)+\" s\")\n",
    "model_performance.loc['Random Forest'] = [accuracy, recall, precision, f1s,end_train-start,end_predict-end_train,end_predict-start]"
   ]
  },
  {
   "cell_type": "code",
   "execution_count": null,
   "id": "12e3f57f",
   "metadata": {},
   "outputs": [],
   "source": []
  },
  {
   "cell_type": "code",
   "execution_count": 97,
   "id": "6cd0768b",
   "metadata": {},
   "outputs": [
    {
     "data": {
      "image/png": "[encoded data removed]",
      "text/plain": [
       "<Figure size 500x500 with 2 Axes>"
      ]
     },
     "metadata": {
      "image/png": {
       "height": 408,
       "width": 453
      }
     },
     "output_type": "display_data"
    }
   ],
   "source": [
    "plt.rcParams['figure.figsize']=5,5 \n",
    "sns.set_style(\"white\")\n",
    "ConfusionMatrixDisplay.from_estimator(model, X_test, y_test, cmap=plt.cm.Blues)  \n",
    "plt.show()"
   ]
  },
  {
   "cell_type": "markdown",
   "id": "b8a59267",
   "metadata": {},
   "source": [
    "## Full Dataset EDA\n",
    "The current train-test split is balanced, but I’m reviewing the full dataset to better understand class distribution and feature characteristics. After completing initial feature engineering and model selection, the plan is to retrain the model on the entire dataset. "
   ]
  },
  {
   "cell_type": "code",
   "execution_count": 98,
   "id": "6a989acf",
   "metadata": {},
   "outputs": [],
   "source": [
    "dfs = []\n",
    "for i in range(1, 5):\n",
    "    path = '../data/UNSW-NB15_{}.csv'\n",
    "    dfs.append(pd.read_csv(path.format(i), header = None))\n",
    "all_data = pd.concat(dfs).reset_index(drop=True)\n",
    "all_data.columns = pd.read_csv('../data/UNSW-NB15_features.csv', encoding='latin1').Name.apply(lambda x: x.lower())"
   ]
  },
  {
   "cell_type": "code",
   "execution_count": 99,
   "id": "31021911",
   "metadata": {},
   "outputs": [
    {
     "name": "stdout",
     "output_type": "stream",
     "text": [
      "<class 'pandas.core.frame.DataFrame'>\n",
      "RangeIndex: 2540047 entries, 0 to 2540046\n",
      "Data columns (total 49 columns):\n",
      " #   Column            Dtype  \n",
      "---  ------            -----  \n",
      " 0   srcip             object \n",
      " 1   sport             object \n",
      " 2   dstip             object \n",
      " 3   dsport            object \n",
      " 4   proto             object \n",
      " 5   state             object \n",
      " 6   dur               float64\n",
      " 7   sbytes            int64  \n",
      " 8   dbytes            int64  \n",
      " 9   sttl              int64  \n",
      " 10  dttl              int64  \n",
      " 11  sloss             int64  \n",
      " 12  dloss             int64  \n",
      " 13  service           object \n",
      " 14  sload             float64\n",
      " 15  dload             float64\n",
      " 16  spkts             int64  \n",
      " 17  dpkts             int64  \n",
      " 18  swin              int64  \n",
      " 19  dwin              int64  \n",
      " 20  stcpb             int64  \n",
      " 21  dtcpb             int64  \n",
      " 22  smeansz           int64  \n",
      " 23  dmeansz           int64  \n",
      " 24  trans_depth       int64  \n",
      " 25  res_bdy_len       int64  \n",
      " 26  sjit              float64\n",
      " 27  djit              float64\n",
      " 28  stime             int64  \n",
      " 29  ltime             int64  \n",
      " 30  sintpkt           float64\n",
      " 31  dintpkt           float64\n",
      " 32  tcprtt            float64\n",
      " 33  synack            float64\n",
      " 34  ackdat            float64\n",
      " 35  is_sm_ips_ports   int64  \n",
      " 36  ct_state_ttl      int64  \n",
      " 37  ct_flw_http_mthd  float64\n",
      " 38  is_ftp_login      float64\n",
      " 39  ct_ftp_cmd        object \n",
      " 40  ct_srv_src        int64  \n",
      " 41  ct_srv_dst        int64  \n",
      " 42  ct_dst_ltm        int64  \n",
      " 43  ct_src_ ltm       int64  \n",
      " 44  ct_src_dport_ltm  int64  \n",
      " 45  ct_dst_sport_ltm  int64  \n",
      " 46  ct_dst_src_ltm    int64  \n",
      " 47  attack_cat        object \n",
      " 48  label             int64  \n",
      "dtypes: float64(12), int64(28), object(9)\n",
      "memory usage: 949.6+ MB\n"
     ]
    }
   ],
   "source": [
    "all_data.info()"
   ]
  },
  {
   "cell_type": "code",
   "execution_count": 100,
   "id": "5579eecf",
   "metadata": {},
   "outputs": [
    {
     "data": {
      "text/plain": [
       "(2540047, 49)"
      ]
     },
     "execution_count": 100,
     "metadata": {},
     "output_type": "execute_result"
    }
   ],
   "source": [
    "## Column cleaning steps: some of the CSV's leave the point blank for zero values.\n",
    "## This results in Pandas loading in NaN values in columns where it otherwise expects numeric values. \n",
    "# Fill all NaN attack categories w/ value: 'normal'\n",
    "all_data['attack_cat'] = all_data.attack_cat.fillna(value='normal').apply(lambda x: x.strip().lower())\n",
    "# Replace blank spaces with zero\n",
    "all_data['ct_ftp_cmd'] = all_data.ct_ftp_cmd.replace(to_replace=' ', value=0).astype(int)\n",
    "# Replace NaN with zero\n",
    "all_data['ct_flw_http_mthd'] = all_data.ct_flw_http_mthd.fillna(value=0)\n",
    "# Replace NaN with zero and all values > 0 with 1\n",
    "all_data['is_ftp_login'] = (all_data.is_ftp_login.fillna(value=0) >0).astype(int)\n",
    "\n",
    "## Reduce categorical features into smaller sets:\n",
    "## Ex: 135 unique values in `proto` become \"tcp\", \"udp\", \"arp\", \"unas\", and \"other\"\n",
    "transformations = {\n",
    "    'proto':['tcp', 'udp', 'arp', 'unas'],\n",
    "    'state':['fin', 'con', 'int'],\n",
    "    'service':['-', 'dns']\n",
    "}\n",
    "for col, keepers in transformations.items():\n",
    "    all_data[col] = all_data[col].apply(reduce_column, args=(keepers,))\n",
    "\n",
    "all_data.shape"
   ]
  },
  {
   "cell_type": "code",
   "execution_count": 101,
   "id": "15b1f6ca",
   "metadata": {},
   "outputs": [
    {
     "name": "stdout",
     "output_type": "stream",
     "text": [
      "<class 'pandas.core.frame.DataFrame'>\n",
      "RangeIndex: 2540047 entries, 0 to 2540046\n",
      "Data columns (total 49 columns):\n",
      " #   Column            Dtype  \n",
      "---  ------            -----  \n",
      " 0   srcip             object \n",
      " 1   sport             object \n",
      " 2   dstip             object \n",
      " 3   dsport            object \n",
      " 4   proto             object \n",
      " 5   state             object \n",
      " 6   dur               float64\n",
      " 7   sbytes            int64  \n",
      " 8   dbytes            int64  \n",
      " 9   sttl              int64  \n",
      " 10  dttl              int64  \n",
      " 11  sloss             int64  \n",
      " 12  dloss             int64  \n",
      " 13  service           object \n",
      " 14  sload             float64\n",
      " 15  dload             float64\n",
      " 16  spkts             int64  \n",
      " 17  dpkts             int64  \n",
      " 18  swin              int64  \n",
      " 19  dwin              int64  \n",
      " 20  stcpb             int64  \n",
      " 21  dtcpb             int64  \n",
      " 22  smeansz           int64  \n",
      " 23  dmeansz           int64  \n",
      " 24  trans_depth       int64  \n",
      " 25  res_bdy_len       int64  \n",
      " 26  sjit              float64\n",
      " 27  djit              float64\n",
      " 28  stime             int64  \n",
      " 29  ltime             int64  \n",
      " 30  sintpkt           float64\n",
      " 31  dintpkt           float64\n",
      " 32  tcprtt            float64\n",
      " 33  synack            float64\n",
      " 34  ackdat            float64\n",
      " 35  is_sm_ips_ports   int64  \n",
      " 36  ct_state_ttl      int64  \n",
      " 37  ct_flw_http_mthd  float64\n",
      " 38  is_ftp_login      int64  \n",
      " 39  ct_ftp_cmd        int64  \n",
      " 40  ct_srv_src        int64  \n",
      " 41  ct_srv_dst        int64  \n",
      " 42  ct_dst_ltm        int64  \n",
      " 43  ct_src_ ltm       int64  \n",
      " 44  ct_src_dport_ltm  int64  \n",
      " 45  ct_dst_sport_ltm  int64  \n",
      " 46  ct_dst_src_ltm    int64  \n",
      " 47  attack_cat        object \n",
      " 48  label             int64  \n",
      "dtypes: float64(11), int64(30), object(8)\n",
      "memory usage: 949.6+ MB\n"
     ]
    }
   ],
   "source": [
    "all_data.info()"
   ]
  },
  {
   "cell_type": "code",
   "execution_count": 102,
   "id": "31248960",
   "metadata": {},
   "outputs": [
    {
     "data": {
      "text/plain": [
       "np.float64(0.12648702957071267)"
      ]
     },
     "execution_count": 102,
     "metadata": {},
     "output_type": "execute_result"
    }
   ],
   "source": [
    "# Fraction of connections that are attacks: roughly 12.6%\n",
    "np.sum(all_data.label == 1)/all_data.shape[0]"
   ]
  },
  {
   "cell_type": "code",
   "execution_count": 103,
   "id": "33cb360c",
   "metadata": {},
   "outputs": [
    {
     "data": {
      "text/plain": [
       "np.int64(0)"
      ]
     },
     "execution_count": 103,
     "metadata": {},
     "output_type": "execute_result"
    }
   ],
   "source": [
    "# Confirm missing data has been addressed in processes above\n",
    "all_data.isnull().sum().sum()"
   ]
  },
  {
   "cell_type": "code",
   "execution_count": 104,
   "id": "60061f88",
   "metadata": {},
   "outputs": [
    {
     "name": "stdout",
     "output_type": "stream",
     "text": [
      "No. of common columns: 36\n",
      "{'rate', 'sinpkt', 'ct_src_ltm', 'dmean', 'smean', 'response_body_len', 'dinpkt'}\n",
      "{'dmeansz', 'ltime', 'dsport', 'attack_cat', 'smeansz', 'sport', 'srcip', 'sintpkt', 'res_bdy_len', 'ct_src_ ltm', 'stime', 'dintpkt', 'dstip'}\n"
     ]
    }
   ],
   "source": [
    "# Compare columns in larger csv files w/ those in partitioned training and test sets\n",
    "full_cols = set(all_data.columns)\n",
    "train_cols = set(df.columns)\n",
    "\n",
    "# Number of columns the two datasets have in common:\n",
    "print('No. of common columns:', len(train_cols.intersection(full_cols)))\n",
    "\n",
    "#Columns in training data not in raw CSV's\n",
    "print(train_cols - full_cols)\n",
    "\n",
    "# Columns in raw CSV's not in training data\n",
    "print(full_cols - train_cols)"
   ]
  },
  {
   "cell_type": "markdown",
   "id": "06d63881",
   "metadata": {},
   "source": [
    "Note that IP address and port numbers are not included in the data set, and that we've used the id column as an index. Pre-dropped columns:\n",
    "\n",
    "- id\n",
    "- srcip\n",
    "- sport\n",
    "- dstip\n",
    "- dsport\n",
    "\n",
    "This brings us to 42 data columns that we'll have to use as features and 2 columns to use as target values, depending on whether I want to tackle a binary or multiclass classification problem."
   ]
  },
  {
   "cell_type": "code",
   "execution_count": 105,
   "id": "dd3e134e",
   "metadata": {},
   "outputs": [],
   "source": [
    "# As before, I'll drop the `attack_cat` column.\n",
    "list_drop = ['srcip', 'sport', 'dstip', 'dsport', 'attack_cat']\n",
    "all_data.drop(list_drop, axis=1, inplace=True)"
   ]
  },
  {
   "cell_type": "code",
   "execution_count": 106,
   "id": "bdf4fec4",
   "metadata": {},
   "outputs": [
    {
     "data": {
      "application/vnd.microsoft.datawrangler.viewer.v0+json": {
       "columns": [
        {
         "name": "index",
         "rawType": "object",
         "type": "string"
        },
        {
         "name": "dur",
         "rawType": "float64",
         "type": "float"
        },
        {
         "name": "sbytes",
         "rawType": "float64",
         "type": "float"
        },
        {
         "name": "dbytes",
         "rawType": "float64",
         "type": "float"
        },
        {
         "name": "sttl",
         "rawType": "float64",
         "type": "float"
        },
        {
         "name": "dttl",
         "rawType": "float64",
         "type": "float"
        },
        {
         "name": "sloss",
         "rawType": "float64",
         "type": "float"
        },
        {
         "name": "dloss",
         "rawType": "float64",
         "type": "float"
        },
        {
         "name": "sload",
         "rawType": "float64",
         "type": "float"
        },
        {
         "name": "dload",
         "rawType": "float64",
         "type": "float"
        },
        {
         "name": "spkts",
         "rawType": "float64",
         "type": "float"
        },
        {
         "name": "dpkts",
         "rawType": "float64",
         "type": "float"
        },
        {
         "name": "swin",
         "rawType": "float64",
         "type": "float"
        },
        {
         "name": "dwin",
         "rawType": "float64",
         "type": "float"
        },
        {
         "name": "stcpb",
         "rawType": "float64",
         "type": "float"
        },
        {
         "name": "dtcpb",
         "rawType": "float64",
         "type": "float"
        },
        {
         "name": "smeansz",
         "rawType": "float64",
         "type": "float"
        },
        {
         "name": "dmeansz",
         "rawType": "float64",
         "type": "float"
        },
        {
         "name": "trans_depth",
         "rawType": "float64",
         "type": "float"
        },
        {
         "name": "res_bdy_len",
         "rawType": "float64",
         "type": "float"
        },
        {
         "name": "sjit",
         "rawType": "float64",
         "type": "float"
        },
        {
         "name": "djit",
         "rawType": "float64",
         "type": "float"
        },
        {
         "name": "stime",
         "rawType": "float64",
         "type": "float"
        },
        {
         "name": "ltime",
         "rawType": "float64",
         "type": "float"
        },
        {
         "name": "sintpkt",
         "rawType": "float64",
         "type": "float"
        },
        {
         "name": "dintpkt",
         "rawType": "float64",
         "type": "float"
        },
        {
         "name": "tcprtt",
         "rawType": "float64",
         "type": "float"
        },
        {
         "name": "synack",
         "rawType": "float64",
         "type": "float"
        },
        {
         "name": "ackdat",
         "rawType": "float64",
         "type": "float"
        },
        {
         "name": "is_sm_ips_ports",
         "rawType": "float64",
         "type": "float"
        },
        {
         "name": "ct_state_ttl",
         "rawType": "float64",
         "type": "float"
        },
        {
         "name": "ct_flw_http_mthd",
         "rawType": "float64",
         "type": "float"
        },
        {
         "name": "is_ftp_login",
         "rawType": "float64",
         "type": "float"
        },
        {
         "name": "ct_ftp_cmd",
         "rawType": "float64",
         "type": "float"
        },
        {
         "name": "ct_srv_src",
         "rawType": "float64",
         "type": "float"
        },
        {
         "name": "ct_srv_dst",
         "rawType": "float64",
         "type": "float"
        },
        {
         "name": "ct_dst_ltm",
         "rawType": "float64",
         "type": "float"
        },
        {
         "name": "ct_src_ ltm",
         "rawType": "float64",
         "type": "float"
        },
        {
         "name": "ct_src_dport_ltm",
         "rawType": "float64",
         "type": "float"
        },
        {
         "name": "ct_dst_sport_ltm",
         "rawType": "float64",
         "type": "float"
        },
        {
         "name": "ct_dst_src_ltm",
         "rawType": "float64",
         "type": "float"
        },
        {
         "name": "label",
         "rawType": "float64",
         "type": "float"
        }
       ],
       "ref": "8da227eb-f088-4026-882f-012eb14e9a9e",
       "rows": [
        [
         "count",
         "2540047.0",
         "2540047.0",
         "2540047.0",
         "2540047.0",
         "2540047.0",
         "2540047.0",
         "2540047.0",
         "2540047.0",
         "2540047.0",
         "2540047.0",
         "2540047.0",
         "2540047.0",
         "2540047.0",
         "2540047.0",
         "2540047.0",
         "2540047.0",
         "2540047.0",
         "2540047.0",
         "2540047.0",
         "2540047.0",
         "2540047.0",
         "2540047.0",
         "2540047.0",
         "2540047.0",
         "2540047.0",
         "2540047.0",
         "2540047.0",
         "2540047.0",
         "2540047.0",
         "2540047.0",
         "2540047.0",
         "2540047.0",
         "2540047.0",
         "2540047.0",
         "2540047.0",
         "2540047.0",
         "2540047.0",
         "2540047.0",
         "2540047.0",
         "2540047.0",
         "2540047.0"
        ],
        [
         "mean",
         "0.6587915950775715",
         "4339.6000640933025",
         "36427.593727990075",
         "62.78197490046444",
         "30.766809826747302",
         "5.163920982564496",
         "16.32944351029725",
         "36956447.50891565",
         "2450861.2162585156",
         "33.28884347415619",
         "42.7266408849915",
         "150.088749145193",
         "149.74588344231427",
         "1261701280.621727",
         "1261766463.3285675",
         "124.253610661535",
         "276.6719100079644",
         "0.08325318389777826",
         "4242.117813174324",
         "1589.0366782790468",
         "730.07546452523",
         "1423260752.8711755",
         "1423260753.6362422",
         "193.3224882549996",
         "78.82476440594368",
         "0.0061804747345226285",
         "0.003287595164971357",
         "0.002892879569551272",
         "0.0016515442430789667",
         "0.2611546164303259",
         "0.11007788438560388",
         "0.0171551943723876",
         "0.020557887314683547",
         "9.206988295885864",
         "8.988957684641269",
         "6.439103292183177",
         "6.900986084115766",
         "4.642139298997224",
         "3.5927291896567266",
         "6.845885922583323",
         "0.12648702957071267"
        ],
        [
         "std",
         "13.924930711290893",
         "56405.99468090534",
         "161096.03554232957",
         "74.62276529681716",
         "42.85088812399995",
         "22.517074893366352",
         "56.594744478662584",
         "118604331.28252389",
         "4224862.941551688",
         "76.28388267935746",
         "121.5019637021164",
         "125.48240923262864",
         "125.54384122423704",
         "1422026719.1773627",
         "1422139125.9757662",
         "151.9162066963048",
         "335.6166243757676",
         "0.35000453529944087",
         "47500.52596364089",
         "16910.36327941703",
         "3438.558345615139",
         "1134448.5357910807",
         "1134448.3356580404",
         "2779.163113258013",
         "1433.1914361407353",
         "0.046158634233473626",
         "0.025935698145697992",
         "0.02394667840358268",
         "0.040605631306763035",
         "0.6830973709863759",
         "0.5564194629315227",
         "0.12984952951959472",
         "0.1843620034577846",
         "10.836755438303902",
         "10.822488842900633",
         "8.162033716583597",
         "8.205062081176568",
         "8.477578620018123",
         "6.1744453334858855",
         "11.258281877486997",
         "0.3323975096470176"
        ],
        [
         "min",
         "0.0",
         "0.0",
         "0.0",
         "0.0",
         "0.0",
         "0.0",
         "0.0",
         "0.0",
         "0.0",
         "0.0",
         "0.0",
         "0.0",
         "0.0",
         "0.0",
         "0.0",
         "0.0",
         "0.0",
         "0.0",
         "0.0",
         "0.0",
         "0.0",
         "1421927377.0",
         "1421927414.0",
         "0.0",
         "0.0",
         "0.0",
         "0.0",
         "0.0",
         "0.0",
         "0.0",
         "0.0",
         "0.0",
         "0.0",
         "1.0",
         "1.0",
         "1.0",
         "1.0",
         "1.0",
         "1.0",
         "1.0",
         "0.0"
        ],
        [
         "25%",
         "0.001037",
         "200.0",
         "178.0",
         "31.0",
         "29.0",
         "0.0",
         "0.0",
         "135396.2656",
         "11915.9375",
         "2.0",
         "2.0",
         "0.0",
         "0.0",
         "0.0",
         "0.0",
         "60.0",
         "69.0",
         "0.0",
         "0.0",
         "0.0",
         "0.0",
         "1421952193.0",
         "1421952196.0",
         "0.009",
         "0.006",
         "0.0",
         "0.0",
         "0.0",
         "0.0",
         "0.0",
         "0.0",
         "0.0",
         "0.0",
         "2.0",
         "2.0",
         "2.0",
         "2.0",
         "1.0",
         "1.0",
         "1.0",
         "0.0"
        ],
        [
         "50%",
         "0.015861",
         "1470.0",
         "1820.0",
         "31.0",
         "29.0",
         "3.0",
         "4.0",
         "589303.75",
         "589317.875",
         "12.0",
         "12.0",
         "255.0",
         "255.0",
         "639725026.0",
         "638417164.0",
         "73.0",
         "89.0",
         "0.0",
         "0.0",
         "19.124899",
         "2.653561",
         "1424226977.0",
         "1424226978.0",
         "0.468262",
         "0.414755",
         "0.000613",
         "0.000483",
         "0.000122",
         "0.0",
         "0.0",
         "0.0",
         "0.0",
         "0.0",
         "5.0",
         "5.0",
         "3.0",
         "4.0",
         "1.0",
         "1.0",
         "2.0",
         "0.0"
        ],
        [
         "75%",
         "0.21455449999999998",
         "3182.0",
         "14894.0",
         "31.0",
         "29.0",
         "7.0",
         "14.0",
         "2039922.75",
         "2925973.5",
         "44.0",
         "42.0",
         "255.0",
         "255.0",
         "2467159621.0",
         "2469410644.0",
         "132.0",
         "565.0",
         "0.0",
         "0.0",
         "413.7935225",
         "63.508566",
         "1424245007.0",
         "1424245008.0",
         "7.3514275",
         "6.2021",
         "0.000702",
         "0.000554",
         "0.00014",
         "0.0",
         "0.0",
         "0.0",
         "0.0",
         "0.0",
         "10.0",
         "10.0",
         "6.0",
         "7.0",
         "2.0",
         "1.0",
         "5.0",
         "0.0"
        ],
        [
         "max",
         "8786.637695",
         "14355774.0",
         "14657531.0",
         "255.0",
         "254.0",
         "5319.0",
         "5507.0",
         "5988000256.0",
         "128761904.0",
         "10646.0",
         "11018.0",
         "255.0",
         "255.0",
         "4294958913.0",
         "4294953724.0",
         "1504.0",
         "1500.0",
         "172.0",
         "6558056.0",
         "1483830.917",
         "781221.1183",
         "1424262068.0",
         "1424262069.0",
         "84371.496",
         "59485.32",
         "10.037506",
         "4.525272",
         "5.512234",
         "1.0",
         "6.0",
         "36.0",
         "1.0",
         "8.0",
         "67.0",
         "67.0",
         "67.0",
         "67.0",
         "67.0",
         "60.0",
         "67.0",
         "1.0"
        ]
       ],
       "shape": {
        "columns": 41,
        "rows": 8
       }
      },
      "text/html": [
       "<div>\n",
       "<style scoped>\n",
       "    .dataframe tbody tr th:only-of-type {\n",
       "        vertical-align: middle;\n",
       "    }\n",
       "\n",
       "    .dataframe tbody tr th {\n",
       "        vertical-align: top;\n",
       "    }\n",
       "\n",
       "    .dataframe thead th {\n",
       "        text-align: right;\n",
       "    }\n",
       "</style>\n",
       "<table border=\"1\" class=\"dataframe\">\n",
       "  <thead>\n",
       "    <tr style=\"text-align: right;\">\n",
       "      <th>Name</th>\n",
       "      <th>dur</th>\n",
       "      <th>sbytes</th>\n",
       "      <th>dbytes</th>\n",
       "      <th>sttl</th>\n",
       "      <th>dttl</th>\n",
       "      <th>sloss</th>\n",
       "      <th>dloss</th>\n",
       "      <th>sload</th>\n",
       "      <th>dload</th>\n",
       "      <th>spkts</th>\n",
       "      <th>dpkts</th>\n",
       "      <th>swin</th>\n",
       "      <th>dwin</th>\n",
       "      <th>stcpb</th>\n",
       "      <th>dtcpb</th>\n",
       "      <th>smeansz</th>\n",
       "      <th>dmeansz</th>\n",
       "      <th>trans_depth</th>\n",
       "      <th>res_bdy_len</th>\n",
       "      <th>sjit</th>\n",
       "      <th>djit</th>\n",
       "      <th>stime</th>\n",
       "      <th>ltime</th>\n",
       "      <th>sintpkt</th>\n",
       "      <th>dintpkt</th>\n",
       "      <th>tcprtt</th>\n",
       "      <th>synack</th>\n",
       "      <th>ackdat</th>\n",
       "      <th>is_sm_ips_ports</th>\n",
       "      <th>ct_state_ttl</th>\n",
       "      <th>ct_flw_http_mthd</th>\n",
       "      <th>is_ftp_login</th>\n",
       "      <th>ct_ftp_cmd</th>\n",
       "      <th>ct_srv_src</th>\n",
       "      <th>ct_srv_dst</th>\n",
       "      <th>ct_dst_ltm</th>\n",
       "      <th>ct_src_ ltm</th>\n",
       "      <th>ct_src_dport_ltm</th>\n",
       "      <th>ct_dst_sport_ltm</th>\n",
       "      <th>ct_dst_src_ltm</th>\n",
       "      <th>label</th>\n",
       "    </tr>\n",
       "  </thead>\n",
       "  <tbody>\n",
       "    <tr>\n",
       "      <th>count</th>\n",
       "      <td>2.540047e+06</td>\n",
       "      <td>2.540047e+06</td>\n",
       "      <td>2.540047e+06</td>\n",
       "      <td>2.540047e+06</td>\n",
       "      <td>2.540047e+06</td>\n",
       "      <td>2.540047e+06</td>\n",
       "      <td>2.540047e+06</td>\n",
       "      <td>2.540047e+06</td>\n",
       "      <td>2.540047e+06</td>\n",
       "      <td>2.540047e+06</td>\n",
       "      <td>2.540047e+06</td>\n",
       "      <td>2.540047e+06</td>\n",
       "      <td>2.540047e+06</td>\n",
       "      <td>2.540047e+06</td>\n",
       "      <td>2.540047e+06</td>\n",
       "      <td>2.540047e+06</td>\n",
       "      <td>2.540047e+06</td>\n",
       "      <td>2.540047e+06</td>\n",
       "      <td>2.540047e+06</td>\n",
       "      <td>2.540047e+06</td>\n",
       "      <td>2.540047e+06</td>\n",
       "      <td>2.540047e+06</td>\n",
       "      <td>2.540047e+06</td>\n",
       "      <td>2.540047e+06</td>\n",
       "      <td>2.540047e+06</td>\n",
       "      <td>2.540047e+06</td>\n",
       "      <td>2.540047e+06</td>\n",
       "      <td>2.540047e+06</td>\n",
       "      <td>2.540047e+06</td>\n",
       "      <td>2.540047e+06</td>\n",
       "      <td>2.540047e+06</td>\n",
       "      <td>2.540047e+06</td>\n",
       "      <td>2.540047e+06</td>\n",
       "      <td>2.540047e+06</td>\n",
       "      <td>2.540047e+06</td>\n",
       "      <td>2.540047e+06</td>\n",
       "      <td>2.540047e+06</td>\n",
       "      <td>2.540047e+06</td>\n",
       "      <td>2.540047e+06</td>\n",
       "      <td>2.540047e+06</td>\n",
       "      <td>2.540047e+06</td>\n",
       "    </tr>\n",
       "    <tr>\n",
       "      <th>mean</th>\n",
       "      <td>6.587916e-01</td>\n",
       "      <td>4.339600e+03</td>\n",
       "      <td>3.642759e+04</td>\n",
       "      <td>6.278197e+01</td>\n",
       "      <td>3.076681e+01</td>\n",
       "      <td>5.163921e+00</td>\n",
       "      <td>1.632944e+01</td>\n",
       "      <td>3.695645e+07</td>\n",
       "      <td>2.450861e+06</td>\n",
       "      <td>3.328884e+01</td>\n",
       "      <td>4.272664e+01</td>\n",
       "      <td>1.500887e+02</td>\n",
       "      <td>1.497459e+02</td>\n",
       "      <td>1.261701e+09</td>\n",
       "      <td>1.261766e+09</td>\n",
       "      <td>1.242536e+02</td>\n",
       "      <td>2.766719e+02</td>\n",
       "      <td>8.325318e-02</td>\n",
       "      <td>4.242118e+03</td>\n",
       "      <td>1.589037e+03</td>\n",
       "      <td>7.300755e+02</td>\n",
       "      <td>1.423261e+09</td>\n",
       "      <td>1.423261e+09</td>\n",
       "      <td>1.933225e+02</td>\n",
       "      <td>7.882476e+01</td>\n",
       "      <td>6.180475e-03</td>\n",
       "      <td>3.287595e-03</td>\n",
       "      <td>2.892880e-03</td>\n",
       "      <td>1.651544e-03</td>\n",
       "      <td>2.611546e-01</td>\n",
       "      <td>1.100779e-01</td>\n",
       "      <td>1.715519e-02</td>\n",
       "      <td>2.055789e-02</td>\n",
       "      <td>9.206988e+00</td>\n",
       "      <td>8.988958e+00</td>\n",
       "      <td>6.439103e+00</td>\n",
       "      <td>6.900986e+00</td>\n",
       "      <td>4.642139e+00</td>\n",
       "      <td>3.592729e+00</td>\n",
       "      <td>6.845886e+00</td>\n",
       "      <td>1.264870e-01</td>\n",
       "    </tr>\n",
       "    <tr>\n",
       "      <th>std</th>\n",
       "      <td>1.392493e+01</td>\n",
       "      <td>5.640599e+04</td>\n",
       "      <td>1.610960e+05</td>\n",
       "      <td>7.462277e+01</td>\n",
       "      <td>4.285089e+01</td>\n",
       "      <td>2.251707e+01</td>\n",
       "      <td>5.659474e+01</td>\n",
       "      <td>1.186043e+08</td>\n",
       "      <td>4.224863e+06</td>\n",
       "      <td>7.628388e+01</td>\n",
       "      <td>1.215020e+02</td>\n",
       "      <td>1.254824e+02</td>\n",
       "      <td>1.255438e+02</td>\n",
       "      <td>1.422027e+09</td>\n",
       "      <td>1.422139e+09</td>\n",
       "      <td>1.519162e+02</td>\n",
       "      <td>3.356166e+02</td>\n",
       "      <td>3.500045e-01</td>\n",
       "      <td>4.750053e+04</td>\n",
       "      <td>1.691036e+04</td>\n",
       "      <td>3.438558e+03</td>\n",
       "      <td>1.134449e+06</td>\n",
       "      <td>1.134448e+06</td>\n",
       "      <td>2.779163e+03</td>\n",
       "      <td>1.433191e+03</td>\n",
       "      <td>4.615863e-02</td>\n",
       "      <td>2.593570e-02</td>\n",
       "      <td>2.394668e-02</td>\n",
       "      <td>4.060563e-02</td>\n",
       "      <td>6.830974e-01</td>\n",
       "      <td>5.564195e-01</td>\n",
       "      <td>1.298495e-01</td>\n",
       "      <td>1.843620e-01</td>\n",
       "      <td>1.083676e+01</td>\n",
       "      <td>1.082249e+01</td>\n",
       "      <td>8.162034e+00</td>\n",
       "      <td>8.205062e+00</td>\n",
       "      <td>8.477579e+00</td>\n",
       "      <td>6.174445e+00</td>\n",
       "      <td>1.125828e+01</td>\n",
       "      <td>3.323975e-01</td>\n",
       "    </tr>\n",
       "    <tr>\n",
       "      <th>min</th>\n",
       "      <td>0.000000e+00</td>\n",
       "      <td>0.000000e+00</td>\n",
       "      <td>0.000000e+00</td>\n",
       "      <td>0.000000e+00</td>\n",
       "      <td>0.000000e+00</td>\n",
       "      <td>0.000000e+00</td>\n",
       "      <td>0.000000e+00</td>\n",
       "      <td>0.000000e+00</td>\n",
       "      <td>0.000000e+00</td>\n",
       "      <td>0.000000e+00</td>\n",
       "      <td>0.000000e+00</td>\n",
       "      <td>0.000000e+00</td>\n",
       "      <td>0.000000e+00</td>\n",
       "      <td>0.000000e+00</td>\n",
       "      <td>0.000000e+00</td>\n",
       "      <td>0.000000e+00</td>\n",
       "      <td>0.000000e+00</td>\n",
       "      <td>0.000000e+00</td>\n",
       "      <td>0.000000e+00</td>\n",
       "      <td>0.000000e+00</td>\n",
       "      <td>0.000000e+00</td>\n",
       "      <td>1.421927e+09</td>\n",
       "      <td>1.421927e+09</td>\n",
       "      <td>0.000000e+00</td>\n",
       "      <td>0.000000e+00</td>\n",
       "      <td>0.000000e+00</td>\n",
       "      <td>0.000000e+00</td>\n",
       "      <td>0.000000e+00</td>\n",
       "      <td>0.000000e+00</td>\n",
       "      <td>0.000000e+00</td>\n",
       "      <td>0.000000e+00</td>\n",
       "      <td>0.000000e+00</td>\n",
       "      <td>0.000000e+00</td>\n",
       "      <td>1.000000e+00</td>\n",
       "      <td>1.000000e+00</td>\n",
       "      <td>1.000000e+00</td>\n",
       "      <td>1.000000e+00</td>\n",
       "      <td>1.000000e+00</td>\n",
       "      <td>1.000000e+00</td>\n",
       "      <td>1.000000e+00</td>\n",
       "      <td>0.000000e+00</td>\n",
       "    </tr>\n",
       "    <tr>\n",
       "      <th>25%</th>\n",
       "      <td>1.037000e-03</td>\n",
       "      <td>2.000000e+02</td>\n",
       "      <td>1.780000e+02</td>\n",
       "      <td>3.100000e+01</td>\n",
       "      <td>2.900000e+01</td>\n",
       "      <td>0.000000e+00</td>\n",
       "      <td>0.000000e+00</td>\n",
       "      <td>1.353963e+05</td>\n",
       "      <td>1.191594e+04</td>\n",
       "      <td>2.000000e+00</td>\n",
       "      <td>2.000000e+00</td>\n",
       "      <td>0.000000e+00</td>\n",
       "      <td>0.000000e+00</td>\n",
       "      <td>0.000000e+00</td>\n",
       "      <td>0.000000e+00</td>\n",
       "      <td>6.000000e+01</td>\n",
       "      <td>6.900000e+01</td>\n",
       "      <td>0.000000e+00</td>\n",
       "      <td>0.000000e+00</td>\n",
       "      <td>0.000000e+00</td>\n",
       "      <td>0.000000e+00</td>\n",
       "      <td>1.421952e+09</td>\n",
       "      <td>1.421952e+09</td>\n",
       "      <td>9.000000e-03</td>\n",
       "      <td>6.000000e-03</td>\n",
       "      <td>0.000000e+00</td>\n",
       "      <td>0.000000e+00</td>\n",
       "      <td>0.000000e+00</td>\n",
       "      <td>0.000000e+00</td>\n",
       "      <td>0.000000e+00</td>\n",
       "      <td>0.000000e+00</td>\n",
       "      <td>0.000000e+00</td>\n",
       "      <td>0.000000e+00</td>\n",
       "      <td>2.000000e+00</td>\n",
       "      <td>2.000000e+00</td>\n",
       "      <td>2.000000e+00</td>\n",
       "      <td>2.000000e+00</td>\n",
       "      <td>1.000000e+00</td>\n",
       "      <td>1.000000e+00</td>\n",
       "      <td>1.000000e+00</td>\n",
       "      <td>0.000000e+00</td>\n",
       "    </tr>\n",
       "    <tr>\n",
       "      <th>50%</th>\n",
       "      <td>1.586100e-02</td>\n",
       "      <td>1.470000e+03</td>\n",
       "      <td>1.820000e+03</td>\n",
       "      <td>3.100000e+01</td>\n",
       "      <td>2.900000e+01</td>\n",
       "      <td>3.000000e+00</td>\n",
       "      <td>4.000000e+00</td>\n",
       "      <td>5.893038e+05</td>\n",
       "      <td>5.893179e+05</td>\n",
       "      <td>1.200000e+01</td>\n",
       "      <td>1.200000e+01</td>\n",
       "      <td>2.550000e+02</td>\n",
       "      <td>2.550000e+02</td>\n",
       "      <td>6.397250e+08</td>\n",
       "      <td>6.384172e+08</td>\n",
       "      <td>7.300000e+01</td>\n",
       "      <td>8.900000e+01</td>\n",
       "      <td>0.000000e+00</td>\n",
       "      <td>0.000000e+00</td>\n",
       "      <td>1.912490e+01</td>\n",
       "      <td>2.653561e+00</td>\n",
       "      <td>1.424227e+09</td>\n",
       "      <td>1.424227e+09</td>\n",
       "      <td>4.682620e-01</td>\n",
       "      <td>4.147550e-01</td>\n",
       "      <td>6.130000e-04</td>\n",
       "      <td>4.830000e-04</td>\n",
       "      <td>1.220000e-04</td>\n",
       "      <td>0.000000e+00</td>\n",
       "      <td>0.000000e+00</td>\n",
       "      <td>0.000000e+00</td>\n",
       "      <td>0.000000e+00</td>\n",
       "      <td>0.000000e+00</td>\n",
       "      <td>5.000000e+00</td>\n",
       "      <td>5.000000e+00</td>\n",
       "      <td>3.000000e+00</td>\n",
       "      <td>4.000000e+00</td>\n",
       "      <td>1.000000e+00</td>\n",
       "      <td>1.000000e+00</td>\n",
       "      <td>2.000000e+00</td>\n",
       "      <td>0.000000e+00</td>\n",
       "    </tr>\n",
       "    <tr>\n",
       "      <th>75%</th>\n",
       "      <td>2.145545e-01</td>\n",
       "      <td>3.182000e+03</td>\n",
       "      <td>1.489400e+04</td>\n",
       "      <td>3.100000e+01</td>\n",
       "      <td>2.900000e+01</td>\n",
       "      <td>7.000000e+00</td>\n",
       "      <td>1.400000e+01</td>\n",
       "      <td>2.039923e+06</td>\n",
       "      <td>2.925974e+06</td>\n",
       "      <td>4.400000e+01</td>\n",
       "      <td>4.200000e+01</td>\n",
       "      <td>2.550000e+02</td>\n",
       "      <td>2.550000e+02</td>\n",
       "      <td>2.467160e+09</td>\n",
       "      <td>2.469411e+09</td>\n",
       "      <td>1.320000e+02</td>\n",
       "      <td>5.650000e+02</td>\n",
       "      <td>0.000000e+00</td>\n",
       "      <td>0.000000e+00</td>\n",
       "      <td>4.137935e+02</td>\n",
       "      <td>6.350857e+01</td>\n",
       "      <td>1.424245e+09</td>\n",
       "      <td>1.424245e+09</td>\n",
       "      <td>7.351427e+00</td>\n",
       "      <td>6.202100e+00</td>\n",
       "      <td>7.020000e-04</td>\n",
       "      <td>5.540000e-04</td>\n",
       "      <td>1.400000e-04</td>\n",
       "      <td>0.000000e+00</td>\n",
       "      <td>0.000000e+00</td>\n",
       "      <td>0.000000e+00</td>\n",
       "      <td>0.000000e+00</td>\n",
       "      <td>0.000000e+00</td>\n",
       "      <td>1.000000e+01</td>\n",
       "      <td>1.000000e+01</td>\n",
       "      <td>6.000000e+00</td>\n",
       "      <td>7.000000e+00</td>\n",
       "      <td>2.000000e+00</td>\n",
       "      <td>1.000000e+00</td>\n",
       "      <td>5.000000e+00</td>\n",
       "      <td>0.000000e+00</td>\n",
       "    </tr>\n",
       "    <tr>\n",
       "      <th>max</th>\n",
       "      <td>8.786638e+03</td>\n",
       "      <td>1.435577e+07</td>\n",
       "      <td>1.465753e+07</td>\n",
       "      <td>2.550000e+02</td>\n",
       "      <td>2.540000e+02</td>\n",
       "      <td>5.319000e+03</td>\n",
       "      <td>5.507000e+03</td>\n",
       "      <td>5.988000e+09</td>\n",
       "      <td>1.287619e+08</td>\n",
       "      <td>1.064600e+04</td>\n",
       "      <td>1.101800e+04</td>\n",
       "      <td>2.550000e+02</td>\n",
       "      <td>2.550000e+02</td>\n",
       "      <td>4.294959e+09</td>\n",
       "      <td>4.294954e+09</td>\n",
       "      <td>1.504000e+03</td>\n",
       "      <td>1.500000e+03</td>\n",
       "      <td>1.720000e+02</td>\n",
       "      <td>6.558056e+06</td>\n",
       "      <td>1.483831e+06</td>\n",
       "      <td>7.812211e+05</td>\n",
       "      <td>1.424262e+09</td>\n",
       "      <td>1.424262e+09</td>\n",
       "      <td>8.437150e+04</td>\n",
       "      <td>5.948532e+04</td>\n",
       "      <td>1.003751e+01</td>\n",
       "      <td>4.525272e+00</td>\n",
       "      <td>5.512234e+00</td>\n",
       "      <td>1.000000e+00</td>\n",
       "      <td>6.000000e+00</td>\n",
       "      <td>3.600000e+01</td>\n",
       "      <td>1.000000e+00</td>\n",
       "      <td>8.000000e+00</td>\n",
       "      <td>6.700000e+01</td>\n",
       "      <td>6.700000e+01</td>\n",
       "      <td>6.700000e+01</td>\n",
       "      <td>6.700000e+01</td>\n",
       "      <td>6.700000e+01</td>\n",
       "      <td>6.000000e+01</td>\n",
       "      <td>6.700000e+01</td>\n",
       "      <td>1.000000e+00</td>\n",
       "    </tr>\n",
       "  </tbody>\n",
       "</table>\n",
       "</div>"
      ],
      "text/plain": [
       "Name            dur        sbytes        dbytes          sttl          dttl         sloss         dloss         sload         dload         spkts         dpkts          swin          dwin         stcpb         dtcpb       smeansz       dmeansz   trans_depth   res_bdy_len          sjit          djit         stime         ltime       sintpkt       dintpkt        tcprtt        synack        ackdat  is_sm_ips_ports  ct_state_ttl  ct_flw_http_mthd  is_ftp_login    ct_ftp_cmd    ct_srv_src    ct_srv_dst    ct_dst_ltm   ct_src_ ltm  ct_src_dport_ltm  ct_dst_sport_ltm  ct_dst_src_ltm         label\n",
       "count  2.540047e+06  2.540047e+06  2.540047e+06  2.540047e+06  2.540047e+06  2.540047e+06  2.540047e+06  2.540047e+06  2.540047e+06  2.540047e+06  2.540047e+06  2.540047e+06  2.540047e+06  2.540047e+06  2.540047e+06  2.540047e+06  2.540047e+06  2.540047e+06  2.540047e+06  2.540047e+06  2.540047e+06  2.540047e+06  2.540047e+06  2.540047e+06  2.540047e+06  2.540047e+06  2.540047e+06  2.540047e+06     2.540047e+06  2.540047e+06      2.540047e+06  2.540047e+06  2.540047e+06  2.540047e+06  2.540047e+06  2.540047e+06  2.540047e+06      2.540047e+06      2.540047e+06    2.540047e+06  2.540047e+06\n",
       "mean   6.587916e-01  4.339600e+03  3.642759e+04  6.278197e+01  3.076681e+01  5.163921e+00  1.632944e+01  3.695645e+07  2.450861e+06  3.328884e+01  4.272664e+01  1.500887e+02  1.497459e+02  1.261701e+09  1.261766e+09  1.242536e+02  2.766719e+02  8.325318e-02  4.242118e+03  1.589037e+03  7.300755e+02  1.423261e+09  1.423261e+09  1.933225e+02  7.882476e+01  6.180475e-03  3.287595e-03  2.892880e-03     1.651544e-03  2.611546e-01      1.100779e-01  1.715519e-02  2.055789e-02  9.206988e+00  8.988958e+00  6.439103e+00  6.900986e+00      4.642139e+00      3.592729e+00    6.845886e+00  1.264870e-01\n",
       "std    1.392493e+01  5.640599e+04  1.610960e+05  7.462277e+01  4.285089e+01  2.251707e+01  5.659474e+01  1.186043e+08  4.224863e+06  7.628388e+01  1.215020e+02  1.254824e+02  1.255438e+02  1.422027e+09  1.422139e+09  1.519162e+02  3.356166e+02  3.500045e-01  4.750053e+04  1.691036e+04  3.438558e+03  1.134449e+06  1.134448e+06  2.779163e+03  1.433191e+03  4.615863e-02  2.593570e-02  2.394668e-02     4.060563e-02  6.830974e-01      5.564195e-01  1.298495e-01  1.843620e-01  1.083676e+01  1.082249e+01  8.162034e+00  8.205062e+00      8.477579e+00      6.174445e+00    1.125828e+01  3.323975e-01\n",
       "min    0.000000e+00  0.000000e+00  0.000000e+00  0.000000e+00  0.000000e+00  0.000000e+00  0.000000e+00  0.000000e+00  0.000000e+00  0.000000e+00  0.000000e+00  0.000000e+00  0.000000e+00  0.000000e+00  0.000000e+00  0.000000e+00  0.000000e+00  0.000000e+00  0.000000e+00  0.000000e+00  0.000000e+00  1.421927e+09  1.421927e+09  0.000000e+00  0.000000e+00  0.000000e+00  0.000000e+00  0.000000e+00     0.000000e+00  0.000000e+00      0.000000e+00  0.000000e+00  0.000000e+00  1.000000e+00  1.000000e+00  1.000000e+00  1.000000e+00      1.000000e+00      1.000000e+00    1.000000e+00  0.000000e+00\n",
       "25%    1.037000e-03  2.000000e+02  1.780000e+02  3.100000e+01  2.900000e+01  0.000000e+00  0.000000e+00  1.353963e+05  1.191594e+04  2.000000e+00  2.000000e+00  0.000000e+00  0.000000e+00  0.000000e+00  0.000000e+00  6.000000e+01  6.900000e+01  0.000000e+00  0.000000e+00  0.000000e+00  0.000000e+00  1.421952e+09  1.421952e+09  9.000000e-03  6.000000e-03  0.000000e+00  0.000000e+00  0.000000e+00     0.000000e+00  0.000000e+00      0.000000e+00  0.000000e+00  0.000000e+00  2.000000e+00  2.000000e+00  2.000000e+00  2.000000e+00      1.000000e+00      1.000000e+00    1.000000e+00  0.000000e+00\n",
       "50%    1.586100e-02  1.470000e+03  1.820000e+03  3.100000e+01  2.900000e+01  3.000000e+00  4.000000e+00  5.893038e+05  5.893179e+05  1.200000e+01  1.200000e+01  2.550000e+02  2.550000e+02  6.397250e+08  6.384172e+08  7.300000e+01  8.900000e+01  0.000000e+00  0.000000e+00  1.912490e+01  2.653561e+00  1.424227e+09  1.424227e+09  4.682620e-01  4.147550e-01  6.130000e-04  4.830000e-04  1.220000e-04     0.000000e+00  0.000000e+00      0.000000e+00  0.000000e+00  0.000000e+00  5.000000e+00  5.000000e+00  3.000000e+00  4.000000e+00      1.000000e+00      1.000000e+00    2.000000e+00  0.000000e+00\n",
       "75%    2.145545e-01  3.182000e+03  1.489400e+04  3.100000e+01  2.900000e+01  7.000000e+00  1.400000e+01  2.039923e+06  2.925974e+06  4.400000e+01  4.200000e+01  2.550000e+02  2.550000e+02  2.467160e+09  2.469411e+09  1.320000e+02  5.650000e+02  0.000000e+00  0.000000e+00  4.137935e+02  6.350857e+01  1.424245e+09  1.424245e+09  7.351427e+00  6.202100e+00  7.020000e-04  5.540000e-04  1.400000e-04     0.000000e+00  0.000000e+00      0.000000e+00  0.000000e+00  0.000000e+00  1.000000e+01  1.000000e+01  6.000000e+00  7.000000e+00      2.000000e+00      1.000000e+00    5.000000e+00  0.000000e+00\n",
       "max    8.786638e+03  1.435577e+07  1.465753e+07  2.550000e+02  2.540000e+02  5.319000e+03  5.507000e+03  5.988000e+09  1.287619e+08  1.064600e+04  1.101800e+04  2.550000e+02  2.550000e+02  4.294959e+09  4.294954e+09  1.504000e+03  1.500000e+03  1.720000e+02  6.558056e+06  1.483831e+06  7.812211e+05  1.424262e+09  1.424262e+09  8.437150e+04  5.948532e+04  1.003751e+01  4.525272e+00  5.512234e+00     1.000000e+00  6.000000e+00      3.600000e+01  1.000000e+00  8.000000e+00  6.700000e+01  6.700000e+01  6.700000e+01  6.700000e+01      6.700000e+01      6.000000e+01    6.700000e+01  1.000000e+00"
      ]
     },
     "execution_count": 106,
     "metadata": {},
     "output_type": "execute_result"
    }
   ],
   "source": [
    "# Clamp extreme Values\n",
    "all_data_numeric = all_data.select_dtypes(include=[np.number])\n",
    "all_data_numeric.describe(include='all')"
   ]
  },
  {
   "cell_type": "code",
   "execution_count": 107,
   "id": "80421d59",
   "metadata": {},
   "outputs": [],
   "source": [
    "DEBUG =0\n",
    "\n",
    "full_clamp_thresholds = {}\n",
    "for feature in all_data_numeric.columns:\n",
    "    if DEBUG == 1:\n",
    "        print(feature)\n",
    "        print('max = '+str(all_data_numeric[feature].max()))\n",
    "        print('75th = '+str(all_data_numeric[feature].quantile(0.95)))\n",
    "        print('median = '+str(all_data_numeric[feature].median()))\n",
    "        print(all_data_numeric[feature].max()>10*all_data_numeric[feature].median())\n",
    "        print('----------------------------------------------------')\n",
    "\n",
    "    full_clamp_thresholds[feature] = {\n",
    "        'max': all_data_numeric[feature].max(),\n",
    "        '95th': all_data_numeric[feature].quantile(0.95),\n",
    "        'median': all_data_numeric[feature].median()\n",
    "    }\n",
    "\n",
    "    if full_clamp_thresholds[feature]['max'] > 10 * full_clamp_thresholds[feature]['median'] and full_clamp_thresholds[feature]['max'] > 10:\n",
    "        all_data[feature] = np.where(all_data[feature] < full_clamp_thresholds[feature]['95th'], all_data[feature], full_clamp_thresholds[feature]['95th'])"
   ]
  },
  {
   "cell_type": "code",
   "execution_count": 108,
   "id": "39c79688",
   "metadata": {},
   "outputs": [
    {
     "data": {
      "text/plain": [
       "{'dur': {'max': np.float64(59.999989),\n",
       "  '95th': np.float64(3.079511),\n",
       "  'median': np.float64(0.001582)},\n",
       " 'spkts': {'max': np.int64(9616),\n",
       "  '95th': np.float64(64.0),\n",
       "  'median': np.float64(2.0)},\n",
       " 'dpkts': {'max': np.int64(10974),\n",
       "  '95th': np.float64(62.0),\n",
       "  'median': np.float64(2.0)},\n",
       " 'sbytes': {'max': np.int64(12965233),\n",
       "  '95th': np.float64(13662.0),\n",
       "  'median': np.float64(430.0)},\n",
       " 'dbytes': {'max': np.int64(14655550),\n",
       "  '95th': np.float64(39076.0),\n",
       "  'median': np.float64(164.0)},\n",
       " 'rate': {'max': np.float64(1000000.003),\n",
       "  '95th': np.float64(333333.3215),\n",
       "  'median': np.float64(3225.80652)},\n",
       " 'sttl': {'max': np.int64(255),\n",
       "  '95th': np.float64(254.0),\n",
       "  'median': np.float64(254.0)},\n",
       " 'dttl': {'max': np.int64(254),\n",
       "  '95th': np.float64(252.0),\n",
       "  'median': np.float64(29.0)},\n",
       " 'sload': {'max': np.float64(5988000256.0),\n",
       "  '95th': np.float64(266666656.0),\n",
       "  'median': np.float64(879674.75)},\n",
       " 'dload': {'max': np.float64(22422730.0),\n",
       "  '95th': np.float64(4071050.0),\n",
       "  'median': np.float64(1447.022705)},\n",
       " 'sloss': {'max': np.int64(4803),\n",
       "  '95th': np.float64(12.0),\n",
       "  'median': np.float64(0.0)},\n",
       " 'dloss': {'max': np.int64(5484),\n",
       "  '95th': np.float64(24.0),\n",
       "  'median': np.float64(0.0)},\n",
       " 'sinpkt': {'max': np.float64(84371.496),\n",
       "  '95th': np.float64(245.212857),\n",
       "  'median': np.float64(0.279733)},\n",
       " 'dinpkt': {'max': np.float64(56716.824),\n",
       "  '95th': np.float64(160.491672),\n",
       "  'median': np.float64(0.006)},\n",
       " 'sjit': {'max': np.float64(1460480.016),\n",
       "  '95th': np.float64(9505.475298),\n",
       "  'median': np.float64(0.0)},\n",
       " 'djit': {'max': np.float64(289388.2697),\n",
       "  '95th': np.float64(3054.771518),\n",
       "  'median': np.float64(0.0)},\n",
       " 'swin': {'max': np.int64(255),\n",
       "  '95th': np.float64(255.0),\n",
       "  'median': np.float64(0.0)},\n",
       " 'stcpb': {'max': np.int64(4294958913),\n",
       "  '95th': np.float64(3814196183.0),\n",
       "  'median': np.float64(0.0)},\n",
       " 'dtcpb': {'max': np.int64(4294881924),\n",
       "  '95th': np.float64(3813016696.0),\n",
       "  'median': np.float64(0.0)},\n",
       " 'dwin': {'max': np.int64(255),\n",
       "  '95th': np.float64(255.0),\n",
       "  'median': np.float64(0.0)},\n",
       " 'tcprtt': {'max': np.float64(2.518893),\n",
       "  '95th': np.float64(0.196678),\n",
       "  'median': np.float64(0.0)},\n",
       " 'synack': {'max': np.float64(2.100352),\n",
       "  '95th': np.float64(0.103576),\n",
       "  'median': np.float64(0.0)},\n",
       " 'ackdat': {'max': np.float64(1.520884),\n",
       "  '95th': np.float64(0.095469),\n",
       "  'median': np.float64(0.0)},\n",
       " 'smean': {'max': np.int64(1504),\n",
       "  '95th': np.float64(638.0),\n",
       "  'median': np.float64(73.0)},\n",
       " 'dmean': {'max': np.int64(1458),\n",
       "  '95th': np.float64(786.0),\n",
       "  'median': np.float64(44.0)},\n",
       " 'trans_depth': {'max': np.int64(172),\n",
       "  '95th': np.float64(1.0),\n",
       "  'median': np.float64(0.0)},\n",
       " 'response_body_len': {'max': np.int64(6558056),\n",
       "  '95th': np.float64(166.0),\n",
       "  'median': np.float64(0.0)},\n",
       " 'ct_srv_src': {'max': np.int64(63),\n",
       "  '95th': np.float64(33.0),\n",
       "  'median': np.float64(5.0)},\n",
       " 'ct_state_ttl': {'max': np.int64(6),\n",
       "  '95th': np.float64(2.0),\n",
       "  'median': np.float64(1.0)},\n",
       " 'ct_dst_ltm': {'max': np.int64(51),\n",
       "  '95th': np.float64(24.0),\n",
       "  'median': np.float64(2.0)},\n",
       " 'ct_src_dport_ltm': {'max': np.int64(51),\n",
       "  '95th': np.float64(22.0),\n",
       "  'median': np.float64(1.0)},\n",
       " 'ct_dst_sport_ltm': {'max': np.int64(46),\n",
       "  '95th': np.float64(17.0),\n",
       "  'median': np.float64(1.0)},\n",
       " 'ct_dst_src_ltm': {'max': np.int64(65),\n",
       "  '95th': np.float64(33.0),\n",
       "  'median': np.float64(3.0)},\n",
       " 'is_ftp_login': {'max': np.int64(4),\n",
       "  '95th': np.float64(0.0),\n",
       "  'median': np.float64(0.0)},\n",
       " 'ct_ftp_cmd': {'max': np.int64(4),\n",
       "  '95th': np.float64(0.0),\n",
       "  'median': np.float64(0.0)},\n",
       " 'ct_flw_http_mthd': {'max': np.int64(30),\n",
       "  '95th': np.float64(1.0),\n",
       "  'median': np.float64(0.0)},\n",
       " 'ct_src_ltm': {'max': np.int64(60),\n",
       "  '95th': np.float64(26.0),\n",
       "  'median': np.float64(3.0)},\n",
       " 'ct_srv_dst': {'max': np.int64(62),\n",
       "  '95th': np.float64(33.0),\n",
       "  'median': np.float64(4.0)},\n",
       " 'is_sm_ips_ports': {'max': np.int64(1),\n",
       "  '95th': np.float64(0.0),\n",
       "  'median': np.float64(0.0)},\n",
       " 'label': {'max': np.int64(1),\n",
       "  '95th': np.float64(1.0),\n",
       "  'median': np.float64(1.0)}}"
      ]
     },
     "execution_count": 108,
     "metadata": {},
     "output_type": "execute_result"
    }
   ],
   "source": [
    "clamp_thresholds"
   ]
  },
  {
   "cell_type": "code",
   "execution_count": 109,
   "id": "e4f4671e",
   "metadata": {},
   "outputs": [
    {
     "data": {
      "text/plain": [
       "['../model/full_clamp_thresholds.pkl']"
      ]
     },
     "execution_count": 109,
     "metadata": {},
     "output_type": "execute_result"
    }
   ],
   "source": [
    "import joblib\n",
    "joblib.dump(full_clamp_thresholds, '../model/full_clamp_thresholds.pkl')"
   ]
  },
  {
   "cell_type": "code",
   "execution_count": 110,
   "id": "90c00019",
   "metadata": {},
   "outputs": [],
   "source": [
    "# Apply log transformation to numeric columns\n",
    "all_data_numeric = all_data.select_dtypes(include=[np.number])\n",
    "all_data_before = all_data_numeric.copy()\n",
    "DEBUG = 0\n",
    "\n",
    "full_log_thresholds = {}\n",
    "\n",
    "for feature in all_data_numeric.columns:\n",
    "    if DEBUG == 1:\n",
    "        print(feature)\n",
    "        print('nunique = '+str(all_data_numeric[feature].nunique()))\n",
    "        print(all_data_numeric[feature].nunique()>50)\n",
    "        print('----------------------------------------------------')\n",
    "\n",
    "    full_log_thresholds[feature] = {\n",
    "        'nunique': all_data_numeric[feature].nunique(),\n",
    "        'min': all_data_numeric[feature].min()\n",
    "    }\n",
    "\n",
    "    if full_log_thresholds[feature]['nunique'] > 50:\n",
    "        if full_log_thresholds[feature]['min'] == 0:\n",
    "            all_data[feature] = np.log(all_data[feature] + 1)\n",
    "        else:\n",
    "            all_data[feature] = np.log(all_data[feature])\n",
    "\n",
    "all_data_numeric = all_data.select_dtypes(include=[np.number])"
   ]
  },
  {
   "cell_type": "code",
   "execution_count": 111,
   "id": "27b53809",
   "metadata": {},
   "outputs": [
    {
     "data": {
      "text/plain": [
       "{'dur': {'nunique': 480718, 'min': np.float64(0.0)},\n",
       " 'sbytes': {'nunique': 7086, 'min': np.float64(0.0)},\n",
       " 'dbytes': {'nunique': 12191, 'min': np.float64(0.0)},\n",
       " 'sttl': {'nunique': 13, 'min': np.int64(0)},\n",
       " 'dttl': {'nunique': 11, 'min': np.int64(0)},\n",
       " 'sloss': {'nunique': 20, 'min': np.float64(0.0)},\n",
       " 'dloss': {'nunique': 37, 'min': np.float64(0.0)},\n",
       " 'sload': {'nunique': 1097576, 'min': np.float64(0.0)},\n",
       " 'dload': {'nunique': 1077031, 'min': np.float64(0.0)},\n",
       " 'spkts': {'nunique': 123, 'min': np.float64(0.0)},\n",
       " 'dpkts': {'nunique': 127, 'min': np.float64(0.0)},\n",
       " 'swin': {'nunique': 36, 'min': np.int64(0)},\n",
       " 'dwin': {'nunique': 32, 'min': np.int64(0)},\n",
       " 'stcpb': {'nunique': 1429571, 'min': np.int64(0)},\n",
       " 'dtcpb': {'nunique': 1429031, 'min': np.int64(0)},\n",
       " 'smeansz': {'nunique': 603, 'min': np.float64(0.0)},\n",
       " 'dmeansz': {'nunique': 867, 'min': np.float64(0.0)},\n",
       " 'trans_depth': {'nunique': 2, 'min': np.float64(0.0)},\n",
       " 'res_bdy_len': {'nunique': 1875, 'min': np.float64(0.0)},\n",
       " 'sjit': {'nunique': 1265285, 'min': np.float64(0.0)},\n",
       " 'djit': {'nunique': 1308445, 'min': np.float64(0.0)},\n",
       " 'stime': {'nunique': 85348, 'min': np.int64(1421927377)},\n",
       " 'ltime': {'nunique': 85361, 'min': np.int64(1421927414)},\n",
       " 'sintpkt': {'nunique': 874780, 'min': np.float64(0.0)},\n",
       " 'dintpkt': {'nunique': 848767, 'min': np.float64(0.0)},\n",
       " 'tcprtt': {'nunique': 963, 'min': np.float64(0.0)},\n",
       " 'synack': {'nunique': 66997, 'min': np.float64(0.0)},\n",
       " 'ackdat': {'nunique': 60844, 'min': np.float64(0.0)},\n",
       " 'is_sm_ips_ports': {'nunique': 2, 'min': np.int64(0)},\n",
       " 'ct_state_ttl': {'nunique': 7, 'min': np.int64(0)},\n",
       " 'ct_flw_http_mthd': {'nunique': 2, 'min': np.float64(0.0)},\n",
       " 'is_ftp_login': {'nunique': 2, 'min': np.int64(0)},\n",
       " 'ct_ftp_cmd': {'nunique': 8, 'min': np.int64(0)},\n",
       " 'ct_srv_src': {'nunique': 36, 'min': np.float64(1.0)},\n",
       " 'ct_srv_dst': {'nunique': 36, 'min': np.float64(1.0)},\n",
       " 'ct_dst_ltm': {'nunique': 24, 'min': np.float64(1.0)},\n",
       " 'ct_src_ ltm': {'nunique': 24, 'min': np.float64(1.0)},\n",
       " 'ct_src_dport_ltm': {'nunique': 24, 'min': np.float64(1.0)},\n",
       " 'ct_dst_sport_ltm': {'nunique': 19, 'min': np.float64(1.0)},\n",
       " 'ct_dst_src_ltm': {'nunique': 36, 'min': np.float64(1.0)},\n",
       " 'label': {'nunique': 2, 'min': np.int64(0)}}"
      ]
     },
     "execution_count": 111,
     "metadata": {},
     "output_type": "execute_result"
    }
   ],
   "source": [
    "full_log_thresholds"
   ]
  },
  {
   "cell_type": "code",
   "execution_count": 112,
   "id": "46ee1354",
   "metadata": {},
   "outputs": [
    {
     "data": {
      "text/plain": [
       "['../model/full_log_thresholds.pkl']"
      ]
     },
     "execution_count": 112,
     "metadata": {},
     "output_type": "execute_result"
    }
   ],
   "source": [
    "import joblib\n",
    "joblib.dump(full_log_thresholds, '../model/full_log_thresholds.pkl')"
   ]
  },
  {
   "cell_type": "code",
   "execution_count": 113,
   "id": "ed992983",
   "metadata": {},
   "outputs": [
    {
     "data": {
      "application/vnd.microsoft.datawrangler.viewer.v0+json": {
       "columns": [
        {
         "name": "index",
         "rawType": "object",
         "type": "string"
        },
        {
         "name": "proto",
         "rawType": "object",
         "type": "unknown"
        },
        {
         "name": "state",
         "rawType": "object",
         "type": "unknown"
        },
        {
         "name": "service",
         "rawType": "object",
         "type": "unknown"
        }
       ],
       "ref": "1bd305b9-4beb-4fe5-84a6-024201886888",
       "rows": [
        [
         "count",
         "2540047",
         "2540047",
         "2540047"
        ],
        [
         "unique",
         "5",
         "4",
         "3"
        ],
        [
         "top",
         "tcp",
         "fin",
         "-"
        ],
        [
         "freq",
         "1495074",
         "1478689",
         "1246397"
        ]
       ],
       "shape": {
        "columns": 3,
        "rows": 4
       }
      },
      "text/html": [
       "<div>\n",
       "<style scoped>\n",
       "    .dataframe tbody tr th:only-of-type {\n",
       "        vertical-align: middle;\n",
       "    }\n",
       "\n",
       "    .dataframe tbody tr th {\n",
       "        vertical-align: top;\n",
       "    }\n",
       "\n",
       "    .dataframe thead th {\n",
       "        text-align: right;\n",
       "    }\n",
       "</style>\n",
       "<table border=\"1\" class=\"dataframe\">\n",
       "  <thead>\n",
       "    <tr style=\"text-align: right;\">\n",
       "      <th>Name</th>\n",
       "      <th>proto</th>\n",
       "      <th>state</th>\n",
       "      <th>service</th>\n",
       "    </tr>\n",
       "  </thead>\n",
       "  <tbody>\n",
       "    <tr>\n",
       "      <th>count</th>\n",
       "      <td>2540047</td>\n",
       "      <td>2540047</td>\n",
       "      <td>2540047</td>\n",
       "    </tr>\n",
       "    <tr>\n",
       "      <th>unique</th>\n",
       "      <td>5</td>\n",
       "      <td>4</td>\n",
       "      <td>3</td>\n",
       "    </tr>\n",
       "    <tr>\n",
       "      <th>top</th>\n",
       "      <td>tcp</td>\n",
       "      <td>fin</td>\n",
       "      <td>-</td>\n",
       "    </tr>\n",
       "    <tr>\n",
       "      <th>freq</th>\n",
       "      <td>1495074</td>\n",
       "      <td>1478689</td>\n",
       "      <td>1246397</td>\n",
       "    </tr>\n",
       "  </tbody>\n",
       "</table>\n",
       "</div>"
      ],
      "text/plain": [
       "Name      proto    state  service\n",
       "count   2540047  2540047  2540047\n",
       "unique        5        4        3\n",
       "top         tcp      fin        -\n",
       "freq    1495074  1478689  1246397"
      ]
     },
     "execution_count": 113,
     "metadata": {},
     "output_type": "execute_result"
    }
   ],
   "source": [
    "# Reduce categorical features into smaller sets:\n",
    "all_df_cat = all_data.select_dtypes(exclude=[np.number])\n",
    "all_df_cat.describe(include='all')"
   ]
  },
  {
   "cell_type": "code",
   "execution_count": 114,
   "id": "3f9592d7",
   "metadata": {},
   "outputs": [],
   "source": [
    "DEBUG = 0\n",
    "\n",
    "full_cat_thresholds = {}\n",
    "for feature in all_df_cat.columns:\n",
    "    if DEBUG == 1:\n",
    "        print(feature)\n",
    "        print('nunique = '+str(all_df_cat[feature].nunique()))\n",
    "        print(all_df_cat[feature].nunique()>6)\n",
    "        print(sum(all_df_cat[feature].isin(all_df_cat[feature].value_counts().head().index)))\n",
    "        print('----------------------------------------------------')\n",
    "\n",
    "    full_cat_thresholds[feature] = {\n",
    "        'nunique': all_df_cat[feature].nunique(),\n",
    "        'top_values': all_df_cat[feature].value_counts().head().index.tolist()\n",
    "    }\n",
    "\n",
    "    if full_cat_thresholds[feature]['nunique'] > 6:\n",
    "        all_data[feature] = np.where(all_data[feature].isin(full_cat_thresholds[feature]['top_values']), all_data[feature], '-')"
   ]
  },
  {
   "cell_type": "code",
   "execution_count": 115,
   "id": "3fd9040a",
   "metadata": {},
   "outputs": [
    {
     "data": {
      "text/plain": [
       "{'proto': {'nunique': 5, 'top_values': ['tcp', 'udp', 'other', 'unas', 'arp']},\n",
       " 'state': {'nunique': 4, 'top_values': ['fin', 'con', 'int', 'other']},\n",
       " 'service': {'nunique': 3, 'top_values': ['-', 'dns', 'other']}}"
      ]
     },
     "execution_count": 115,
     "metadata": {},
     "output_type": "execute_result"
    }
   ],
   "source": [
    "full_cat_thresholds"
   ]
  },
  {
   "cell_type": "code",
   "execution_count": 116,
   "id": "6556f4b8",
   "metadata": {},
   "outputs": [
    {
     "data": {
      "text/plain": [
       "['../model/full_cat_thresholds.pkl']"
      ]
     },
     "execution_count": 116,
     "metadata": {},
     "output_type": "execute_result"
    }
   ],
   "source": [
    "import joblib\n",
    "joblib.dump(full_cat_thresholds, '../model/full_cat_thresholds.pkl')"
   ]
  },
  {
   "cell_type": "code",
   "execution_count": 117,
   "id": "f1f21a65",
   "metadata": {},
   "outputs": [],
   "source": [
    "X = all_data.iloc[:,:-1]\n",
    "y = all_data.iloc[:,-1]"
   ]
  },
  {
   "cell_type": "code",
   "execution_count": 118,
   "id": "5b474870",
   "metadata": {},
   "outputs": [
    {
     "data": {
      "text/plain": [
       "(2540047, 43)"
      ]
     },
     "execution_count": 118,
     "metadata": {},
     "output_type": "execute_result"
    }
   ],
   "source": [
    "X.head()\n",
    "feature_names = list(X.columns)\n",
    "np.shape(X)"
   ]
  },
  {
   "cell_type": "code",
   "execution_count": 119,
   "id": "ff1782e5",
   "metadata": {},
   "outputs": [
    {
     "data": {
      "text/plain": [
       "['../model/full_one_hot_encoder.pkl']"
      ]
     },
     "execution_count": 119,
     "metadata": {},
     "output_type": "execute_result"
    }
   ],
   "source": [
    "full_ct = ColumnTransformer(transformers=[('encoder', OneHotEncoder(handle_unknown='ignore'), ['proto', 'state', 'service'])], remainder='passthrough')\n",
    "X = np.array(full_ct.fit_transform(X))\n",
    "\n",
    "joblib.dump(full_ct, '../model/full_one_hot_encoder.pkl')"
   ]
  },
  {
   "cell_type": "code",
   "execution_count": 120,
   "id": "a9665794",
   "metadata": {},
   "outputs": [
    {
     "data": {
      "text/plain": [
       "(2540047, 52)"
      ]
     },
     "execution_count": 120,
     "metadata": {},
     "output_type": "execute_result"
    }
   ],
   "source": [
    "np.shape(X)"
   ]
  },
  {
   "cell_type": "code",
   "execution_count": 121,
   "id": "6cc329ba",
   "metadata": {},
   "outputs": [],
   "source": [
    "X_train, X_test, y_train, y_test = train_test_split(X, y, \n",
    "                                                    test_size = 0.2, \n",
    "                                                    random_state = 0,\n",
    "                                                    stratify=y)"
   ]
  },
  {
   "cell_type": "code",
   "execution_count": 122,
   "id": "0b59e40c",
   "metadata": {},
   "outputs": [],
   "source": [
    "full_sc = StandardScaler()\n",
    "X_train[:, 18:] = full_sc.fit_transform(X_train[:, 18:])\n",
    "joblib.dump(full_sc, '../model/full_standard_scaler.pkl')\n",
    "X_test[:, 18:] = full_sc.transform(X_test[:, 18:])"
   ]
  },
  {
   "cell_type": "code",
   "execution_count": 123,
   "id": "a31b1890",
   "metadata": {},
   "outputs": [],
   "source": [
    "model_performance = pd.DataFrame(columns=['Accuracy','Recall','Precision','F1-Score','time to train','time to predict','total time'])"
   ]
  },
  {
   "cell_type": "code",
   "execution_count": 124,
   "id": "b0229889",
   "metadata": {},
   "outputs": [],
   "source": [
    "start = time.time()\n",
    "model = RandomForestClassifier(n_estimators = 100,n_jobs=-1,random_state=0,bootstrap=True,).fit(X_train,y_train)\n",
    "end_train = time.time()\n",
    "y_predictions = model.predict(X_test) # These are the predictions from the test data.\n",
    "end_predict = time.time()\n",
    "with open('full_model.pkl', 'wb') as f:\n",
    "    pickle.dump(model, f)"
   ]
  },
  {
   "cell_type": "code",
   "execution_count": 125,
   "id": "65e11a39",
   "metadata": {},
   "outputs": [
    {
     "name": "stdout",
     "output_type": "stream",
     "text": [
      "Accuracy: 99.59%\n",
      "Recall: 99.59%\n",
      "Precision: 99.59%\n",
      "F1-Score: 99.59%\n",
      "time to train: 95.98 s\n",
      "time to predict: 1.35 s\n",
      "total: 97.33 s\n"
     ]
    }
   ],
   "source": [
    "accuracy = accuracy_score(y_test, y_predictions)\n",
    "recall = recall_score(y_test, y_predictions, average='weighted')\n",
    "precision = precision_score(y_test, y_predictions, average='weighted')\n",
    "f1s = f1_score(y_test, y_predictions, average='weighted')\n",
    "\n",
    "print(\"Accuracy: \"+ \"{:.2%}\".format(accuracy))\n",
    "print(\"Recall: \"+ \"{:.2%}\".format(recall))\n",
    "print(\"Precision: \"+ \"{:.2%}\".format(precision))\n",
    "print(\"F1-Score: \"+ \"{:.2%}\".format(f1s))\n",
    "print(\"time to train: \"+ \"{:.2f}\".format(end_train-start)+\" s\")\n",
    "print(\"time to predict: \"+\"{:.2f}\".format(end_predict-end_train)+\" s\")\n",
    "print(\"total: \"+\"{:.2f}\".format(end_predict-start)+\" s\")\n",
    "model_performance.loc['Random Forest'] = [accuracy, recall, precision, f1s,end_train-start,end_predict-end_train,end_predict-start]"
   ]
  },
  {
   "cell_type": "code",
   "execution_count": 126,
   "id": "dbc5613e",
   "metadata": {},
   "outputs": [
    {
     "data": {
      "image/png": "[encoded data removed]",
      "text/plain": [
       "<Figure size 500x500 with 2 Axes>"
      ]
     },
     "metadata": {
      "image/png": {
       "height": 408,
       "width": 460
      }
     },
     "output_type": "display_data"
    }
   ],
   "source": [
    "plt.rcParams['figure.figsize']=5,5 \n",
    "sns.set_style(\"white\")\n",
    "ConfusionMatrixDisplay.from_estimator(model, X_test, y_test, cmap=plt.cm.Blues)  \n",
    "plt.show()"
   ]
  },
  {
   "cell_type": "code",
   "execution_count": 127,
   "id": "37419231",
   "metadata": {},
   "outputs": [],
   "source": [
    "from sklearn.decomposition import PCA\n",
    "pca = PCA(n_components=3)\n",
    "data_3d = pca.fit_transform(StandardScaler().fit_transform(\n",
    "    all_data.select_dtypes(exclude='object').drop(columns=['dtcpb', 'stcpb'])))\n",
    "\n",
    "mask = all_data.label==1"
   ]
  },
  {
   "cell_type": "code",
   "execution_count": 128,
   "id": "88810d7d",
   "metadata": {},
   "outputs": [
    {
     "data": {
      "application/javascript": "/* Put everything inside the global mpl namespace */\n/* global mpl */\nwindow.mpl = {};\n\nmpl.get_websocket_type = function () {\n    if (typeof WebSocket !== 'undefined') {\n        return WebSocket;\n    } else if (typeof MozWebSocket !== 'undefined') {\n        return MozWebSocket;\n    } else {\n        alert(\n            'Your browser does not have WebSocket support. ' +\n                'Please try Chrome, Safari or Firefox ≥ 6. ' +\n                'Firefox 4 and 5 are also supported but you ' +\n                'have to enable WebSockets in about:config.'\n        );\n    }\n};\n\nmpl.figure = function (figure_id, websocket, ondownload, parent_element) {\n    this.id = figure_id;\n\n    this.ws = websocket;\n\n    this.supports_binary = this.ws.binaryType !== undefined;\n\n    if (!this.supports_binary) {\n        var warnings = document.getElementById('mpl-warnings');\n        if (warnings) {\n            warnings.style.display = 'block';\n            warnings.textContent =\n                'This browser does not support binary websocket messages. ' +\n                'Performance may be slow.';\n        }\n    }\n\n    this.imageObj = new Image();\n\n    this.context = undefined;\n    this.message = undefined;\n    this.canvas = undefined;\n    this.rubberband_canvas = undefined;\n    this.rubberband_context = undefined;\n    this.format_dropdown = undefined;\n\n    this.image_mode = 'full';\n\n    this.root = document.createElement('div');\n    this.root.setAttribute('style', 'display: inline-block');\n    this._root_extra_style(this.root);\n\n    parent_element.appendChild(this.root);\n\n    this._init_header(this);\n    this._init_canvas(this);\n    this._init_toolbar(this);\n\n    var fig = this;\n\n    this.waiting = false;\n\n    this.ws.onopen = function () {\n        fig.send_message('supports_binary', { value: fig.supports_binary });\n        fig.send_message('send_image_mode', {});\n        if (fig.ratio !== 1) {\n            fig.send_message('set_device_pixel_ratio', {\n                device_pixel_ratio: fig.ratio,\n            });\n        }\n        fig.send_message('refresh', {});\n    };\n\n    this.imageObj.onload = function () {\n        if (fig.image_mode === 'full') {\n            // Full images could contain transparency (where diff images\n            // almost always do), so we need to clear the canvas so that\n            // there is no ghosting.\n            fig.context.clearRect(0, 0, fig.canvas.width, fig.canvas.height);\n        }\n        fig.context.drawImage(fig.imageObj, 0, 0);\n    };\n\n    this.imageObj.onunload = function () {\n        fig.ws.close();\n    };\n\n    this.ws.onmessage = this._make_on_message_function(this);\n\n    this.ondownload = ondownload;\n};\n\nmpl.figure.prototype._init_header = function () {\n    var titlebar = document.createElement('div');\n    titlebar.classList =\n        'ui-dialog-titlebar ui-widget-header ui-corner-all ui-helper-clearfix';\n    var titletext = document.createElement('div');\n    titletext.classList = 'ui-dialog-title';\n    titletext.setAttribute(\n        'style',\n        'width: 100%; text-align: center; padding: 3px;'\n    );\n    titlebar.appendChild(titletext);\n    this.root.appendChild(titlebar);\n    this.header = titletext;\n};\n\nmpl.figure.prototype._canvas_extra_style = function (_canvas_div) {};\n\nmpl.figure.prototype._root_extra_style = function (_canvas_div) {};\n\nmpl.figure.prototype._init_canvas = function () {\n    var fig = this;\n\n    var canvas_div = (this.canvas_div = document.createElement('div'));\n    canvas_div.setAttribute('tabindex', '0');\n    canvas_div.setAttribute(\n        'style',\n        'border: 1px solid #ddd;' +\n            'box-sizing: content-box;' +\n            'clear: both;' +\n            'min-height: 1px;' +\n            'min-width: 1px;' +\n            'outline: 0;' +\n            'overflow: hidden;' +\n            'position: relative;' +\n            'resize: both;' +\n            'z-index: 2;'\n    );\n\n    function on_keyboard_event_closure(name) {\n        return function (event) {\n            return fig.key_event(event, name);\n        };\n    }\n\n    canvas_div.addEventListener(\n        'keydown',\n        on_keyboard_event_closure('key_press')\n    );\n    canvas_div.addEventListener(\n        'keyup',\n        on_keyboard_event_closure('key_release')\n    );\n\n    this._canvas_extra_style(canvas_div);\n    this.root.appendChild(canvas_div);\n\n    var canvas = (this.canvas = document.createElement('canvas'));\n    canvas.classList.add('mpl-canvas');\n    canvas.setAttribute(\n        'style',\n        'box-sizing: content-box;' +\n            'pointer-events: none;' +\n            'position: relative;' +\n            'z-index: 0;'\n    );\n\n    this.context = canvas.getContext('2d');\n\n    var backingStore =\n        this.context.backingStorePixelRatio ||\n        this.context.webkitBackingStorePixelRatio ||\n        this.context.mozBackingStorePixelRatio ||\n        this.context.msBackingStorePixelRatio ||\n        this.context.oBackingStorePixelRatio ||\n        this.context.backingStorePixelRatio ||\n        1;\n\n    this.ratio = (window.devicePixelRatio || 1) / backingStore;\n\n    var rubberband_canvas = (this.rubberband_canvas = document.createElement(\n        'canvas'\n    ));\n    rubberband_canvas.setAttribute(\n        'style',\n        'box-sizing: content-box;' +\n            'left: 0;' +\n            'pointer-events: none;' +\n            'position: absolute;' +\n            'top: 0;' +\n            'z-index: 1;'\n    );\n\n    // Apply a ponyfill if ResizeObserver is not implemented by browser.\n    if (this.ResizeObserver === undefined) {\n        if (window.ResizeObserver !== undefined) {\n            this.ResizeObserver = window.ResizeObserver;\n        } else {\n            var obs = _JSXTOOLS_RESIZE_OBSERVER({});\n            this.ResizeObserver = obs.ResizeObserver;\n        }\n    }\n\n    this.resizeObserverInstance = new this.ResizeObserver(function (entries) {\n        // There's no need to resize if the WebSocket is not connected:\n        // - If it is still connecting, then we will get an initial resize from\n        //   Python once it connects.\n        // - If it has disconnected, then resizing will clear the canvas and\n        //   never get anything back to refill it, so better to not resize and\n        //   keep something visible.\n        if (fig.ws.readyState != 1) {\n            return;\n        }\n        var nentries = entries.length;\n        for (var i = 0; i < nentries; i++) {\n            var entry = entries[i];\n            var width, height;\n            if (entry.contentBoxSize) {\n                if (entry.contentBoxSize instanceof Array) {\n                    // Chrome 84 implements new version of spec.\n                    width = entry.contentBoxSize[0].inlineSize;\n                    height = entry.contentBoxSize[0].blockSize;\n                } else {\n                    // Firefox implements old version of spec.\n                    width = entry.contentBoxSize.inlineSize;\n                    height = entry.contentBoxSize.blockSize;\n                }\n            } else {\n                // Chrome <84 implements even older version of spec.\n                width = entry.contentRect.width;\n                height = entry.contentRect.height;\n            }\n\n            // Keep the size of the canvas and rubber band canvas in sync with\n            // the canvas container.\n            if (entry.devicePixelContentBoxSize) {\n                // Chrome 84 implements new version of spec.\n                canvas.setAttribute(\n                    'width',\n                    entry.devicePixelContentBoxSize[0].inlineSize\n                );\n                canvas.setAttribute(\n                    'height',\n                    entry.devicePixelContentBoxSize[0].blockSize\n                );\n            } else {\n                canvas.setAttribute('width', width * fig.ratio);\n                canvas.setAttribute('height', height * fig.ratio);\n            }\n            /* This rescales the canvas back to display pixels, so that it\n             * appears correct on HiDPI screens. */\n            canvas.style.width = width + 'px';\n            canvas.style.height = height + 'px';\n\n            rubberband_canvas.setAttribute('width', width);\n            rubberband_canvas.setAttribute('height', height);\n\n            // And update the size in Python. We ignore the initial 0/0 size\n            // that occurs as the element is placed into the DOM, which should\n            // otherwise not happen due to the minimum size styling.\n            if (width != 0 && height != 0) {\n                fig.request_resize(width, height);\n            }\n        }\n    });\n    this.resizeObserverInstance.observe(canvas_div);\n\n    function on_mouse_event_closure(name) {\n        /* User Agent sniffing is bad, but WebKit is busted:\n         * https://bugs.webkit.org/show_bug.cgi?id=144526\n         * https://bugs.webkit.org/show_bug.cgi?id=181818\n         * The worst that happens here is that they get an extra browser\n         * selection when dragging, if this check fails to catch them.\n         */\n        var UA = navigator.userAgent;\n        var isWebKit = /AppleWebKit/.test(UA) && !/Chrome/.test(UA);\n        if(isWebKit) {\n            return function (event) {\n                /* This prevents the web browser from automatically changing to\n                 * the text insertion cursor when the button is pressed. We\n                 * want to control all of the cursor setting manually through\n                 * the 'cursor' event from matplotlib */\n                event.preventDefault()\n                return fig.mouse_event(event, name);\n            };\n        } else {\n            return function (event) {\n                return fig.mouse_event(event, name);\n            };\n        }\n    }\n\n    canvas_div.addEventListener(\n        'mousedown',\n        on_mouse_event_closure('button_press')\n    );\n    canvas_div.addEventListener(\n        'mouseup',\n        on_mouse_event_closure('button_release')\n    );\n    canvas_div.addEventListener(\n        'dblclick',\n        on_mouse_event_closure('dblclick')\n    );\n    // Throttle sequential mouse events to 1 every 20ms.\n    canvas_div.addEventListener(\n        'mousemove',\n        on_mouse_event_closure('motion_notify')\n    );\n\n    canvas_div.addEventListener(\n        'mouseenter',\n        on_mouse_event_closure('figure_enter')\n    );\n    canvas_div.addEventListener(\n        'mouseleave',\n        on_mouse_event_closure('figure_leave')\n    );\n\n    canvas_div.addEventListener('wheel', function (event) {\n        if (event.deltaY < 0) {\n            event.step = 1;\n        } else {\n            event.step = -1;\n        }\n        on_mouse_event_closure('scroll')(event);\n    });\n\n    canvas_div.appendChild(canvas);\n    canvas_div.appendChild(rubberband_canvas);\n\n    this.rubberband_context = rubberband_canvas.getContext('2d');\n    this.rubberband_context.strokeStyle = '#000000';\n\n    this._resize_canvas = function (width, height, forward) {\n        if (forward) {\n            canvas_div.style.width = width + 'px';\n            canvas_div.style.height = height + 'px';\n        }\n    };\n\n    // Disable right mouse context menu.\n    canvas_div.addEventListener('contextmenu', function (_e) {\n        event.preventDefault();\n        return false;\n    });\n\n    function set_focus() {\n        canvas.focus();\n        canvas_div.focus();\n    }\n\n    window.setTimeout(set_focus, 100);\n};\n\nmpl.figure.prototype._init_toolbar = function () {\n    var fig = this;\n\n    var toolbar = document.createElement('div');\n    toolbar.classList = 'mpl-toolbar';\n    this.root.appendChild(toolbar);\n\n    function on_click_closure(name) {\n        return function (_event) {\n            return fig.toolbar_button_onclick(name);\n        };\n    }\n\n    function on_mouseover_closure(tooltip) {\n        return function (event) {\n            if (!event.currentTarget.disabled) {\n                return fig.toolbar_button_onmouseover(tooltip);\n            }\n        };\n    }\n\n    fig.buttons = {};\n    var buttonGroup = document.createElement('div');\n    buttonGroup.classList = 'mpl-button-group';\n    for (var toolbar_ind in mpl.toolbar_items) {\n        var name = mpl.toolbar_items[toolbar_ind][0];\n        var tooltip = mpl.toolbar_items[toolbar_ind][1];\n        var image = mpl.toolbar_items[toolbar_ind][2];\n        var method_name = mpl.toolbar_items[toolbar_ind][3];\n\n        if (!name) {\n            /* Instead of a spacer, we start a new button group. */\n            if (buttonGroup.hasChildNodes()) {\n                toolbar.appendChild(buttonGroup);\n            }\n            buttonGroup = document.createElement('div');\n            buttonGroup.classList = 'mpl-button-group';\n            continue;\n        }\n\n        var button = (fig.buttons[name] = document.createElement('button'));\n        button.classList = 'mpl-widget';\n        button.setAttribute('role', 'button');\n        button.setAttribute('aria-disabled', 'false');\n        button.addEventListener('click', on_click_closure(method_name));\n        button.addEventListener('mouseover', on_mouseover_closure(tooltip));\n\n        var icon_img = document.createElement('img');\n        icon_img.src = '_images/' + image + '.png';\n        icon_img.srcset = '_images/' + image + '_large.png 2x';\n        icon_img.alt = tooltip;\n        button.appendChild(icon_img);\n\n        buttonGroup.appendChild(button);\n    }\n\n    if (buttonGroup.hasChildNodes()) {\n        toolbar.appendChild(buttonGroup);\n    }\n\n    var fmt_picker = document.createElement('select');\n    fmt_picker.classList = 'mpl-widget';\n    toolbar.appendChild(fmt_picker);\n    this.format_dropdown = fmt_picker;\n\n    for (var ind in mpl.extensions) {\n        var fmt = mpl.extensions[ind];\n        var option = document.createElement('option');\n        option.selected = fmt === mpl.default_extension;\n        option.innerHTML = fmt;\n        fmt_picker.appendChild(option);\n    }\n\n    var status_bar = document.createElement('span');\n    status_bar.classList = 'mpl-message';\n    toolbar.appendChild(status_bar);\n    this.message = status_bar;\n};\n\nmpl.figure.prototype.request_resize = function (x_pixels, y_pixels) {\n    // Request matplotlib to resize the figure. Matplotlib will then trigger a resize in the client,\n    // which will in turn request a refresh of the image.\n    this.send_message('resize', { width: x_pixels, height: y_pixels });\n};\n\nmpl.figure.prototype.send_message = function (type, properties) {\n    properties['type'] = type;\n    properties['figure_id'] = this.id;\n    this.ws.send(JSON.stringify(properties));\n};\n\nmpl.figure.prototype.send_draw_message = function () {\n    if (!this.waiting) {\n        this.waiting = true;\n        this.ws.send(JSON.stringify({ type: 'draw', figure_id: this.id }));\n    }\n};\n\nmpl.figure.prototype.handle_save = function (fig, _msg) {\n    var format_dropdown = fig.format_dropdown;\n    var format = format_dropdown.options[format_dropdown.selectedIndex].value;\n    fig.ondownload(fig, format);\n};\n\nmpl.figure.prototype.handle_resize = function (fig, msg) {\n    var size = msg['size'];\n    if (size[0] !== fig.canvas.width || size[1] !== fig.canvas.height) {\n        fig._resize_canvas(size[0], size[1], msg['forward']);\n        fig.send_message('refresh', {});\n    }\n};\n\nmpl.figure.prototype.handle_rubberband = function (fig, msg) {\n    var x0 = msg['x0'] / fig.ratio;\n    var y0 = (fig.canvas.height - msg['y0']) / fig.ratio;\n    var x1 = msg['x1'] / fig.ratio;\n    var y1 = (fig.canvas.height - msg['y1']) / fig.ratio;\n    x0 = Math.floor(x0) + 0.5;\n    y0 = Math.floor(y0) + 0.5;\n    x1 = Math.floor(x1) + 0.5;\n    y1 = Math.floor(y1) + 0.5;\n    var min_x = Math.min(x0, x1);\n    var min_y = Math.min(y0, y1);\n    var width = Math.abs(x1 - x0);\n    var height = Math.abs(y1 - y0);\n\n    fig.rubberband_context.clearRect(\n        0,\n        0,\n        fig.canvas.width / fig.ratio,\n        fig.canvas.height / fig.ratio\n    );\n\n    fig.rubberband_context.strokeRect(min_x, min_y, width, height);\n};\n\nmpl.figure.prototype.handle_figure_label = function (fig, msg) {\n    // Updates the figure title.\n    fig.header.textContent = msg['label'];\n};\n\nmpl.figure.prototype.handle_cursor = function (fig, msg) {\n    fig.canvas_div.style.cursor = msg['cursor'];\n};\n\nmpl.figure.prototype.handle_message = function (fig, msg) {\n    fig.message.textContent = msg['message'];\n};\n\nmpl.figure.prototype.handle_draw = function (fig, _msg) {\n    // Request the server to send over a new figure.\n    fig.send_draw_message();\n};\n\nmpl.figure.prototype.handle_image_mode = function (fig, msg) {\n    fig.image_mode = msg['mode'];\n};\n\nmpl.figure.prototype.handle_history_buttons = function (fig, msg) {\n    for (var key in msg) {\n        if (!(key in fig.buttons)) {\n            continue;\n        }\n        fig.buttons[key].disabled = !msg[key];\n        fig.buttons[key].setAttribute('aria-disabled', !msg[key]);\n    }\n};\n\nmpl.figure.prototype.handle_navigate_mode = function (fig, msg) {\n    if (msg['mode'] === 'PAN') {\n        fig.buttons['Pan'].classList.add('active');\n        fig.buttons['Zoom'].classList.remove('active');\n    } else if (msg['mode'] === 'ZOOM') {\n        fig.buttons['Pan'].classList.remove('active');\n        fig.buttons['Zoom'].classList.add('active');\n    } else {\n        fig.buttons['Pan'].classList.remove('active');\n        fig.buttons['Zoom'].classList.remove('active');\n    }\n};\n\nmpl.figure.prototype.updated_canvas_event = function () {\n    // Called whenever the canvas gets updated.\n    this.send_message('ack', {});\n};\n\n// A function to construct a web socket function for onmessage handling.\n// Called in the figure constructor.\nmpl.figure.prototype._make_on_message_function = function (fig) {\n    return function socket_on_message(evt) {\n        if (evt.data instanceof Blob) {\n            var img = evt.data;\n            if (img.type !== 'image/png') {\n                /* FIXME: We get \"Resource interpreted as Image but\n                 * transferred with MIME type text/plain:\" errors on\n                 * Chrome.  But how to set the MIME type?  It doesn't seem\n                 * to be part of the websocket stream */\n                img.type = 'image/png';\n            }\n\n            /* Free the memory for the previous frames */\n            if (fig.imageObj.src) {\n                (window.URL || window.webkitURL).revokeObjectURL(\n                    fig.imageObj.src\n                );\n            }\n\n            fig.imageObj.src = (window.URL || window.webkitURL).createObjectURL(\n                img\n            );\n            fig.updated_canvas_event();\n            fig.waiting = false;\n            return;\n        } else if (\n            typeof evt.data === 'string' &&\n            evt.data.slice(0, 21) === 'data:image/png;base64'\n        ) {\n            fig.imageObj.src = evt.data;\n            fig.updated_canvas_event();\n            fig.waiting = false;\n            return;\n        }\n\n        var msg = JSON.parse(evt.data);\n        var msg_type = msg['type'];\n\n        // Call the  \"handle_{type}\" callback, which takes\n        // the figure and JSON message as its only arguments.\n        try {\n            var callback = fig['handle_' + msg_type];\n        } catch (e) {\n            console.log(\n                \"No handler for the '%s' message type: \",\n                msg_type,\n                msg\n            );\n            return;\n        }\n\n        if (callback) {\n            try {\n                // console.log(\"Handling '%s' message: \", msg_type, msg);\n                callback(fig, msg);\n            } catch (e) {\n                console.log(\n                    \"Exception inside the 'handler_%s' callback:\",\n                    msg_type,\n                    e,\n                    e.stack,\n                    msg\n                );\n            }\n        }\n    };\n};\n\nfunction getModifiers(event) {\n    var mods = [];\n    if (event.ctrlKey) {\n        mods.push('ctrl');\n    }\n    if (event.altKey) {\n        mods.push('alt');\n    }\n    if (event.shiftKey) {\n        mods.push('shift');\n    }\n    if (event.metaKey) {\n        mods.push('meta');\n    }\n    return mods;\n}\n\n/*\n * return a copy of an object with only non-object keys\n * we need this to avoid circular references\n * https://stackoverflow.com/a/24161582/3208463\n */\nfunction simpleKeys(original) {\n    return Object.keys(original).reduce(function (obj, key) {\n        if (typeof original[key] !== 'object') {\n            obj[key] = original[key];\n        }\n        return obj;\n    }, {});\n}\n\nmpl.figure.prototype.mouse_event = function (event, name) {\n    if (name === 'button_press') {\n        this.canvas.focus();\n        this.canvas_div.focus();\n    }\n\n    // from https://stackoverflow.com/q/1114465\n    var boundingRect = this.canvas.getBoundingClientRect();\n    var x = (event.clientX - boundingRect.left) * this.ratio;\n    var y = (event.clientY - boundingRect.top) * this.ratio;\n\n    this.send_message(name, {\n        x: x,\n        y: y,\n        button: event.button,\n        step: event.step,\n        buttons: event.buttons,\n        modifiers: getModifiers(event),\n        guiEvent: simpleKeys(event),\n    });\n\n    return false;\n};\n\nmpl.figure.prototype._key_event_extra = function (_event, _name) {\n    // Handle any extra behaviour associated with a key event\n};\n\nmpl.figure.prototype.key_event = function (event, name) {\n    // Prevent repeat events\n    if (name === 'key_press') {\n        if (event.key === this._key) {\n            return;\n        } else {\n            this._key = event.key;\n        }\n    }\n    if (name === 'key_release') {\n        this._key = null;\n    }\n\n    var value = '';\n    if (event.ctrlKey && event.key !== 'Control') {\n        value += 'ctrl+';\n    }\n    else if (event.altKey && event.key !== 'Alt') {\n        value += 'alt+';\n    }\n    else if (event.shiftKey && event.key !== 'Shift') {\n        value += 'shift+';\n    }\n\n    value += 'k' + event.key;\n\n    this._key_event_extra(event, name);\n\n    this.send_message(name, { key: value, guiEvent: simpleKeys(event) });\n    return false;\n};\n\nmpl.figure.prototype.toolbar_button_onclick = function (name) {\n    if (name === 'download') {\n        this.handle_save(this, null);\n    } else {\n        this.send_message('toolbar_button', { name: name });\n    }\n};\n\nmpl.figure.prototype.toolbar_button_onmouseover = function (tooltip) {\n    this.message.textContent = tooltip;\n};\n\n///////////////// REMAINING CONTENT GENERATED BY embed_js.py /////////////////\n// prettier-ignore\nvar _JSXTOOLS_RESIZE_OBSERVER=function(A){var t,i=new WeakMap,n=new WeakMap,a=new WeakMap,r=new WeakMap,o=new Set;function s(e){if(!(this instanceof s))throw new TypeError(\"Constructor requires 'new' operator\");i.set(this,e)}function h(){throw new TypeError(\"Function is not a constructor\")}function c(e,t,i,n){e=0 in arguments?Number(arguments[0]):0,t=1 in arguments?Number(arguments[1]):0,i=2 in arguments?Number(arguments[2]):0,n=3 in arguments?Number(arguments[3]):0,this.right=(this.x=this.left=e)+(this.width=i),this.bottom=(this.y=this.top=t)+(this.height=n),Object.freeze(this)}function d(){t=requestAnimationFrame(d);var s=new WeakMap,p=new Set;o.forEach((function(t){r.get(t).forEach((function(i){var r=t instanceof window.SVGElement,o=a.get(t),d=r?0:parseFloat(o.paddingTop),f=r?0:parseFloat(o.paddingRight),l=r?0:parseFloat(o.paddingBottom),u=r?0:parseFloat(o.paddingLeft),g=r?0:parseFloat(o.borderTopWidth),m=r?0:parseFloat(o.borderRightWidth),w=r?0:parseFloat(o.borderBottomWidth),b=u+f,F=d+l,v=(r?0:parseFloat(o.borderLeftWidth))+m,W=g+w,y=r?0:t.offsetHeight-W-t.clientHeight,E=r?0:t.offsetWidth-v-t.clientWidth,R=b+v,z=F+W,M=r?t.width:parseFloat(o.width)-R-E,O=r?t.height:parseFloat(o.height)-z-y;if(n.has(t)){var k=n.get(t);if(k[0]===M&&k[1]===O)return}n.set(t,[M,O]);var S=Object.create(h.prototype);S.target=t,S.contentRect=new c(u,d,M,O),s.has(i)||(s.set(i,[]),p.add(i)),s.get(i).push(S)}))})),p.forEach((function(e){i.get(e).call(e,s.get(e),e)}))}return s.prototype.observe=function(i){if(i instanceof window.Element){r.has(i)||(r.set(i,new Set),o.add(i),a.set(i,window.getComputedStyle(i)));var n=r.get(i);n.has(this)||n.add(this),cancelAnimationFrame(t),t=requestAnimationFrame(d)}},s.prototype.unobserve=function(i){if(i instanceof window.Element&&r.has(i)){var n=r.get(i);n.has(this)&&(n.delete(this),n.size||(r.delete(i),o.delete(i))),n.size||r.delete(i),o.size||cancelAnimationFrame(t)}},A.DOMRectReadOnly=c,A.ResizeObserver=s,A.ResizeObserverEntry=h,A}; // eslint-disable-line\nmpl.toolbar_items = [[\"Home\", \"Reset original view\", \"fa fa-home\", \"home\"], [\"Back\", \"Back to previous view\", \"fa fa-arrow-left\", \"back\"], [\"Forward\", \"Forward to next view\", \"fa fa-arrow-right\", \"forward\"], [\"\", \"\", \"\", \"\"], [\"Pan\", \"Left button pans, Right button zooms\\nx/y fixes axis, CTRL fixes aspect\", \"fa fa-arrows\", \"pan\"], [\"Zoom\", \"Zoom to rectangle\\nx/y fixes axis\", \"fa fa-square-o\", \"zoom\"], [\"\", \"\", \"\", \"\"], [\"Download\", \"Download plot\", \"fa fa-floppy-o\", \"download\"]];\n\nmpl.extensions = [\"eps\", \"jpeg\", \"pgf\", \"pdf\", \"png\", \"ps\", \"raw\", \"svg\", \"tif\", \"webp\"];\n\nmpl.default_extension = \"png\";/* global mpl */\n\nvar comm_websocket_adapter = function (comm) {\n    // Create a \"websocket\"-like object which calls the given IPython comm\n    // object with the appropriate methods. Currently this is a non binary\n    // socket, so there is still some room for performance tuning.\n    var ws = {};\n\n    ws.binaryType = comm.kernel.ws.binaryType;\n    ws.readyState = comm.kernel.ws.readyState;\n    function updateReadyState(_event) {\n        if (comm.kernel.ws) {\n            ws.readyState = comm.kernel.ws.readyState;\n        } else {\n            ws.readyState = 3; // Closed state.\n        }\n    }\n    comm.kernel.ws.addEventListener('open', updateReadyState);\n    comm.kernel.ws.addEventListener('close', updateReadyState);\n    comm.kernel.ws.addEventListener('error', updateReadyState);\n\n    ws.close = function () {\n        comm.close();\n    };\n    ws.send = function (m) {\n        //console.log('sending', m);\n        comm.send(m);\n    };\n    // Register the callback with on_msg.\n    comm.on_msg(function (msg) {\n        //console.log('receiving', msg['content']['data'], msg);\n        var data = msg['content']['data'];\n        if (data['blob'] !== undefined) {\n            data = {\n                data: new Blob(msg['buffers'], { type: data['blob'] }),\n            };\n        }\n        // Pass the mpl event to the overridden (by mpl) onmessage function.\n        ws.onmessage(data);\n    });\n    return ws;\n};\n\nmpl.mpl_figure_comm = function (comm, msg) {\n    // This is the function which gets called when the mpl process\n    // starts-up an IPython Comm through the \"matplotlib\" channel.\n\n    var id = msg.content.data.id;\n    // Get hold of the div created by the display call when the Comm\n    // socket was opened in Python.\n    var element = document.getElementById(id);\n    var ws_proxy = comm_websocket_adapter(comm);\n\n    function ondownload(figure, _format) {\n        window.open(figure.canvas.toDataURL());\n    }\n\n    var fig = new mpl.figure(id, ws_proxy, ondownload, element);\n\n    // Call onopen now - mpl needs it, as it is assuming we've passed it a real\n    // web socket which is closed, not our websocket->open comm proxy.\n    ws_proxy.onopen();\n\n    fig.parent_element = element;\n    fig.cell_info = mpl.find_output_cell(\"<div id='\" + id + \"'></div>\");\n    if (!fig.cell_info) {\n        console.error('Failed to find cell for figure', id, fig);\n        return;\n    }\n    fig.cell_info[0].output_area.element.on(\n        'cleared',\n        { fig: fig },\n        fig._remove_fig_handler\n    );\n};\n\nmpl.figure.prototype.handle_close = function (fig, msg) {\n    var width = fig.canvas.width / fig.ratio;\n    fig.cell_info[0].output_area.element.off(\n        'cleared',\n        fig._remove_fig_handler\n    );\n    fig.resizeObserverInstance.unobserve(fig.canvas_div);\n\n    // Update the output cell to use the data from the current canvas.\n    fig.push_to_output();\n    var dataURL = fig.canvas.toDataURL();\n    // Re-enable the keyboard manager in IPython - without this line, in FF,\n    // the notebook keyboard shortcuts fail.\n    IPython.keyboard_manager.enable();\n    fig.parent_element.innerHTML =\n        '<img src=\"' + dataURL + '\" width=\"' + width + '\">';\n    fig.close_ws(fig, msg);\n};\n\nmpl.figure.prototype.close_ws = function (fig, msg) {\n    fig.send_message('closing', msg);\n    // fig.ws.close()\n};\n\nmpl.figure.prototype.push_to_output = function (_remove_interactive) {\n    // Turn the data on the canvas into data in the output cell.\n    var width = this.canvas.width / this.ratio;\n    var dataURL = this.canvas.toDataURL();\n    this.cell_info[1]['text/html'] =\n        '<img src=\"' + dataURL + '\" width=\"' + width + '\">';\n};\n\nmpl.figure.prototype.updated_canvas_event = function () {\n    // Tell IPython that the notebook contents must change.\n    IPython.notebook.set_dirty(true);\n    this.send_message('ack', {});\n    var fig = this;\n    // Wait a second, then push the new image to the DOM so\n    // that it is saved nicely (might be nice to debounce this).\n    setTimeout(function () {\n        fig.push_to_output();\n    }, 1000);\n};\n\nmpl.figure.prototype._init_toolbar = function () {\n    var fig = this;\n\n    var toolbar = document.createElement('div');\n    toolbar.classList = 'btn-toolbar';\n    this.root.appendChild(toolbar);\n\n    function on_click_closure(name) {\n        return function (_event) {\n            return fig.toolbar_button_onclick(name);\n        };\n    }\n\n    function on_mouseover_closure(tooltip) {\n        return function (event) {\n            if (!event.currentTarget.disabled) {\n                return fig.toolbar_button_onmouseover(tooltip);\n            }\n        };\n    }\n\n    fig.buttons = {};\n    var buttonGroup = document.createElement('div');\n    buttonGroup.classList = 'btn-group';\n    var button;\n    for (var toolbar_ind in mpl.toolbar_items) {\n        var name = mpl.toolbar_items[toolbar_ind][0];\n        var tooltip = mpl.toolbar_items[toolbar_ind][1];\n        var image = mpl.toolbar_items[toolbar_ind][2];\n        var method_name = mpl.toolbar_items[toolbar_ind][3];\n\n        if (!name) {\n            /* Instead of a spacer, we start a new button group. */\n            if (buttonGroup.hasChildNodes()) {\n                toolbar.appendChild(buttonGroup);\n            }\n            buttonGroup = document.createElement('div');\n            buttonGroup.classList = 'btn-group';\n            continue;\n        }\n\n        button = fig.buttons[name] = document.createElement('button');\n        button.classList = 'btn btn-default';\n        button.href = '#';\n        button.title = name;\n        button.innerHTML = '<i class=\"fa ' + image + ' fa-lg\"></i>';\n        button.addEventListener('click', on_click_closure(method_name));\n        button.addEventListener('mouseover', on_mouseover_closure(tooltip));\n        buttonGroup.appendChild(button);\n    }\n\n    if (buttonGroup.hasChildNodes()) {\n        toolbar.appendChild(buttonGroup);\n    }\n\n    // Add the status bar.\n    var status_bar = document.createElement('span');\n    status_bar.classList = 'mpl-message pull-right';\n    toolbar.appendChild(status_bar);\n    this.message = status_bar;\n\n    // Add the close button to the window.\n    var buttongrp = document.createElement('div');\n    buttongrp.classList = 'btn-group inline pull-right';\n    button = document.createElement('button');\n    button.classList = 'btn btn-mini btn-primary';\n    button.href = '#';\n    button.title = 'Stop Interaction';\n    button.innerHTML = '<i class=\"fa fa-power-off icon-remove icon-large\"></i>';\n    button.addEventListener('click', function (_evt) {\n        fig.handle_close(fig, {});\n    });\n    button.addEventListener(\n        'mouseover',\n        on_mouseover_closure('Stop Interaction')\n    );\n    buttongrp.appendChild(button);\n    var titlebar = this.root.querySelector('.ui-dialog-titlebar');\n    titlebar.insertBefore(buttongrp, titlebar.firstChild);\n};\n\nmpl.figure.prototype._remove_fig_handler = function (event) {\n    var fig = event.data.fig;\n    if (event.target !== this) {\n        // Ignore bubbled events from children.\n        return;\n    }\n    fig.close_ws(fig, {});\n};\n\nmpl.figure.prototype._root_extra_style = function (el) {\n    el.style.boxSizing = 'content-box'; // override notebook setting of border-box.\n};\n\nmpl.figure.prototype._canvas_extra_style = function (el) {\n    // this is important to make the div 'focusable\n    el.setAttribute('tabindex', 0);\n    // reach out to IPython and tell the keyboard manager to turn it's self\n    // off when our div gets focus\n\n    // location in version 3\n    if (IPython.notebook.keyboard_manager) {\n        IPython.notebook.keyboard_manager.register_events(el);\n    } else {\n        // location in version 2\n        IPython.keyboard_manager.register_events(el);\n    }\n};\n\nmpl.figure.prototype._key_event_extra = function (event, _name) {\n    // Check for shift+enter\n    if (event.shiftKey && event.which === 13) {\n        this.canvas_div.blur();\n        // select the cell after this one\n        var index = IPython.notebook.find_cell_index(this.cell_info[0]);\n        IPython.notebook.select(index + 1);\n    }\n};\n\nmpl.figure.prototype.handle_save = function (fig, _msg) {\n    fig.ondownload(fig, null);\n};\n\nmpl.find_output_cell = function (html_output) {\n    // Return the cell and output element which can be found *uniquely* in the notebook.\n    // Note - this is a bit hacky, but it is done because the \"notebook_saving.Notebook\"\n    // IPython event is triggered only after the cells have been serialised, which for\n    // our purposes (turning an active figure into a static one), is too late.\n    var cells = IPython.notebook.get_cells();\n    var ncells = cells.length;\n    for (var i = 0; i < ncells; i++) {\n        var cell = cells[i];\n        if (cell.cell_type === 'code') {\n            for (var j = 0; j < cell.output_area.outputs.length; j++) {\n                var data = cell.output_area.outputs[j];\n                if (data.data) {\n                    // IPython >= 3 moved mimebundle to data attribute of output\n                    data = data.data;\n                }\n                if (data['text/html'] === html_output) {\n                    return [cell, data, j];\n                }\n            }\n        }\n    }\n};\n\n// Register the function which deals with the matplotlib target/channel.\n// The kernel may be null if the page has been refreshed.\nif (IPython.notebook.kernel !== null) {\n    IPython.notebook.kernel.comm_manager.register_target(\n        'matplotlib',\n        mpl.mpl_figure_comm\n    );\n}\n",
      "text/plain": [
       "<IPython.core.display.Javascript object>"
      ]
     },
     "metadata": {},
     "output_type": "display_data"
    },
    {
     "data": {
      "text/html": [
       "<div id='b53a4a56-1afe-491d-99e0-a629a9445c81'></div>"
      ],
      "text/plain": [
       "<IPython.core.display.HTML object>"
      ]
     },
     "metadata": {},
     "output_type": "display_data"
    }
   ],
   "source": [
    "%matplotlib notebook\n",
    "\n",
    "fig = plt.figure(figsize=(10, 7))\n",
    "ax = fig.add_subplot(111, projection='3d')\n",
    "\n",
    "ax.scatter(data_3d[mask, 0], data_3d[mask, 1], data_3d[mask, 2],\n",
    "           label='normal data', alpha=0.6)\n",
    "ax.scatter(data_3d[~mask, 0], data_3d[~mask, 1], data_3d[~mask, 2],\n",
    "           label='attack data', alpha=0.6)\n",
    "\n",
    "ax.set_xlabel('PC1')\n",
    "ax.set_ylabel('PC2')\n",
    "ax.set_zlabel('PC3')\n",
    "ax.legend()\n",
    "\n",
    "plt.show()\n"
   ]
  },
  {
   "cell_type": "code",
   "execution_count": 129,
   "id": "f6c8c3ff",
   "metadata": {},
   "outputs": [
    {
     "data": {
      "text/plain": [
       "array([0.39889197, 0.13239363, 0.09417054])"
      ]
     },
     "execution_count": 129,
     "metadata": {},
     "output_type": "execute_result"
    }
   ],
   "source": [
    "pca.explained_variance_ratio_"
   ]
  },
  {
   "cell_type": "code",
   "execution_count": null,
   "id": "544175d9",
   "metadata": {},
   "outputs": [],
   "source": []
  }
 ],
 "metadata": {
  "kernelspec": {
   "display_name": "myenv (3.13.2)",
   "language": "python",
   "name": "python3"
  },
  "language_info": {
   "codemirror_mode": {
    "name": "ipython",
    "version": 3
   },
   "file_extension": ".py",
   "mimetype": "text/x-python",
   "name": "python",
   "nbconvert_exporter": "python",
   "pygments_lexer": "ipython3",
   "version": "3.13.2"
  }
 },
 "nbformat": 4,
 "nbformat_minor": 5
}
